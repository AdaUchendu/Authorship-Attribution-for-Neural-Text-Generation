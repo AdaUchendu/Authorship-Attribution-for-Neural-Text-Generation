{
 "cells": [
  {
   "cell_type": "code",
   "execution_count": 1,
   "metadata": {},
   "outputs": [],
   "source": [
    "import pandas as pd\n",
    "import numpy as np\n"
   ]
  },
  {
   "cell_type": "markdown",
   "metadata": {},
   "source": [
    "# Load Datasets"
   ]
  },
  {
   "cell_type": "code",
   "execution_count": 2,
   "metadata": {},
   "outputs": [],
   "source": [
    "ctrl = pd.read_csv('Ctrl_generation.csv')\n"
   ]
  },
  {
   "cell_type": "code",
   "execution_count": 3,
   "metadata": {},
   "outputs": [],
   "source": [
    "ctrl = pd.read_csv('Ctrl_generation.csv')\n",
    "gpt = pd.read_csv('GPT_generation.csv')\n",
    "gpt2 = pd.read_csv('gpt2_generate.csv')\n",
    "\n",
    "grover = pd.read_csv('Grover_Generate.csv')\n",
    "xlm = pd.read_csv('xlm_generation.csv')\n",
    "xlnet = pd.read_csv('xlnet_generation.csv')\n",
    "\n",
    "pplm = pd.read_csv('pplm.csv')\n",
    "human = pd.read_csv('processed_data.csv')\n",
    "em_lm = pd.read_csv('generation_em_lm.csv')\n",
    "\n",
    "titles = pd.read_csv('Titles.csv')"
   ]
  },
  {
   "cell_type": "code",
   "execution_count": 4,
   "metadata": {},
   "outputs": [
    {
     "data": {
      "text/plain": [
       "\"Social media use may harm teens' mental health by disrupting positive activities, study says\""
      ]
     },
     "execution_count": 4,
     "metadata": {},
     "output_type": "execute_result"
    }
   ],
   "source": [
    "titles['Title'][427]"
   ]
  },
  {
   "cell_type": "code",
   "execution_count": 4,
   "metadata": {},
   "outputs": [
    {
     "data": {
      "text/plain": [
       "'[\\'Social media use may harm teens\\\\\\' mental health by disrupting positive activities, study says. ()?//2/1 pm “Hello! Hey!” and the sound of a car running in front or behind you are not necessarily your best ideas for stimulating brain activity while driving around town on an evening night at work; however they can be fun distractions when you have to do something that requires some sort if concentration during those long hours after dark with no one else home but yourself as well as being a great way out from having to think about anything serious because it is just someone who wants what we want right now so let us go get them whatever our problem might really even involve which usually involves getting up early before dawn going into traffic all over city streets trying desperately enough to find their elusive object yet still having time left until lunch hour where everyone has gone back inside making dinner then heading off again once more onto busy cities roads looking vainly everywhere hoping somehow this person will turn themselves himself down instead of letting me go give him my prize without his permission either I am too tired already maybe he does care how much money there isn’t any other way though anyway lets see here goes why people like these things\"<eop><eod> The first thing anyone thinks upon hearing A-bomb is the bomb itself: It is nothing less than a massive explosive device designed specifically only against the human body—a weapon intended solely toward killing humans within its range regardless of whether such victims were innocent bystander suspects seeking shelter under a building roof alone through storm clouds swirling above Manhattan City Center amidst raging street traffic outside New York City Transit Station or perhaps terrorists attempting to kill Americans abroad aboard planes carrying American citizens traveling overseas via air travel services offered exclusively towards passenger aircraft passengers flying internationally utilizing commercial airlines operating exclusively alongside United States government owned airports serving international flights primarily directed directly away travelers from America residing elsewhere throughout Europe including Germany Italy France Spain Portugal Greece Turkey Bulgaria Romania Yugoslavia Serbia Montenegro Croatia Macedonia Albania and Kosovo respectively designated as sovereign states representing the entire European Union comprising countries and territories located worldwide currently occupied predominantly between 1914–1918 along with several independent nations currently occupying territories formerly held previously entirely jointly together among the member states of the EU namely Austria, Czechoslovakia, Hungary, Latvia, Lithuania, Estonia, Malta, Cyprus Slovakia Slovenia Ireland, Luxembourg Netherlands Finland Sweden Denmark Britain Switzerland Belgium Iceland Norway Liechtenstein Gibraltar Monaco, Cyprus Malta, Wales Poland Ukraine Russia Belarus Slovak Republic Czech Kingdom, Slovakian Republic Scotland Georgia Armenia, Azerbaijan Israel, Northern Territory Australia South Africa Paraguay Uruguay Peru Argentina Brazil India China, Mexico Tanzania Morocco, Tunisia, Syria Lebanon, Libya Senegal Uganda\\']'"
      ]
     },
     "execution_count": 4,
     "metadata": {},
     "output_type": "execute_result"
    }
   ],
   "source": [
    "xlnet['Generation'][427]"
   ]
  },
  {
   "cell_type": "code",
   "execution_count": null,
   "metadata": {},
   "outputs": [],
   "source": []
  },
  {
   "cell_type": "code",
   "execution_count": null,
   "metadata": {},
   "outputs": [],
   "source": []
  },
  {
   "cell_type": "code",
   "execution_count": 5,
   "metadata": {},
   "outputs": [],
   "source": [
    "human = human['Articles']\n",
    "\n",
    "human = pd.DataFrame({'Generation': list(human)})"
   ]
  },
  {
   "cell_type": "code",
   "execution_count": 6,
   "metadata": {},
   "outputs": [],
   "source": [
    "ctrl = ctrl[['Generation']]\n",
    "gpt = gpt[['Generation']]\n",
    "gpt2 = gpt2[['Generation']]\n",
    "\n",
    "grover = grover[['Generation']]\n",
    "xlm = xlm[['Generation']]\n",
    "xlnet = xlnet[['Generation']]\n",
    "\n",
    "pplm = pplm[['Generation']]\n",
    "human = human[['Generation']]\n",
    "em_lm = em_lm[['Generation']]"
   ]
  },
  {
   "cell_type": "code",
   "execution_count": 7,
   "metadata": {},
   "outputs": [],
   "source": [
    "ctrl['label'] = 'ctrl' #1066\n",
    "gpt['label'] = 'gpt'   #2132\n",
    "gpt2['label'] = 'gpt2' #3198\n",
    "\n",
    "grover['label'] = 'grover' #4264\n",
    "xlm['label'] = 'xlm'       #5330\n",
    "xlnet['label'] = 'xlnet'   #6396\n",
    "\n",
    "pplm['label'] = 'pplm'    #7462\n",
    "human['label'] = 'human'  #8528\n",
    "em_lm['label'] = 'fair'   #"
   ]
  },
  {
   "cell_type": "markdown",
   "metadata": {},
   "source": [
    "# Data Preparation and Cleaning "
   ]
  },
  {
   "cell_type": "code",
   "execution_count": 8,
   "metadata": {},
   "outputs": [],
   "source": [
    "def add_title(gen):\n",
    "    new_text = []\n",
    "    for i in range(len(gen)):\n",
    "        new_text.append( titles['Title'][i] + \" \" + gen[i])\n",
    "        \n",
    "    return new_text"
   ]
  },
  {
   "cell_type": "code",
   "execution_count": 10,
   "metadata": {},
   "outputs": [],
   "source": [
    "import json \n"
   ]
  },
  {
   "cell_type": "code",
   "execution_count": 11,
   "metadata": {},
   "outputs": [],
   "source": [
    "import re\n",
    "from cleantext import clean\n",
    "\n",
    "def clean_individual_texts(data):\n",
    "    gen_text = []\n",
    "\n",
    "    for i in data['Generation']:\n",
    "#         words = ''.join([str(elem) for elem in i]) \n",
    "#         words = words.split()\n",
    "        gen_text.append(\"\".join(eval(i)))\n",
    "        \n",
    "    \n",
    "    new_gen = []\n",
    "    for i in gen_text:\n",
    "#         ans = re.sub('[^A-Za-z0-9]+', \" \", str(i)) \n",
    "        ans = re.sub('<unk>', \" \", str(i))\n",
    "        ans = re.sub(\"\\'\\'\", ' ', str(ans))\n",
    "        ans = re.sub(\"\\n\", ' ', str(ans))\n",
    "        ans = re.sub(\" \\ \", ' ', str(ans) )\n",
    "        ans = re.sub('<UNK>', \" \", str(ans))\n",
    "        ans = re.sub('News', \" \", str(ans))\n",
    "        ans = re.sub('<|endoftext|>', \" \", str(ans))\n",
    "        ans = re.sub('<eos>', \" \", str(ans))\n",
    "        ans = re.sub('<eod>', \" \", str(ans))\n",
    "        ans = re.sub('<eop>', \" \", str(ans))\n",
    "#         ans = re.sub('CNN', \" \", str(ans))\n",
    "        \n",
    "        new_gen.append(clean(ans.replace('\\n', ' ').replace('\\r', '')))\n",
    "\n",
    "    return pd.DataFrame({'Generation': new_gen, 'label': data['label']})"
   ]
  },
  {
   "cell_type": "code",
   "execution_count": 12,
   "metadata": {},
   "outputs": [],
   "source": [
    "ctrl = clean_individual_texts(ctrl)\n"
   ]
  },
  {
   "cell_type": "code",
   "execution_count": 13,
   "metadata": {},
   "outputs": [],
   "source": [
    "# ctrl = clean_individual_texts(ctrl)\n",
    "xlm = clean_individual_texts(xlm)\n",
    "xlnet = clean_individual_texts(xlnet)\n",
    "gpt = clean_individual_texts(gpt)\n",
    "grover = clean_individual_texts(grover)\n",
    "\n",
    "gpt2 = clean_individual_texts(gpt2)\n"
   ]
  },
  {
   "cell_type": "code",
   "execution_count": 14,
   "metadata": {},
   "outputs": [],
   "source": [
    "import re\n",
    "from cleantext import clean\n",
    "\n",
    "def clean_individual_texts(data):\n",
    "   \n",
    "    new_gen = []\n",
    "    for i in list(data['Generation']):\n",
    "#         ans = re.sub('[^A-Za-z0-9]+', \" \", str(i)) \n",
    "        ans = re.sub('<unk>', \" \", str(i))\n",
    "        ans = re.sub(\"\\'\\'\", ' ', str(ans))\n",
    "        ans = re.sub(\"\\n\", ' ', str(ans))\n",
    "        ans = re.sub(\" \\ \", ' ', str(ans) )\n",
    "        ans = re.sub('<UNK>', \" \", str(ans))\n",
    "        ans = re.sub('News', \" \", str(ans))\n",
    "        ans = re.sub('<|endoftext|>', \" \", str(ans))\n",
    "        ans = re.sub('<eos>', \" \", str(ans))\n",
    "        ans = re.sub('<eod>', \" \", str(ans))\n",
    "        ans = re.sub('<eop>', \" \", str(ans))\n",
    "        \n",
    "        new_gen.append(clean(ans.replace('\\n', ' ').replace('\\r', '')))\n",
    "\n",
    "    return pd.DataFrame({'Generation': new_gen, 'label': data['label']})"
   ]
  },
  {
   "cell_type": "code",
   "execution_count": 15,
   "metadata": {},
   "outputs": [],
   "source": [
    "\n",
    "\n",
    "pplm = clean_individual_texts(pplm)\n",
    "human = clean_individual_texts(human)\n",
    "\n",
    "fair = clean_individual_texts(em_lm)"
   ]
  },
  {
   "cell_type": "code",
   "execution_count": 16,
   "metadata": {},
   "outputs": [],
   "source": [
    "grover['Generation'] = add_title(grover['Generation'])\n",
    "human['Generation'] = add_title(human['Generation'])"
   ]
  },
  {
   "cell_type": "markdown",
   "metadata": {},
   "source": [
    "# Get Similar Texts"
   ]
  },
  {
   "cell_type": "code",
   "execution_count": 17,
   "metadata": {},
   "outputs": [
    {
     "data": {
      "text/plain": [
       "'the 30 most troubling lines from donald trump s latest news conference on coronavirus the 15 most disturbing lines from donald trump s latest news conference on coronavirus the 15 most disturbing lines from donald trump s latest news conference on coronavirus the 15 most disturbing lines from donald trump s latest news conference on coronavirus the 15 most disturbing lines from donald trump s latest news conference on coronavirus the 15 most disturbing lines from donald trump s latest news conference on coronavirus the 15 most disturbing lines from donald trump s latest news conference on coronavirus the 15 most disturbing lines from donald trump s latest news conference on coronavirus the 15 most disturbing lines from donald trump s latest news conference on coronavirus the 15 most disturbing lines from donald trump s latest news conference on coronavirus the 15 most disturbing lines from donald trump s latest news conference on coronavirus the 15 most disturbing lines from donald trump s latest news conference on coronavirus the 15 most disturbing lines from donald trump s latest news conference on coronavirus the 15 most disturbing lines from donald trump s latest news conference on coronavirus the 15 most disturbing lines from donald trump s latest news conference on coronavirus the 15 most disturbing lines from donald trump s latest news conference on coronavirus the 15 most disturbing lines from donald trump s latest news conference on coronavirus the 15 most disturbing lines from donald trump s latest news conference on coronavirus the 15 most disturbing lines from donald trump s latest news conference on coronavirus the 15 most disturbing lines from donald trump s latest news conference on coronavirus the 15 most disturbing lines from donald trump s latest news conference on coronavirus the 15 most disturbing lines from donald trump s latest news conference on coronavirus the 15 most disturbing lines from donald trump s latest news conference on coronavirus the 15 most disturbing lines from donald trump s latest news conference on coronavirus the 15 most disturbing lines from donald trump s latest news conference on coronavirus the 15 most disturbing lines from donald trump s latest news conference on coronavirus the 15 most disturbing lines from donald trump s latest news conference on coronavirus the 15 most disturbing lines from donald trump s latest news conference on coronavirus the 15 most disturbing lines from donald trump s latest news conference'"
      ]
     },
     "execution_count": 17,
     "metadata": {},
     "output_type": "execute_result"
    }
   ],
   "source": [
    "gpt2['Generation'][12]"
   ]
  },
  {
   "cell_type": "code",
   "execution_count": 18,
   "metadata": {},
   "outputs": [
    {
     "data": {
      "text/plain": [
       "'putin and xi are using the coronavirus crisis to extend their control across the world trump is struggling to keep up with them in a war that has been going on for decades now but he s still not strong enough i m sorry about your family it must be hard being so far away from home she said softly yes we re all very lonely here there wasn t much time before they were taken by the chinese government so it would have been nice if you could visit us more often yeah me too what do you think of china well you know how many people live at our house i mean there are plenty who share my views about the economy and trade which makes this place feel like one big happy family oh really her eyes widened as she looked around the room where did everyone else go when they left some went back into town others stayed behind after work or even moved out to another city most just took off for new york canada mexico maybe california you never see any families of yours anywhere except on tv shows wow that sounds great actually we ve got an old friend of mine living right next door she lives down the street but she ll probably want to come over sometime soon and check things out cool she smiled warmly so tell me about yourself well i guess i should start telling you about myself first he started talking quickly trying to get his mind off of everything and make sure he had made sense of everything he told her about himself and about his parents death and then a few days ago his brother died in afghanistan he finished speaking and watched her reaction closely okay let s hear it she asked alright so basically i grew up in chicago texas that explains why you look familiar she replied thoughtfully the name fits yep chicago the same guy who gave birth to me the man named michael he paused briefly as he thought about it that reminds me i need to ask you something though'"
      ]
     },
     "execution_count": 18,
     "metadata": {},
     "output_type": "execute_result"
    }
   ],
   "source": [
    "gpt['Generation'][10]"
   ]
  },
  {
   "cell_type": "code",
   "execution_count": 19,
   "metadata": {},
   "outputs": [
    {
     "data": {
      "text/plain": [
       "'social media use may harm teens mental health by disrupting positive activities study says 2 1 pm hello hey and the sound of a car running in front or behind you are not necessarily your best ideas for stimulating brain activity while driving around town on an evening night at work however they can be fun distractions when you have to do something that requires some sort if concentration during those long hours after dark with no one else home but yourself as well as being a great way out from having to think about anything serious because it is just someone who wants what we want right now so let us go get them whatever our problem might really even involve which usually involves getting up early before dawn going into traffic all over city streets trying desperately enough to find their elusive object yet still having time left until lunch hour where everyone has gone back inside making dinner then heading off again once more onto busy cities roads looking vainly everywhere hoping somehow this person will turn themselves himself down instead of letting me go give him my prize without his permission either i am too tired already maybe he does care how much money there isn t any other way though anyway lets see here goes why people like these things eop eod the first thing anyone thinks upon hearing a bomb is the bomb itself it is nothing less than a massive explosive device designed specifically only against the human body a weapon intended solely toward killing humans within its range regardless of whether such victims were innocent bystander suspects seeking shelter under a building roof alone through storm clouds swirling above manhattan city center amidst raging street traffic outside new york city transit station or perhaps terrorists attempting to kill americans abroad aboard planes carrying american citizens traveling overseas via air travel services offered exclusively towards passenger aircraft passengers flying internationally utilizing commercial airlines operating exclusively alongside united states government owned airports serving international flights primarily directed directly away travelers from america residing elsewhere throughout europe including germany italy france spain portugal greece turkey bulgaria romania yugoslavia serbia montenegro croatia macedonia albania and kosovo respectively designated as sovereign states representing the entire european union comprising countries and territories located worldwide currently occupied predominantly between 1914 1918 along with several independent nations currently occupying territories formerly held previously entirely jointly together among the member states of the eu namely austria czechoslovakia hungary latvia lithuania estonia malta cyprus slovakia slovenia ireland luxembourg netherlands finland sweden denmark britain switzerland belgium iceland norway liechtenstein gibraltar monaco cyprus malta wales poland ukraine russia belarus slovak republic czech kingdom slovakian republic scotland georgia armenia azerbaijan israel northern territory australia south africa paraguay uruguay peru argentina brazil india china mexico tanzania morocco tunisia syria lebanon libya senegal uganda'"
      ]
     },
     "execution_count": 19,
     "metadata": {},
     "output_type": "execute_result"
    }
   ],
   "source": [
    "xlnet['Generation'][427]"
   ]
  },
  {
   "cell_type": "code",
   "execution_count": null,
   "metadata": {},
   "outputs": [],
   "source": []
  },
  {
   "cell_type": "markdown",
   "metadata": {},
   "source": [
    "# Summary Statistics"
   ]
  },
  {
   "cell_type": "code",
   "execution_count": 22,
   "metadata": {},
   "outputs": [],
   "source": [
    "from nltk import tokenize\n",
    "from nltk.tokenize import word_tokenize"
   ]
  },
  {
   "cell_type": "code",
   "execution_count": 30,
   "metadata": {},
   "outputs": [],
   "source": [
    "def stat(data):\n",
    "    word = []\n",
    "    sent = []\n",
    "    \n",
    "    for i in data:\n",
    "        word.append(len(word_tokenize(i)))\n",
    "        sent.append(len(tokenize.sent_tokenize(i)))\n",
    "        \n",
    "    final_list = [x for x in word if (x > np.mean(word) - 2 * np.std(word))]\n",
    "    new_word = [x for x in final_list if (x < np.mean(word) + 2 * np.std(word))]\n",
    "    \n",
    "    final_list = [x for x in sent if (x > np.mean(sent) - 2 * np.std(sent))]\n",
    "    new_sent = [x for x in final_list if (x < np.mean(sent) + 2 * np.std(sent))]\n",
    "        \n",
    "    return pd.DataFrame({'Avg_word': np.mean(new_word), \n",
    "                         'SD_word': np.std(new_word),\n",
    "                         'Avg_sent': np.mean(new_sent),\n",
    "                         'SD_sent': np.std(new_sent)}, index=[0])\n",
    "        "
   ]
  },
  {
   "cell_type": "code",
   "execution_count": 24,
   "metadata": {},
   "outputs": [],
   "source": [
    "h = []\n",
    "sent = []\n",
    "\n",
    "\n",
    "for i in range(len(human['Generation'])):\n",
    "    if len(word_tokenize(human['Generation'][i])) > 100 and len(word_tokenize(human['Generation'][i])) < 1000:   \n",
    "        h.append(len(word_tokenize(human['Generation'][i])))\n",
    "        sent.append(len(tokenize.sent_tokenize(human['Generation'][i])))\n",
    "    "
   ]
  },
  {
   "cell_type": "code",
   "execution_count": 106,
   "metadata": {},
   "outputs": [
    {
     "data": {
      "text/plain": [
       "776"
      ]
     },
     "execution_count": 106,
     "metadata": {},
     "output_type": "execute_result"
    }
   ],
   "source": [
    "len(h)"
   ]
  },
  {
   "cell_type": "code",
   "execution_count": 108,
   "metadata": {},
   "outputs": [
    {
     "data": {
      "text/plain": [
       "270.8168518681075"
      ]
     },
     "execution_count": 108,
     "metadata": {},
     "output_type": "execute_result"
    }
   ],
   "source": [
    "np.std(h)"
   ]
  },
  {
   "cell_type": "code",
   "execution_count": 110,
   "metadata": {},
   "outputs": [
    {
     "data": {
      "text/plain": [
       "19.489501861012595"
      ]
     },
     "execution_count": 110,
     "metadata": {},
     "output_type": "execute_result"
    }
   ],
   "source": [
    "np.std(sent)"
   ]
  },
  {
   "cell_type": "code",
   "execution_count": 82,
   "metadata": {},
   "outputs": [],
   "source": [
    "ctrl_stat = stat(ctrl['Generation'])"
   ]
  },
  {
   "cell_type": "code",
   "execution_count": 83,
   "metadata": {},
   "outputs": [
    {
     "data": {
      "text/html": [
       "<div>\n",
       "<style scoped>\n",
       "    .dataframe tbody tr th:only-of-type {\n",
       "        vertical-align: middle;\n",
       "    }\n",
       "\n",
       "    .dataframe tbody tr th {\n",
       "        vertical-align: top;\n",
       "    }\n",
       "\n",
       "    .dataframe thead th {\n",
       "        text-align: right;\n",
       "    }\n",
       "</style>\n",
       "<table border=\"1\" class=\"dataframe\">\n",
       "  <thead>\n",
       "    <tr style=\"text-align: right;\">\n",
       "      <th></th>\n",
       "      <th>Avg_word</th>\n",
       "      <th>SD_word</th>\n",
       "      <th>Avg_sent</th>\n",
       "      <th>SD_sent</th>\n",
       "    </tr>\n",
       "  </thead>\n",
       "  <tbody>\n",
       "    <tr>\n",
       "      <th>0</th>\n",
       "      <td>530.185325</td>\n",
       "      <td>72.19072</td>\n",
       "      <td>32.502356</td>\n",
       "      <td>18.968928</td>\n",
       "    </tr>\n",
       "  </tbody>\n",
       "</table>\n",
       "</div>"
      ],
      "text/plain": [
       "     Avg_word   SD_word   Avg_sent    SD_sent\n",
       "0  530.185325  72.19072  32.502356  18.968928"
      ]
     },
     "execution_count": 83,
     "metadata": {},
     "output_type": "execute_result"
    }
   ],
   "source": [
    "ctrl_stat"
   ]
  },
  {
   "cell_type": "code",
   "execution_count": 60,
   "metadata": {},
   "outputs": [],
   "source": [
    "h = []\n",
    "for i in human['Generation']:\n",
    "    h.append(len(word_tokenize(i)))"
   ]
  },
  {
   "cell_type": "code",
   "execution_count": 66,
   "metadata": {},
   "outputs": [],
   "source": [
    "from statistics import stdev "
   ]
  },
  {
   "cell_type": "code",
   "execution_count": 72,
   "metadata": {},
   "outputs": [],
   "source": [
    "new_h = []\n",
    "\n",
    "for i in h:\n",
    "    if i <= 1000:\n",
    "        new_h.append(i)"
   ]
  },
  {
   "cell_type": "code",
   "execution_count": 75,
   "metadata": {},
   "outputs": [
    {
     "data": {
      "text/plain": [
       "919"
      ]
     },
     "execution_count": 75,
     "metadata": {},
     "output_type": "execute_result"
    }
   ],
   "source": [
    "len(new_h)"
   ]
  },
  {
   "cell_type": "code",
   "execution_count": 74,
   "metadata": {},
   "outputs": [
    {
     "data": {
      "text/plain": [
       "286.33304315182176"
      ]
     },
     "execution_count": 74,
     "metadata": {},
     "output_type": "execute_result"
    }
   ],
   "source": [
    "np.std(new_h)"
   ]
  },
  {
   "cell_type": "code",
   "execution_count": 25,
   "metadata": {},
   "outputs": [
    {
     "name": "stderr",
     "output_type": "stream",
     "text": [
      "C:\\Users\\Adaku\\Anaconda3\\lib\\site-packages\\numpy\\core\\fromnumeric.py:3335: RuntimeWarning: Mean of empty slice.\n",
      "  out=out, **kwargs)\n",
      "C:\\Users\\Adaku\\Anaconda3\\lib\\site-packages\\numpy\\core\\_methods.py:161: RuntimeWarning: invalid value encountered in double_scalars\n",
      "  ret = ret.dtype.type(ret / rcount)\n",
      "C:\\Users\\Adaku\\Anaconda3\\lib\\site-packages\\numpy\\core\\_methods.py:217: RuntimeWarning: Degrees of freedom <= 0 for slice\n",
      "  keepdims=keepdims)\n",
      "C:\\Users\\Adaku\\Anaconda3\\lib\\site-packages\\numpy\\core\\_methods.py:186: RuntimeWarning: invalid value encountered in true_divide\n",
      "  arrmean, rcount, out=arrmean, casting='unsafe', subok=False)\n",
      "C:\\Users\\Adaku\\Anaconda3\\lib\\site-packages\\numpy\\core\\_methods.py:209: RuntimeWarning: invalid value encountered in double_scalars\n",
      "  ret = ret.dtype.type(ret / rcount)\n"
     ]
    }
   ],
   "source": [
    "gpt_stat = stat(gpt['Generation'])\n",
    "gpt2_stat = stat(gpt2['Generation'])\n",
    "\n",
    "grover_stat = stat(grover['Generation'])\n",
    "xlm_stat = stat(xlm['Generation'])\n",
    "\n",
    "xlnet_stat = stat(xlnet['Generation'])\n",
    "pplm_stat = stat(pplm['Generation'])\n",
    "\n",
    "human_stat = stat(human['Generation'])\n",
    "fair_stat = stat(fair['Generation'])"
   ]
  },
  {
   "cell_type": "code",
   "execution_count": 31,
   "metadata": {},
   "outputs": [
    {
     "data": {
      "text/html": [
       "<div>\n",
       "<style scoped>\n",
       "    .dataframe tbody tr th:only-of-type {\n",
       "        vertical-align: middle;\n",
       "    }\n",
       "\n",
       "    .dataframe tbody tr th {\n",
       "        vertical-align: top;\n",
       "    }\n",
       "\n",
       "    .dataframe thead th {\n",
       "        text-align: right;\n",
       "    }\n",
       "</style>\n",
       "<table border=\"1\" class=\"dataframe\">\n",
       "  <thead>\n",
       "    <tr style=\"text-align: right;\">\n",
       "      <th></th>\n",
       "      <th>Avg_word</th>\n",
       "      <th>SD_word</th>\n",
       "      <th>Avg_sent</th>\n",
       "      <th>SD_sent</th>\n",
       "    </tr>\n",
       "  </thead>\n",
       "  <tbody>\n",
       "    <tr>\n",
       "      <th>0</th>\n",
       "      <td>736.589094</td>\n",
       "      <td>695.864323</td>\n",
       "      <td>1.0</td>\n",
       "      <td>0.0</td>\n",
       "    </tr>\n",
       "  </tbody>\n",
       "</table>\n",
       "</div>"
      ],
      "text/plain": [
       "     Avg_word     SD_word  Avg_sent  SD_sent\n",
       "0  736.589094  695.864323       1.0      0.0"
      ]
     },
     "execution_count": 31,
     "metadata": {},
     "output_type": "execute_result"
    }
   ],
   "source": [
    "human_stat = stat(human['Generation'])\n",
    "human_stat"
   ]
  },
  {
   "cell_type": "markdown",
   "metadata": {},
   "source": [
    "# Save individual (i.e. 9) datasets"
   ]
  },
  {
   "cell_type": "code",
   "execution_count": 20,
   "metadata": {},
   "outputs": [],
   "source": [
    "ctrl.to_csv('new_ctrl.csv')\n",
    "gpt.to_csv('new_gpt.csv')\n",
    "\n",
    "gpt2.to_csv('new_gpt2.csv')\n",
    "grover.to_csv('new_grover.csv')\n",
    "\n",
    "xlm.to_csv('new_xlm.csv')\n",
    "xlnet.to_csv('new_xlnet.csv')\n",
    "\n",
    "pplm.to_csv('new_pplm.csv')\n",
    "human.to_csv('new_human.csv')\n",
    "\n",
    "fair.to_csv('new_fair.csv')"
   ]
  },
  {
   "cell_type": "markdown",
   "metadata": {},
   "source": [
    "# Build combined datasets "
   ]
  },
  {
   "cell_type": "code",
   "execution_count": 17,
   "metadata": {},
   "outputs": [],
   "source": [
    "generate = pd.concat([ctrl, gpt, gpt2, grover, xlm, xlnet, pplm, human, em_lm])"
   ]
  },
  {
   "cell_type": "code",
   "execution_count": 18,
   "metadata": {},
   "outputs": [
    {
     "data": {
      "text/plain": [
       "\"China coronavirus: Xi Jinping visits virus-hit Wuhan in major show of confidence hong kong (cnn) chinese president xi jinping has made his first visit to wuhan since the novel coronavirus outbreak began more than two months ago, as new cases of the virus slowed to a trickle in the country where the disease first emerged. xi's visit to wuhan -- which has been on lockdown for weeks now, with tens of thousands of confirmed cases of the virus and hundreds of deaths -- is a major show of confidence in china's response to the pandemic , underlining a message which has been building in state media that the country has turned a corner. as of tuesday, there have been 80,754 cases of the virus confirmed across china, 67,760 of which were in hubei, the province of which wuhan is the capital. of the 3,136 deaths confirmed in china, all but 112 have been in hubei. at its worst, hubei was reporting thousands of new cases per day. on monday, china's national health commission said there were only 17 new cases confirmed in the province, with two others in other parts of the country -- both of which were linked to overseas travel. the progress in china, which has come on the back of weeks of widespread travel restrictions, government enforced lockdowns and economic pain, is in stark contrast to other parts of the world, where the situation is growing increasingly dire.\""
      ]
     },
     "execution_count": 18,
     "metadata": {},
     "output_type": "execute_result"
    }
   ],
   "source": [
    "list(generate['Generation'])[8050]"
   ]
  },
  {
   "cell_type": "code",
   "execution_count": 19,
   "metadata": {},
   "outputs": [
    {
     "data": {
      "text/plain": [
       "array(['ctrl', 'gpt', 'gpt2', 'grover', 'xlm', 'xlnet', 'pplm', 'human',\n",
       "       'fair'], dtype=object)"
      ]
     },
     "execution_count": 19,
     "metadata": {},
     "output_type": "execute_result"
    }
   ],
   "source": [
    "generate['label'].unique()"
   ]
  },
  {
   "cell_type": "code",
   "execution_count": 56,
   "metadata": {},
   "outputs": [],
   "source": [
    "label = []\n",
    "\n",
    "for i in generate['label']:\n",
    "    if i == 'ctrl':\n",
    "        label.append(0)\n",
    "    elif i == 'gpt':\n",
    "        label.append(1)\n",
    "    elif i == 'gpt2':\n",
    "        label.append(2)\n",
    "    elif i == 'grover':\n",
    "        label.append(3)\n",
    "    elif i == 'xlm':\n",
    "        label.append(4)\n",
    "    elif i == 'xlnet':\n",
    "        label.append(5)\n",
    "    elif i == 'pplm':\n",
    "        label.append(6)\n",
    "    elif i == 'human':\n",
    "        label.append(7)\n",
    "    elif i == 'fair':\n",
    "        label.append(8)\n",
    "    else:\n",
    "        label.append(7)\n",
    "  \n",
    "        \n",
    "        "
   ]
  },
  {
   "cell_type": "markdown",
   "metadata": {},
   "source": [
    "# Save combined dataset"
   ]
  },
  {
   "cell_type": "code",
   "execution_count": 20,
   "metadata": {},
   "outputs": [],
   "source": [
    "import csv "
   ]
  },
  {
   "cell_type": "code",
   "execution_count": 21,
   "metadata": {},
   "outputs": [],
   "source": [
    "generation = pd.DataFrame({'text': generate['Generation'], 'class': generate['label']})"
   ]
  },
  {
   "cell_type": "code",
   "execution_count": 22,
   "metadata": {},
   "outputs": [],
   "source": [
    "# generation.to_csv('input_punctuation.csv', index=False, header=True)"
   ]
  },
  {
   "cell_type": "code",
   "execution_count": 60,
   "metadata": {},
   "outputs": [],
   "source": [
    "generation.to_csv('input.csv', index = False, header = True, sep='\\t')"
   ]
  },
  {
   "cell_type": "code",
   "execution_count": 62,
   "metadata": {},
   "outputs": [
    {
     "data": {
      "text/html": [
       "<div>\n",
       "<style scoped>\n",
       "    .dataframe tbody tr th:only-of-type {\n",
       "        vertical-align: middle;\n",
       "    }\n",
       "\n",
       "    .dataframe tbody tr th {\n",
       "        vertical-align: top;\n",
       "    }\n",
       "\n",
       "    .dataframe thead th {\n",
       "        text-align: right;\n",
       "    }\n",
       "</style>\n",
       "<table border=\"1\" class=\"dataframe\">\n",
       "  <thead>\n",
       "    <tr style=\"text-align: right;\">\n",
       "      <th></th>\n",
       "      <th>Generation</th>\n",
       "      <th>label</th>\n",
       "    </tr>\n",
       "  </thead>\n",
       "  <tbody>\n",
       "    <tr>\n",
       "      <th>711</th>\n",
       "      <td>Asheville's woes are the story of America's po...</td>\n",
       "      <td>fair</td>\n",
       "    </tr>\n",
       "    <tr>\n",
       "      <th>541</th>\n",
       "      <td>Local animal shelter offers unique adoption pr...</td>\n",
       "      <td>grover</td>\n",
       "    </tr>\n",
       "    <tr>\n",
       "      <th>864</th>\n",
       "      <td>amid coronavirus anxiety should i stop making ...</td>\n",
       "      <td>xlnet</td>\n",
       "    </tr>\n",
       "    <tr>\n",
       "      <th>650</th>\n",
       "      <td>2020 tokyo summer olympics fast facts who star...</td>\n",
       "      <td>xlnet</td>\n",
       "    </tr>\n",
       "    <tr>\n",
       "      <th>654</th>\n",
       "      <td>When cats are free to roam, wildlife suffers. ...</td>\n",
       "      <td>fair</td>\n",
       "    </tr>\n",
       "    <tr>\n",
       "      <th>...</th>\n",
       "      <td>...</td>\n",
       "      <td>...</td>\n",
       "    </tr>\n",
       "    <tr>\n",
       "      <th>60</th>\n",
       "      <td>'The Banker' yields a modest return on Apple's...</td>\n",
       "      <td>grover</td>\n",
       "    </tr>\n",
       "    <tr>\n",
       "      <th>35</th>\n",
       "      <td>orlando bloom coming home to self quarantine i...</td>\n",
       "      <td>gpt</td>\n",
       "    </tr>\n",
       "    <tr>\n",
       "      <th>725</th>\n",
       "      <td>the trump administration is hiding something w...</td>\n",
       "      <td>xlnet</td>\n",
       "    </tr>\n",
       "    <tr>\n",
       "      <th>529</th>\n",
       "      <td>These states have been hit the hardest by coro...</td>\n",
       "      <td>human</td>\n",
       "    </tr>\n",
       "    <tr>\n",
       "      <th>340</th>\n",
       "      <td>cnn business beat s chris cuomo has some good ...</td>\n",
       "      <td>pplm</td>\n",
       "    </tr>\n",
       "  </tbody>\n",
       "</table>\n",
       "<p>9594 rows × 2 columns</p>\n",
       "</div>"
      ],
      "text/plain": [
       "                                            Generation   label\n",
       "711  Asheville's woes are the story of America's po...    fair\n",
       "541  Local animal shelter offers unique adoption pr...  grover\n",
       "864  amid coronavirus anxiety should i stop making ...   xlnet\n",
       "650  2020 tokyo summer olympics fast facts who star...   xlnet\n",
       "654  When cats are free to roam, wildlife suffers. ...    fair\n",
       "..                                                 ...     ...\n",
       "60   'The Banker' yields a modest return on Apple's...  grover\n",
       "35   orlando bloom coming home to self quarantine i...     gpt\n",
       "725  the trump administration is hiding something w...   xlnet\n",
       "529  These states have been hit the hardest by coro...   human\n",
       "340  cnn business beat s chris cuomo has some good ...    pplm\n",
       "\n",
       "[9594 rows x 2 columns]"
      ]
     },
     "execution_count": 62,
     "metadata": {},
     "output_type": "execute_result"
    }
   ],
   "source": [
    "generate.sample(len(generate))"
   ]
  },
  {
   "cell_type": "markdown",
   "metadata": {},
   "source": [
    "# Exploring POS features"
   ]
  },
  {
   "cell_type": "code",
   "execution_count": 30,
   "metadata": {},
   "outputs": [],
   "source": [
    "import nltk"
   ]
  },
  {
   "cell_type": "code",
   "execution_count": 31,
   "metadata": {},
   "outputs": [
    {
     "name": "stderr",
     "output_type": "stream",
     "text": [
      "[nltk_data] Downloading package averaged_perceptron_tagger to\n",
      "[nltk_data]     C:\\Users\\Adaku\\AppData\\Roaming\\nltk_data...\n",
      "[nltk_data]   Package averaged_perceptron_tagger is already up-to-\n",
      "[nltk_data]       date!\n"
     ]
    },
    {
     "data": {
      "text/plain": [
       "True"
      ]
     },
     "execution_count": 31,
     "metadata": {},
     "output_type": "execute_result"
    }
   ],
   "source": [
    "nltk.download('averaged_perceptron_tagger')"
   ]
  },
  {
   "cell_type": "code",
   "execution_count": 267,
   "metadata": {},
   "outputs": [],
   "source": [
    "toke = []\n",
    "for i in gen:\n",
    "    toke.append(i.split())\n",
    "    \n",
    "pos = []\n",
    "\n",
    "for i in toke:\n",
    "    pos.append(nltk.pos_tag(i))"
   ]
  },
  {
   "cell_type": "markdown",
   "metadata": {},
   "source": [
    "# Multi-class Classification "
   ]
  },
  {
   "cell_type": "code",
   "execution_count": 27,
   "metadata": {},
   "outputs": [],
   "source": [
    "\n",
    "import numpy as np\n",
    "import pandas as pd \n",
    "from sklearn import metrics\n",
    "from sklearn.ensemble import RandomForestClassifier\n",
    "import nltk\n",
    "from sklearn.feature_extraction.text import TfidfVectorizer\n",
    "from sklearn.metrics import accuracy_score, f1_score\n",
    "from sklearn import metrics"
   ]
  },
  {
   "cell_type": "code",
   "execution_count": 28,
   "metadata": {},
   "outputs": [],
   "source": [
    "from sklearn.model_selection import train_test_split\n",
    "from sklearn.tree import DecisionTreeClassifier\n",
    "from sklearn.linear_model import LogisticRegression\n",
    "from sklearn.metrics import f1_score\n",
    "from sklearn.metrics import confusion_matrix\n"
   ]
  },
  {
   "cell_type": "code",
   "execution_count": 29,
   "metadata": {},
   "outputs": [
    {
     "name": "stderr",
     "output_type": "stream",
     "text": [
      "C:\\Users\\Adaku\\Anaconda3\\lib\\site-packages\\sklearn\\utils\\deprecation.py:144: FutureWarning: The sklearn.metrics.classification module is  deprecated in version 0.22 and will be removed in version 0.24. The corresponding classes / functions should instead be imported from sklearn.metrics. Anything that cannot be imported from sklearn.metrics is now part of the private API.\n",
      "  warnings.warn(message, FutureWarning)\n"
     ]
    }
   ],
   "source": [
    "from yellowbrick.classifier import ClassPredictionError\n",
    "from sklearn.metrics import classification_report\n",
    "\n",
    "from sklearn.metrics import recall_score\n",
    "from sklearn.metrics import precision_score"
   ]
  },
  {
   "cell_type": "code",
   "execution_count": 30,
   "metadata": {},
   "outputs": [],
   "source": [
    "import matplotlib.pyplot as plt\n",
    "from matplotlib.ticker import NullFormatter, FixedLocator\n",
    "import matplotlib"
   ]
  },
  {
   "cell_type": "code",
   "execution_count": 31,
   "metadata": {},
   "outputs": [],
   "source": [
    "def classify(data, label):\n",
    "            \n",
    "    \n",
    "    X_train, X_test, y_train, y_test = train_test_split(data, label, stratify = label, test_size = 0.2, random_state = 1234)\n",
    "    \n",
    "    clf = RandomForestClassifier(random_state=1234,n_estimators=150,n_jobs=-1)\n",
    "#     clf = LogisticRegression(solver = 'lbfgs',multi_class='auto')\n",
    "    \n",
    "    v = TfidfVectorizer()\n",
    "    \n",
    "    train_corpus = X_train\n",
    "#     train_corpus = [[word.lower() for word in text.split()] for text in data]\n",
    "\n",
    "    test_corpus = X_test\n",
    "#     test_corpus = [\" \".join(x) for x in test_corpus]\n",
    "\n",
    "#     ax = axes.set_ylim([0,300])\n",
    "    train_vector = v.fit_transform(train_corpus)\n",
    "    test_vector = v.transform(test_corpus)\n",
    "    \n",
    "    fit = clf.fit(train_vector,y_train)\n",
    "    pred = clf.predict(test_vector)\n",
    "    \n",
    "    # Instantiate the classification model and visualizer\n",
    "    visualizer = ClassPredictionError(clf, classes= ['human', 'ctrl', 'gpt', 'gpt2', 'grover', 'xlm', 'xlnet', 'pplm', 'fair'])\n",
    "\n",
    "    # Fit the training data to the visualizer\n",
    "    visualizer.fit(train_vector, y_train)\n",
    "\n",
    "    # Evaluate the model on the test data\n",
    "    visualizer.score(test_vector, y_test)\n",
    "\n",
    "    # Draw visualization\n",
    "    visualizer.show()\n",
    "    \n",
    "    \n",
    "    matrix = confusion_matrix(y_test, pred, labels = ['ctrl', 'gpt', 'gpt2', 'grover', 'xlm', 'xlnet', 'pplm', 'human', 'fair'])\n",
    "    mat = matrix.diagonal()/matrix.sum(axis=1)\n",
    "    print(classification_report(y_test, pred, labels = ['ctrl', 'gpt', 'gpt2', 'grover','xlm', 'xlnet', 'pplm', 'human', 'fair'],\n",
    "                                digits=4))\n",
    "    print('confusion matrix: ', mat)\n",
    "    \n",
    "    Accuracy = accuracy_score(y_test,pred)\n",
    "    F1 = f1_score(y_test, pred, average='macro')\n",
    "    print(\"Accuracy:\", Accuracy)\n",
    "    \n",
    "    rec = recall_score(y_test, pred, average='macro')\n",
    "    print('Recall: ', rec)\n",
    "    prec = precision_score(y_test, pred, average='macro')\n",
    "    print('Precision: ', prec)\n",
    "    \n",
    "    print('F1:', F1)\n",
    "    \n",
    "    return clf, v"
   ]
  },
  {
   "cell_type": "code",
   "execution_count": 32,
   "metadata": {},
   "outputs": [
    {
     "name": "stderr",
     "output_type": "stream",
     "text": [
      "C:\\Users\\Adaku\\Anaconda3\\lib\\site-packages\\sklearn\\base.py:197: FutureWarning: From version 0.24, get_params will raise an AttributeError if a parameter cannot be retrieved as an instance attribute. Previously it would return None.\n",
      "  FutureWarning)\n"
     ]
    },
    {
     "data": {
      "image/png": "[encoded data removed]",
      "text/plain": [
       "<Figure size 576x396 with 1 Axes>"
      ]
     },
     "metadata": {},
     "output_type": "display_data"
    },
    {
     "name": "stdout",
     "output_type": "stream",
     "text": [
      "              precision    recall  f1-score   support\n",
      "\n",
      "        ctrl     0.9905    0.9812    0.9858       213\n",
      "         gpt     0.9680    0.9953    0.9815       213\n",
      "        gpt2     0.5948    0.7477    0.6625       214\n",
      "      grover     0.7089    0.7089    0.7089       213\n",
      "         xlm     0.9953    0.9953    0.9953       213\n",
      "       xlnet     0.9905    0.9812    0.9858       213\n",
      "        pplm     0.8679    0.6449    0.7399       214\n",
      "       human     0.9477    0.7653    0.8468       213\n",
      "        fair     0.5675    0.6714    0.6151       213\n",
      "\n",
      "    accuracy                         0.8322      1919\n",
      "   macro avg     0.8479    0.8323    0.8357      1919\n",
      "weighted avg     0.8478    0.8322    0.8356      1919\n",
      "\n",
      "confusion matrix:  [0.98122066 0.99530516 0.74766355 0.70892019 0.99530516 0.98122066\n",
      " 0.64485981 0.76525822 0.6713615 ]\n",
      "Accuracy: 0.8322042730588849\n",
      "Recall:  0.8323461015313062\n",
      "Precision:  0.8479065932468655\n",
      "F1: 0.8357426908455609\n"
     ]
    }
   ],
   "source": [
    "rd, v = classify(generate['Generation'], generate['label'])"
   ]
  },
  {
   "cell_type": "code",
   "execution_count": null,
   "metadata": {},
   "outputs": [],
   "source": []
  },
  {
   "cell_type": "markdown",
   "metadata": {},
   "source": [
    "# Feature Importance"
   ]
  },
  {
   "cell_type": "code",
   "execution_count": 41,
   "metadata": {},
   "outputs": [],
   "source": [
    "words = v.get_feature_names()\n",
    "importance = rd.feature_importances_"
   ]
  },
  {
   "cell_type": "code",
   "execution_count": 48,
   "metadata": {},
   "outputs": [
    {
     "data": {
      "text/html": [
       "<div>\n",
       "<style scoped>\n",
       "    .dataframe tbody tr th:only-of-type {\n",
       "        vertical-align: middle;\n",
       "    }\n",
       "\n",
       "    .dataframe tbody tr th {\n",
       "        vertical-align: top;\n",
       "    }\n",
       "\n",
       "    .dataframe thead th {\n",
       "        text-align: right;\n",
       "    }\n",
       "</style>\n",
       "<table border=\"1\" class=\"dataframe\">\n",
       "  <thead>\n",
       "    <tr style=\"text-align: right;\">\n",
       "      <th></th>\n",
       "      <th>Word</th>\n",
       "      <th>Importance</th>\n",
       "    </tr>\n",
       "  </thead>\n",
       "  <tbody>\n",
       "    <tr>\n",
       "      <th>45116</th>\n",
       "      <td>nthe</td>\n",
       "      <td>0.008699</td>\n",
       "    </tr>\n",
       "    <tr>\n",
       "      <th>6619</th>\n",
       "      <td>and</td>\n",
       "      <td>0.007101</td>\n",
       "    </tr>\n",
       "    <tr>\n",
       "      <th>62490</th>\n",
       "      <td>the</td>\n",
       "      <td>0.006788</td>\n",
       "    </tr>\n",
       "    <tr>\n",
       "      <th>63366</th>\n",
       "      <td>to</td>\n",
       "      <td>0.005807</td>\n",
       "    </tr>\n",
       "    <tr>\n",
       "      <th>46085</th>\n",
       "      <td>of</td>\n",
       "      <td>0.005279</td>\n",
       "    </tr>\n",
       "    <tr>\n",
       "      <th>...</th>\n",
       "      <td>...</td>\n",
       "      <td>...</td>\n",
       "    </tr>\n",
       "    <tr>\n",
       "      <th>7023</th>\n",
       "      <td>anything</td>\n",
       "      <td>0.002089</td>\n",
       "    </tr>\n",
       "    <tr>\n",
       "      <th>55116</th>\n",
       "      <td>said</td>\n",
       "      <td>0.002082</td>\n",
       "    </tr>\n",
       "    <tr>\n",
       "      <th>28815</th>\n",
       "      <td>he</td>\n",
       "      <td>0.002054</td>\n",
       "    </tr>\n",
       "    <tr>\n",
       "      <th>58444</th>\n",
       "      <td>so</td>\n",
       "      <td>0.002025</td>\n",
       "    </tr>\n",
       "    <tr>\n",
       "      <th>70501</th>\n",
       "      <td>you</td>\n",
       "      <td>0.002016</td>\n",
       "    </tr>\n",
       "  </tbody>\n",
       "</table>\n",
       "<p>70 rows × 2 columns</p>\n",
       "</div>"
      ],
      "text/plain": [
       "           Word  Importance\n",
       "45116      nthe    0.008699\n",
       "6619        and    0.007101\n",
       "62490       the    0.006788\n",
       "63366        to    0.005807\n",
       "46085        of    0.005279\n",
       "...         ...         ...\n",
       "7023   anything    0.002089\n",
       "55116      said    0.002082\n",
       "28815        he    0.002054\n",
       "58444        so    0.002025\n",
       "70501       you    0.002016\n",
       "\n",
       "[70 rows x 2 columns]"
      ]
     },
     "execution_count": 48,
     "metadata": {},
     "output_type": "execute_result"
    }
   ],
   "source": [
    "# Looking at the most important words inside the random forest for tfidf\n",
    "words = v.get_feature_names()\n",
    "importance = rd.feature_importances_\n",
    "impordf = pd.DataFrame({'Word' : words,'Importance' : importance})\n",
    "impordf = impordf.sort_values(['Importance', 'Word'], ascending=[0, 1])\n",
    "impordf.head(70)"
   ]
  },
  {
   "cell_type": "markdown",
   "metadata": {},
   "source": [
    "# Figures"
   ]
  },
  {
   "cell_type": "code",
   "execution_count": null,
   "metadata": {},
   "outputs": [],
   "source": []
  }
 ],
 "metadata": {
  "kernelspec": {
   "display_name": "Python 3",
   "language": "python",
   "name": "python3"
  },
  "language_info": {
   "codemirror_mode": {
    "name": "ipython",
    "version": 3
   },
   "file_extension": ".py",
   "mimetype": "text/x-python",
   "name": "python",
   "nbconvert_exporter": "python",
   "pygments_lexer": "ipython3",
   "version": "3.7.1"
  }
 },
 "nbformat": 4,
 "nbformat_minor": 2
}
