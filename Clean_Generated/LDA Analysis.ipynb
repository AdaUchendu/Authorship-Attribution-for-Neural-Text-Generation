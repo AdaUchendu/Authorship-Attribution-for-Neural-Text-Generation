{
 "cells": [
  {
   "cell_type": "code",
   "execution_count": 1,
   "metadata": {},
   "outputs": [
    {
     "name": "stderr",
     "output_type": "stream",
     "text": [
      "[nltk_data] Downloading package stopwords to\n",
      "[nltk_data]     C:\\Users\\Adaku\\AppData\\Roaming\\nltk_data...\n",
      "[nltk_data]   Package stopwords is already up-to-date!\n"
     ]
    },
    {
     "data": {
      "text/plain": [
       "True"
      ]
     },
     "execution_count": 1,
     "metadata": {},
     "output_type": "execute_result"
    }
   ],
   "source": [
    "# Run in python console\n",
    "import nltk; nltk.download('stopwords')\n",
    "\n"
   ]
  },
  {
   "cell_type": "code",
   "execution_count": 2,
   "metadata": {},
   "outputs": [],
   "source": [
    "import re\n",
    "import numpy as np\n",
    "import pandas as pd\n",
    "from pprint import pprint\n",
    "\n",
    "# Gensim\n",
    "import gensim\n",
    "import gensim.corpora as corpora\n",
    "from gensim.utils import simple_preprocess\n",
    "from gensim.models import CoherenceModel\n",
    "\n",
    "# spacy for lemmatization\n",
    "import spacy\n",
    "\n",
    "# Plotting tools\n",
    "import pyLDAvis\n",
    "import pyLDAvis.gensim  # don't skip this\n",
    "import matplotlib.pyplot as plt\n",
    "%matplotlib inline\n",
    "\n",
    "# Enable logging for gensim - optional\n",
    "import logging\n",
    "logging.basicConfig(format='%(asctime)s : %(levelname)s : %(message)s', level=logging.ERROR)\n",
    "\n",
    "import warnings\n",
    "warnings.filterwarnings(\"ignore\",category=DeprecationWarning)"
   ]
  },
  {
   "cell_type": "code",
   "execution_count": 3,
   "metadata": {},
   "outputs": [],
   "source": [
    "data = pd.read_csv('input_punctuation.csv')"
   ]
  },
  {
   "cell_type": "code",
   "execution_count": 4,
   "metadata": {},
   "outputs": [
    {
     "data": {
      "text/html": [
       "<div>\n",
       "<style scoped>\n",
       "    .dataframe tbody tr th:only-of-type {\n",
       "        vertical-align: middle;\n",
       "    }\n",
       "\n",
       "    .dataframe tbody tr th {\n",
       "        vertical-align: top;\n",
       "    }\n",
       "\n",
       "    .dataframe thead th {\n",
       "        text-align: right;\n",
       "    }\n",
       "</style>\n",
       "<table border=\"1\" class=\"dataframe\">\n",
       "  <thead>\n",
       "    <tr style=\"text-align: right;\">\n",
       "      <th></th>\n",
       "      <th>text</th>\n",
       "      <th>class</th>\n",
       "    </tr>\n",
       "  </thead>\n",
       "  <tbody>\n",
       "    <tr>\n",
       "      <th>0</th>\n",
       "      <td>latest headlines on cnn business tl;dr the u.s...</td>\n",
       "      <td>ctrl</td>\n",
       "    </tr>\n",
       "    <tr>\n",
       "      <th>1</th>\n",
       "      <td>china wants to take a victory lap over its han...</td>\n",
       "      <td>ctrl</td>\n",
       "    </tr>\n",
       "    <tr>\n",
       "      <th>2</th>\n",
       "      <td>coronavirus disinformation creates challenges ...</td>\n",
       "      <td>ctrl</td>\n",
       "    </tr>\n",
       "    <tr>\n",
       "      <th>3</th>\n",
       "      <td>china coronavirus: eating wild animals made il...</td>\n",
       "      <td>ctrl</td>\n",
       "    </tr>\n",
       "    <tr>\n",
       "      <th>4</th>\n",
       "      <td>china's economy could shrink for the first tim...</td>\n",
       "      <td>ctrl</td>\n",
       "    </tr>\n",
       "  </tbody>\n",
       "</table>\n",
       "</div>"
      ],
      "text/plain": [
       "                                                text class\n",
       "0  latest headlines on cnn business tl;dr the u.s...  ctrl\n",
       "1  china wants to take a victory lap over its han...  ctrl\n",
       "2  coronavirus disinformation creates challenges ...  ctrl\n",
       "3  china coronavirus: eating wild animals made il...  ctrl\n",
       "4  china's economy could shrink for the first tim...  ctrl"
      ]
     },
     "execution_count": 4,
     "metadata": {},
     "output_type": "execute_result"
    }
   ],
   "source": [
    "data.head()"
   ]
  },
  {
   "cell_type": "code",
   "execution_count": 5,
   "metadata": {},
   "outputs": [
    {
     "data": {
      "text/plain": [
       "\"china wants to take a victory lap over its handling of the coronavirus outbreak in hong kong. the virus has killed at least 21 people and infected more than 1,000 since it was first detected there last month. it is believed that most have been chinese citizens who had traveled abroad for treatment or were working as doctors there. but health officials say they are still investigating whether anyone else may be infected. a total ban on travel from this country remains until further notice. [page a8.] in addition today, china's ministry of health said tests showed evidence suggesting an unusual strain called sars could spread through humans if not properly treated. [excerpts, page b6.] dr. wu jianmin, director general with guangdong province, which includes guangzhou, told reporters today he expected a significant outbreak within days. he added later by telephone that, we're prepared should something happen. at issue here will likely turn out either one way -- another case confirms what many suspect but no conclusive proof supports it. either way, beijing would probably try hard just now before rushing into any new action. and while some experts believe such action might delay even worse problems, others think it's better late rather then never. even so, both sides seem intent upon taking advantage now. with so much attention focused elsewhere, few outside asia know about this. this makes beijing's decision all too predictable. if you want your own version read this:. tl;dr world briefing | asia: china: officials say virus is spreading fast over its own territory as word spreads across china, authorities struggle against possible pandemic threat, scientists report finding signs pointing toward emergence next week after years ago among pigs carrying highly contagious virus, causing disease known locally only recently found near shanghai zoo where three weeks ago; photo (m) (careas) (s) (front page dept column) because government says public reaction seems like saying government response appears slow (l) (s)/ no matter how can help stop spreading quickly enough time frame up ahead ( news media coverage ; photos (mar pretty fast enough) being reported yesterday morning us govt ts de la y reuters (nyt) : bloomberg reports swine flu crisis shows two days ago. photo by elaine l. allen st. louis times london (ap) - nyt: new york post's top city official warns american express newspaper le monde today article reporting wednesday may 16 march 16, 2008 feb 17, 2002 united states february 18, 2003 june 25, 2007, france 18 april 11, 2006 national security council release du 23 january 22, 2005 los angeles et al qaeda 17 september 23, 2009 sunday 22 le 20 november 26 h e cest un el 19 december 12 mar 2004 au 24 2001 * 2 la primera ber c en lundi g uire sd paris anl nterme d'aillez bre ment\""
      ]
     },
     "execution_count": 5,
     "metadata": {},
     "output_type": "execute_result"
    }
   ],
   "source": [
    "data['text'][1]"
   ]
  },
  {
   "cell_type": "code",
   "execution_count": 6,
   "metadata": {},
   "outputs": [],
   "source": [
    "from nltk import tokenize\n",
    "from nltk.tokenize import word_tokenize, sent_tokenize"
   ]
  },
  {
   "cell_type": "code",
   "execution_count": 105,
   "metadata": {},
   "outputs": [],
   "source": [
    "token_word = []\n",
    "\n",
    "for i in data[data['class'] == 'gpt']['text']:\n",
    "    token_word.append(word_tokenize(i))"
   ]
  },
  {
   "cell_type": "code",
   "execution_count": 106,
   "metadata": {},
   "outputs": [],
   "source": [
    "data_words = list(token_word)"
   ]
  },
  {
   "cell_type": "code",
   "execution_count": 107,
   "metadata": {},
   "outputs": [
    {
     "data": {
      "text/plain": [
       "1066"
      ]
     },
     "execution_count": 107,
     "metadata": {},
     "output_type": "execute_result"
    }
   ],
   "source": [
    "len(data_words)"
   ]
  },
  {
   "cell_type": "code",
   "execution_count": 108,
   "metadata": {},
   "outputs": [
    {
     "data": {
      "text/plain": [
       "[['latest',\n",
       "  'headlines',\n",
       "  'on',\n",
       "  'cnn',\n",
       "  'business.',\n",
       "  '``',\n",
       "  'it',\n",
       "  \"'s\",\n",
       "  'a',\n",
       "  'good',\n",
       "  'thing',\n",
       "  'you',\n",
       "  \"'re\",\n",
       "  'not',\n",
       "  'in',\n",
       "  'the',\n",
       "  'news',\n",
       "  ',',\n",
       "  'because',\n",
       "  'i',\n",
       "  'would',\n",
       "  'have',\n",
       "  'had',\n",
       "  'to',\n",
       "  'kill',\n",
       "  'myself',\n",
       "  'if',\n",
       "  'that',\n",
       "  'happened',\n",
       "  '.',\n",
       "  'and',\n",
       "  'now',\n",
       "  'i',\n",
       "  \"'m\",\n",
       "  'going',\n",
       "  'home',\n",
       "  'with',\n",
       "  'my',\n",
       "  'wife',\n",
       "  'and',\n",
       "  'son',\n",
       "  'for',\n",
       "  'christmas',\n",
       "  'dinner.',\n",
       "  '``',\n",
       "  'he',\n",
       "  'sighed',\n",
       "  'heavily',\n",
       "  'as',\n",
       "  'he',\n",
       "  'stared',\n",
       "  'at',\n",
       "  'his',\n",
       "  'computer',\n",
       "  'screen',\n",
       "  '.',\n",
       "  'she',\n",
       "  'knew',\n",
       "  'what',\n",
       "  'was',\n",
       "  'coming',\n",
       "  'next',\n",
       "  ';',\n",
       "  'she',\n",
       "  \"'d\",\n",
       "  'seen',\n",
       "  'enough',\n",
       "  'of',\n",
       "  'this',\n",
       "  'kind',\n",
       "  'of',\n",
       "  'stuff',\n",
       "  'before',\n",
       "  'from',\n",
       "  'her',\n",
       "  'father',\n",
       "  '-',\n",
       "  'or',\n",
       "  'so',\n",
       "  'they',\n",
       "  'said',\n",
       "  '.',\n",
       "  'but',\n",
       "  'she',\n",
       "  'did',\n",
       "  \"n't\",\n",
       "  'want',\n",
       "  'him',\n",
       "  'thinking',\n",
       "  'about',\n",
       "  'himself',\n",
       "  'when',\n",
       "  'he',\n",
       "  'got',\n",
       "  'back',\n",
       "  'from',\n",
       "  'new',\n",
       "  'york',\n",
       "  '.',\n",
       "  'he',\n",
       "  'needed',\n",
       "  'time',\n",
       "  'to',\n",
       "  'think',\n",
       "  'about',\n",
       "  'things',\n",
       "  'like',\n",
       "  'how',\n",
       "  'much',\n",
       "  'money',\n",
       "  'he',\n",
       "  'could',\n",
       "  'spend',\n",
       "  'on',\n",
       "  'clothes',\n",
       "  'and',\n",
       "  'shoes',\n",
       "  'and',\n",
       "  'furniture.',\n",
       "  '``',\n",
       "  'dad',\n",
       "  '...',\n",
       "  'please',\n",
       "  'do',\n",
       "  \"n't\",\n",
       "  'go',\n",
       "  ',',\n",
       "  '``',\n",
       "  'she',\n",
       "  'whispered',\n",
       "  '.',\n",
       "  'he',\n",
       "  'turned',\n",
       "  'toward',\n",
       "  'her',\n",
       "  'then',\n",
       "  ',',\n",
       "  'looking',\n",
       "  'older',\n",
       "  'than',\n",
       "  'ever',\n",
       "  ',',\n",
       "  'more',\n",
       "  'tired.',\n",
       "  '``',\n",
       "  'why',\n",
       "  'should',\n",
       "  'we',\n",
       "  '?',\n",
       "  '``',\n",
       "  'he',\n",
       "  'asked',\n",
       "  'softly',\n",
       "  '.',\n",
       "  'she',\n",
       "  'felt',\n",
       "  'tears',\n",
       "  'prick',\n",
       "  'behind',\n",
       "  'her',\n",
       "  'eyes',\n",
       "  'again.',\n",
       "  '``',\n",
       "  'because',\n",
       "  'there',\n",
       "  'are',\n",
       "  'people',\n",
       "  'who',\n",
       "  'need',\n",
       "  'us',\n",
       "  'here',\n",
       "  ',',\n",
       "  'too',\n",
       "  '....',\n",
       "  '``',\n",
       "  'chapter',\n",
       "  'twenty',\n",
       "  '-',\n",
       "  'eight',\n",
       "  'rachel',\n",
       "  'sat',\n",
       "  'alone',\n",
       "  'in',\n",
       "  'the',\n",
       "  'kitchen',\n",
       "  ',',\n",
       "  'staring',\n",
       "  'out',\n",
       "  'into',\n",
       "  'the',\n",
       "  'dark',\n",
       "  'night',\n",
       "  ',',\n",
       "  'trying',\n",
       "  'desperately',\n",
       "  'to',\n",
       "  'figure',\n",
       "  'out',\n",
       "  'where',\n",
       "  'her',\n",
       "  'life',\n",
       "  'had',\n",
       "  'gone',\n",
       "  'wrong',\n",
       "  '.',\n",
       "  'she',\n",
       "  'thought',\n",
       "  'she',\n",
       "  'might',\n",
       "  'be',\n",
       "  'able',\n",
       "  'to',\n",
       "  'find',\n",
       "  'work',\n",
       "  'somewhere',\n",
       "  'else',\n",
       "  ',',\n",
       "  'maybe',\n",
       "  'even',\n",
       "  'get',\n",
       "  'some',\n",
       "  'help',\n",
       "  '.',\n",
       "  'but',\n",
       "  'then',\n",
       "  'she',\n",
       "  'remembered',\n",
       "  'what',\n",
       "  'david',\n",
       "  'told',\n",
       "  'her',\n",
       "  ':',\n",
       "  'no',\n",
       "  'one',\n",
       "  'wanted',\n",
       "  'their',\n",
       "  'daughter',\n",
       "  'living',\n",
       "  'off',\n",
       "  'welfare',\n",
       "  'payments',\n",
       "  'anymore',\n",
       "  '.',\n",
       "  'she',\n",
       "  'could',\n",
       "  'barely',\n",
       "  'afford',\n",
       "  'groceries',\n",
       "  'herself',\n",
       "  ',',\n",
       "  'let',\n",
       "  'alone',\n",
       "  'rent',\n",
       "  'a',\n",
       "  'car',\n",
       "  '.',\n",
       "  'she',\n",
       "  'was',\n",
       "  'lucky',\n",
       "  'to',\n",
       "  'still',\n",
       "  'live',\n",
       "  'at',\n",
       "  'all',\n",
       "  'after',\n",
       "  'being',\n",
       "  'forced',\n",
       "  'to',\n",
       "  'move',\n",
       "  'to',\n",
       "  'california',\n",
       "  '.',\n",
       "  'her',\n",
       "  'cell',\n",
       "  'phone',\n",
       "  'rang',\n",
       "  '.',\n",
       "  'caller',\n",
       "  'id',\n",
       "  'showed',\n",
       "  'an',\n",
       "  'unfamiliar',\n",
       "  'number',\n",
       "  '.',\n",
       "  'she',\n",
       "  'glanced',\n",
       "  'over',\n",
       "  'her',\n",
       "  'shoulder',\n",
       "  'and',\n",
       "  'saw',\n",
       "  'that',\n",
       "  'isaac',\n",
       "  'was',\n",
       "  'calling',\n",
       "  '.',\n",
       "  'she',\n",
       "  'answered',\n",
       "  'without',\n",
       "  'answering.',\n",
       "  '``',\n",
       "  'hello',\n",
       "  '?',\n",
       "  '``',\n",
       "  '``',\n",
       "  'hi',\n",
       "  ',',\n",
       "  'honey',\n",
       "  '!',\n",
       "  'is',\n",
       "  'everything',\n",
       "  'okay',\n",
       "  '?',\n",
       "  '``',\n",
       "  'rachel',\n",
       "  'swallowed',\n",
       "  'hard',\n",
       "  '.',\n",
       "  'she',\n",
       "  'hated',\n",
       "  'talking',\n",
       "  'on',\n",
       "  'the',\n",
       "  'telephone',\n",
       "  'with',\n",
       "  'someone',\n",
       "  'other',\n",
       "  'than',\n",
       "  'her',\n",
       "  'mother',\n",
       "  '.',\n",
       "  'especially',\n",
       "  'since',\n",
       "  'her',\n",
       "  'sister',\n",
       "  '-',\n",
       "  'in',\n",
       "  'law',\n",
       "  ',',\n",
       "  'sarah',\n",
       "  ',',\n",
       "  'lived',\n",
       "  'only',\n",
       "  'three',\n",
       "  'miles',\n",
       "  'away.',\n",
       "  '``',\n",
       "  'yes',\n",
       "  '.',\n",
       "  'fine',\n",
       "  '.',\n",
       "  'just',\n",
       "  'wondering',\n",
       "  'if',\n",
       "  'you',\n",
       "  \"'ve\",\n",
       "  'heard',\n",
       "  'anything',\n",
       "  'yet',\n",
       "  'from',\n",
       "  'your',\n",
       "  'brother.',\n",
       "  '``',\n",
       "  '``',\n",
       "  'nothing',\n",
       "  'unusual',\n",
       "  'has',\n",
       "  'come',\n",
       "  'up',\n",
       "  'lately',\n",
       "  ',',\n",
       "  'except',\n",
       "  'for',\n",
       "  'a',\n",
       "  'couple',\n",
       "  'of',\n",
       "  'missing',\n",
       "  'kids',\n",
       "  'and',\n",
       "  'two',\n",
       "  'disappearances.',\n",
       "  '``',\n",
       "  '``',\n",
       "  'are',\n",
       "  'those',\n",
       "  'any',\n",
       "  'different',\n",
       "  'cases',\n",
       "  '?',\n",
       "  '``',\n",
       "  'silence.',\n",
       "  '``',\n",
       "  'well',\n",
       "  ',',\n",
       "  'yeah',\n",
       "  '.',\n",
       "  'i',\n",
       "  'guess',\n",
       "  'so.',\n",
       "  '``',\n",
       "  'she',\n",
       "  'frowned.',\n",
       "  '``',\n",
       "  'were',\n",
       "  'they',\n",
       "  'related',\n",
       "  '?',\n",
       "  '``',\n",
       "  '``',\n",
       "  'i',\n",
       "  'ca',\n",
       "  \"n't\",\n",
       "  'say',\n",
       "  ',',\n",
       "  'mom',\n",
       "  '.',\n",
       "  'you',\n",
       "  'know',\n",
       "  'me',\n",
       "  'better',\n",
       "  'than',\n",
       "  'anyone.',\n",
       "  '``',\n",
       "  'she',\n",
       "  'waited']]"
      ]
     },
     "execution_count": 108,
     "metadata": {},
     "output_type": "execute_result"
    }
   ],
   "source": [
    "data_words[:1]"
   ]
  },
  {
   "cell_type": "code",
   "execution_count": 109,
   "metadata": {},
   "outputs": [
    {
     "name": "stdout",
     "output_type": "stream",
     "text": [
      "['latest', 'headlines', 'on', 'cnn', 'business.', '``', 'it', \"'s\", 'a', 'good', 'thing', 'you', \"'re\", 'not', 'in', 'the', 'news', ',', 'because', 'i', 'would', 'have', 'had', 'to', 'kill', 'myself', 'if', 'that', 'happened', '.', 'and', 'now', 'i', \"'m\", 'going', 'home', 'with', 'my', 'wife', 'and', 'son', 'for', 'christmas', 'dinner.', '``', 'he', 'sighed_heavily', 'as', 'he', 'stared', 'at', 'his', 'computer_screen', '.', 'she', 'knew', 'what', 'was', 'coming', 'next', ';', 'she', \"'d\", 'seen', 'enough', 'of', 'this', 'kind', 'of', 'stuff', 'before', 'from', 'her', 'father', '-', 'or', 'so', 'they', 'said', '.', 'but', 'she', 'did', \"n't\", 'want', 'him', 'thinking', 'about', 'himself', 'when', 'he', 'got', 'back', 'from', 'new_york', '.', 'he', 'needed', 'time', 'to', 'think', 'about', 'things', 'like', 'how', 'much', 'money', 'he', 'could', 'spend', 'on', 'clothes', 'and', 'shoes', 'and', 'furniture.', '``', 'dad', '...', 'please', 'do', \"n't\", 'go', ',', '``', 'she', 'whispered', '.', 'he', 'turned', 'toward', 'her', 'then', ',', 'looking', 'older', 'than', 'ever', ',', 'more', 'tired.', '``', 'why', 'should', 'we', '?', '``', 'he', 'asked', 'softly', '.', 'she', 'felt', 'tears', 'prick', 'behind', 'her', 'eyes', 'again.', '``', 'because', 'there', 'are', 'people', 'who', 'need', 'us', 'here', ',', 'too', '....', '``', 'chapter_twenty', '-', 'eight', 'rachel', 'sat', 'alone', 'in', 'the', 'kitchen', ',', 'staring', 'out', 'into', 'the', 'dark', 'night', ',', 'trying_desperately', 'to', 'figure', 'out', 'where', 'her', 'life', 'had', 'gone', 'wrong', '.', 'she', 'thought', 'she', 'might', 'be', 'able', 'to', 'find', 'work', 'somewhere', 'else', ',', 'maybe', 'even', 'get', 'some', 'help', '.', 'but', 'then', 'she', 'remembered', 'what', 'david', 'told', 'her', ':', 'no', 'one', 'wanted', 'their', 'daughter', 'living', 'off', 'welfare', 'payments', 'anymore', '.', 'she', 'could', 'barely', 'afford', 'groceries', 'herself', ',', 'let', 'alone', 'rent', 'a', 'car', '.', 'she', 'was', 'lucky', 'to', 'still', 'live', 'at', 'all', 'after', 'being', 'forced', 'to', 'move', 'to', 'california', '.', 'her', 'cell_phone', 'rang', '.', 'caller', 'id', 'showed', 'an', 'unfamiliar', 'number', '.', 'she', 'glanced', 'over', 'her', 'shoulder', 'and', 'saw', 'that', 'isaac', 'was', 'calling', '.', 'she', 'answered', 'without', 'answering.', '``', 'hello', '?', '``', '``', 'hi', ',', 'honey', '!', 'is', 'everything', 'okay', '?', '``', 'rachel', 'swallowed_hard', '.', 'she', 'hated', 'talking', 'on', 'the', 'telephone', 'with', 'someone', 'other', 'than', 'her', 'mother', '.', 'especially_since', 'her', 'sister', '-', 'in', 'law', ',', 'sarah', ',', 'lived', 'only', 'three', 'miles', 'away.', '``', 'yes', '.', 'fine', '.', 'just', 'wondering', 'if', 'you', \"'ve\", 'heard', 'anything', 'yet', 'from', 'your', 'brother.', '``', '``', 'nothing', 'unusual', 'has', 'come', 'up', 'lately', ',', 'except', 'for', 'a', 'couple', 'of', 'missing', 'kids', 'and', 'two', 'disappearances.', '``', '``', 'are', 'those', 'any', 'different', 'cases', '?', '``', 'silence.', '``', 'well', ',', 'yeah', '.', 'i', 'guess', 'so.', '``', 'she', 'frowned.', '``', 'were', 'they', 'related', '?', '``', '``', 'i', 'ca', \"n't\", 'say', ',', 'mom', '.', 'you', 'know', 'me', 'better', 'than', 'anyone.', '``', 'she', 'waited']\n"
     ]
    }
   ],
   "source": [
    "# Build the bigram and trigram models\n",
    "bigram = gensim.models.Phrases(data_words, min_count=5, threshold=100) # higher threshold fewer phrases.\n",
    "trigram = gensim.models.Phrases(bigram[data_words], threshold=100)  \n",
    "\n",
    "# Faster way to get a sentence clubbed as a trigram/bigram\n",
    "bigram_mod = gensim.models.phrases.Phraser(bigram)\n",
    "trigram_mod = gensim.models.phrases.Phraser(trigram)\n",
    "\n",
    "# See trigram example\n",
    "print(trigram_mod[bigram_mod[data_words[0]]])"
   ]
  },
  {
   "cell_type": "code",
   "execution_count": 110,
   "metadata": {},
   "outputs": [],
   "source": [
    "# Define functions for stopwords, bigrams, trigrams and lemmatization\n",
    "def remove_stopwords(texts):\n",
    "    return [[word for word in simple_preprocess(str(doc)) if word not in stop_words] for doc in texts]\n",
    "\n",
    "def make_bigrams(texts):\n",
    "    return [bigram_mod[doc] for doc in texts]\n",
    "\n",
    "def make_trigrams(texts):\n",
    "    return [trigram_mod[bigram_mod[doc]] for doc in texts]\n",
    "\n",
    "def lemmatization(texts, allowed_postags=['NOUN', 'ADJ', 'VERB', 'ADV']):\n",
    "    \"\"\"https://spacy.io/api/annotation\"\"\"\n",
    "    texts_out = []\n",
    "    for sent in texts:\n",
    "        doc = nlp(\" \".join(sent)) \n",
    "        texts_out.append([token.lemma_ for token in doc if token.pos_ in allowed_postags])\n",
    "    return texts_out"
   ]
  },
  {
   "cell_type": "code",
   "execution_count": 111,
   "metadata": {},
   "outputs": [],
   "source": [
    "# NLTK Stop words\n",
    "from nltk.corpus import stopwords\n",
    "stop_words = stopwords.words('english')\n",
    "stop_words.extend(['from', 'subject', 're', 'edu', 'use'])"
   ]
  },
  {
   "cell_type": "code",
   "execution_count": 112,
   "metadata": {},
   "outputs": [],
   "source": [
    "import spacy\n",
    "spacy.load(\"en_core_web_sm\")\n",
    "import en_core_web_sm\n",
    "\n",
    "# nlp = en_core_web_sm.load()"
   ]
  },
  {
   "cell_type": "code",
   "execution_count": 113,
   "metadata": {},
   "outputs": [
    {
     "name": "stdout",
     "output_type": "stream",
     "text": [
      "[['late', 'headline', 'cnn', 'business', 'good', 'thing', 'news', 'would', 'kill', 'happen', 'go', 'home', 'wife', 'son', 'christmas', 'dinner', 'sighed_heavily', 'stare', 'computer_screen', 'know', 'come', 'next', 'see', 'enough', 'kind', 'stuff', 'father', 'say', 'want', 'thinking', 'get', 'back', 'need', 'time', 'think', 'thing', 'much', 'money', 'could', 'spend', 'clothe', 'shoe', 'furniture', 'dad', 'go', 'whisper', 'turn', 'look', 'old', 'ever', 'tired', 'ask', 'softly', 'feel', 'tear', 'prick', 'eye', 'people', 'need', 'chapter_twenty', 'rachel', 'sit', 'alone', 'kitchen', 'stare', 'dark', 'night', 'trying_desperately', 'figure', 'life', 'go', 'wrong', 'thought', 'may', 'able', 'find', 'work', 'somewhere', 'else', 'maybe', 'even', 'get', 'help', 'remember', 'tell', 'want', 'daughter', 'live', 'welfare', 'payment', 'anymore', 'could', 'barely', 'afford', 'grocery', 'let', 'alone', 'rent', 'car', 'lucky', 'still', 'live', 'force', 'move', 'california', 'cell_phone', 'ring', 'caller', 'show', 'unfamiliar', 'number', 'glance', 'shoulder', 'see', 'isaac', 'call', 'answer', 'answer', 'honey', 'everything', 'rachel', 'swallowed_hard', 'hate', 'talk', 'telephone', 'someone', 'mother', 'especially', 'sister', 'law', 'sarah', 'live', 'mile', 'away', 'fine', 'wonder', 'hear', 'anything', 'yet', 'brother', 'nothing', 'unusual', 'come', 'lately', 'couple', 'miss', 'kid', 'disappearance', 'different', 'case', 'silence', 'guess', 'frown', 'related', 'ca', 'say', 'mom', 'know', 'well', 'anyone', 'wait']]\n"
     ]
    }
   ],
   "source": [
    "# Remove Stop Words\n",
    "data_words_nostops = remove_stopwords(data_words)\n",
    "\n",
    "# Form Bigrams\n",
    "data_words_bigrams = make_bigrams(data_words_nostops)\n",
    "\n",
    "# Initialize spacy 'en' model, keeping only tagger component (for efficiency)\n",
    "# python3 -m spacy download en\n",
    "nlp = spacy.load('en_core_web_sm', disable=['parser', 'ner'])\n",
    "\n",
    "# Do lemmatization keeping only noun, adj, vb, adv\n",
    "data_lemmatized = lemmatization(data_words_bigrams, allowed_postags=['NOUN', 'ADJ', 'VERB', 'ADV'])\n",
    "\n",
    "print(data_lemmatized[:1])"
   ]
  },
  {
   "cell_type": "code",
   "execution_count": 114,
   "metadata": {},
   "outputs": [
    {
     "name": "stdout",
     "output_type": "stream",
     "text": [
      "[[(0, 1), (1, 1), (2, 2), (3, 2), (4, 1), (5, 1), (6, 1), (7, 1), (8, 1), (9, 1), (10, 1), (11, 1), (12, 1), (13, 1), (14, 1), (15, 1), (16, 1), (17, 1), (18, 1), (19, 1), (20, 1), (21, 1), (22, 1), (23, 1), (24, 2), (25, 1), (26, 2), (27, 1), (28, 1), (29, 1), (30, 1), (31, 1), (32, 1), (33, 1), (34, 1), (35, 1), (36, 1), (37, 1), (38, 1), (39, 1), (40, 1), (41, 1), (42, 1), (43, 1), (44, 1), (45, 1), (46, 1), (47, 1), (48, 1), (49, 2), (50, 1), (51, 3), (52, 1), (53, 1), (54, 1), (55, 1), (56, 1), (57, 1), (58, 1), (59, 1), (60, 1), (61, 1), (62, 1), (63, 1), (64, 1), (65, 1), (66, 1), (67, 2), (68, 1), (69, 1), (70, 1), (71, 1), (72, 1), (73, 3), (74, 1), (75, 1), (76, 1), (77, 1), (78, 1), (79, 1), (80, 1), (81, 1), (82, 1), (83, 1), (84, 1), (85, 2), (86, 1), (87, 1), (88, 1), (89, 1), (90, 1), (91, 1), (92, 1), (93, 1), (94, 1), (95, 2), (96, 1), (97, 1), (98, 1), (99, 1), (100, 1), (101, 2), (102, 2), (103, 1), (104, 1), (105, 1), (106, 1), (107, 1), (108, 1), (109, 1), (110, 1), (111, 1), (112, 1), (113, 1), (114, 1), (115, 2), (116, 1), (117, 1), (118, 1), (119, 1), (120, 1), (121, 1), (122, 1), (123, 2), (124, 1), (125, 1), (126, 1), (127, 1), (128, 1), (129, 1), (130, 1), (131, 1), (132, 1), (133, 1), (134, 2), (135, 1), (136, 1), (137, 1), (138, 1), (139, 1), (140, 1), (141, 1), (142, 1), (143, 1)]]\n"
     ]
    }
   ],
   "source": [
    "# Create Dictionary\n",
    "id2word = corpora.Dictionary(data_lemmatized)\n",
    "\n",
    "# Create Corpus\n",
    "texts = data_lemmatized\n",
    "\n",
    "# Term Document Frequency\n",
    "corpus = [id2word.doc2bow(text) for text in texts]\n",
    "\n",
    "# View\n",
    "print(corpus[:1])"
   ]
  },
  {
   "cell_type": "code",
   "execution_count": 115,
   "metadata": {},
   "outputs": [],
   "source": [
    "# Human readable format of corpus (term-frequency)\n",
    "# [[(id2word[id], freq) for id, freq in cp] for cp in corpus[:1]]"
   ]
  },
  {
   "cell_type": "code",
   "execution_count": 116,
   "metadata": {},
   "outputs": [],
   "source": [
    "# Build LDA model\n",
    "lda_model = gensim.models.ldamodel.LdaModel(corpus=corpus,\n",
    "                                           id2word=id2word,\n",
    "                                           num_topics=20, \n",
    "                                           random_state=100,\n",
    "                                           update_every=1,\n",
    "                                           chunksize=100,\n",
    "                                           passes=10,\n",
    "                                           alpha='auto',\n",
    "                                           per_word_topics=True)"
   ]
  },
  {
   "cell_type": "code",
   "execution_count": 117,
   "metadata": {},
   "outputs": [],
   "source": [
    "# Print the Keyword in the 10 topics\n",
    "# pprint(lda_model.print_topics())\n",
    "# doc_lda = lda_model[corpus]"
   ]
  },
  {
   "cell_type": "code",
   "execution_count": 118,
   "metadata": {},
   "outputs": [
    {
     "name": "stdout",
     "output_type": "stream",
     "text": [
      "\n",
      "Perplexity:  -9.206852567349173\n",
      "\n",
      "Coherence Score:  0.48332630496571527\n"
     ]
    }
   ],
   "source": [
    "# Compute Perplexity\n",
    "print('\\nPerplexity: ', lda_model.log_perplexity(corpus))  # a measure of how good the model is. lower the better.\n",
    "\n",
    "# Compute Coherence Score\n",
    "coherence_model_lda = CoherenceModel(model=lda_model, texts=data_lemmatized, dictionary=id2word, coherence='c_v')\n",
    "coherence_lda = coherence_model_lda.get_coherence()\n",
    "print('\\nCoherence Score: ', coherence_lda)"
   ]
  },
  {
   "cell_type": "code",
   "execution_count": null,
   "metadata": {},
   "outputs": [],
   "source": []
  },
  {
   "cell_type": "code",
   "execution_count": 20,
   "metadata": {},
   "outputs": [
    {
     "data": {
      "text/html": [
       "\n",
       "<link rel=\"stylesheet\" type=\"text/css\" href=\"https://cdn.rawgit.com/bmabey/pyLDAvis/files/ldavis.v1.0.0.css\">\n",
       "\n",
       "\n",
       "<div id=\"ldavis_el8885622204761823441248356210\"></div>\n",
       "<script type=\"text/javascript\">\n",
       "\n",
       "var ldavis_el8885622204761823441248356210_data = {\"mdsDat\": {\"x\": [-0.29998334241123503, -0.27107461071862515, -0.16505295967472694, -0.27912291530706873, -0.2267750305364437, -0.19118447192176086, -0.2660304585493149, -0.1973173255285806, -0.13658514908450473, -0.05087603246299913, 0.1428728603416604, 0.1376576187904273, 0.15131954478173787, 0.18289018942590266, 0.2239320544887992, 0.21786858532978387, 0.25667760519866023, 0.24561841165225473, 0.25618932333061967, 0.2689761028554134], \"y\": [0.16451363957096132, -0.025845495377380137, 0.2359080978791658, 0.014640845602743683, 0.008189148475806839, 0.06051330898151093, -0.03253785279500629, 0.013801656995713405, -0.26335413828356335, -0.32084155508847323, -0.00506094864135367, -0.00834759611537875, -0.03646374016639214, 0.0018792219041750544, 0.031686122392100585, 0.025945541845350823, 0.03476141682424404, 0.028862106200117053, 0.034674138537127135, 0.03707608125852914], \"topics\": [1, 2, 3, 4, 5, 6, 7, 8, 9, 10, 11, 12, 13, 14, 15, 16, 17, 18, 19, 20], \"cluster\": [1, 1, 1, 1, 1, 1, 1, 1, 1, 1, 1, 1, 1, 1, 1, 1, 1, 1, 1, 1], \"Freq\": [26.92658042907715, 11.249496459960938, 10.24726390838623, 9.81590747833252, 8.234020233154297, 7.4484782218933105, 7.355418682098389, 7.313837051391602, 4.596408367156982, 3.21209979057312, 0.7500157952308655, 0.6918376088142395, 0.5807507038116455, 0.47752684354782104, 0.3779825270175934, 0.2914597690105438, 0.14824709296226501, 0.13633623719215393, 0.10414380580186844, 0.042198143899440765]}, \"tinfo\": {\"Term\": [\"state\", \"government\", \"politic\", \"say\", \"trump\", \"get\", \"woman\", \"country\", \"president\", \"virus\", \"people\", \"health\", \"city\", \"year\", \"man\", \"go\", \"think\", \"want\", \"child\", \"family\", \"political\", \"coronavirus\", \"china\", \"school\", \"love\", \"travel\", \"make\", \"case\", \"know\", \"news\", \"think\", \"want\", \"sure\", \"do\", \"seem\", \"instead\", \"let\", \"actually\", \"rather\", \"remember\", \"rest\", \"one\", \"simply\", \"fix\", \"sort\", \"fit\", \"easily\", \"certainly\", \"worried\", \"doubt\", \"mistake\", \"therefore\", \"common_cold\", \"suppose\", \"feeling\", \"deserve\", \"harm\", \"clearly\", \"plenty\", \"prefer\", \"get\", \"enough\", \"know\", \"try\", \"talk\", \"even\", \"understand\", \"anyone\", \"keep\", \"success\", \"wrong\", \"go\", \"lot\", \"thing\", \"way\", \"give\", \"mean\", \"come\", \"much\", \"make\", \"need\", \"well\", \"happen\", \"right\", \"may\", \"could\", \"see\", \"would\", \"still\", \"people\", \"good\", \"time\", \"take\", \"help\", \"feel\", \"back\", \"work\", \"many\", \"say\", \"tell\", \"day\", \"court\", \"investigation\", \"getty_image\", \"season\", \"november\", \"sander\", \"april\", \"judge\", \"player\", \"sunday\", \"october\", \"september\", \"trial\", \"june\", \"image_caption\", \"staff\", \"sport\", \"august\", \"saturday\", \"schedule\", \"accuse\", \"allegation\", \"suspend\", \"league\", \"royal\", \"criminal\", \"victory\", \"document\", \"allege\", \"tom\", \"monday\", \"thursday\", \"statement\", \"january\", \"tuesday\", \"december\", \"february\", \"friday\", \"order\", \"team\", \"former\", \"march\", \"announce\", \"wednesday\", \"decision\", \"claim\", \"justice\", \"say\", \"game\", \"office\", \"report\", \"release\", \"president\", \"week\", \"cnn\", \"first\", \"last\", \"would\", \"win\", \"take\", \"year\", \"also\", \"case\", \"public\", \"hold\", \"official\", \"day\", \"love\", \"happy\", \"eye\", \"sometimes\", \"female\", \"establish\", \"dark\", \"beautiful\", \"hero\", \"beauty\", \"broadway\", \"marriage\", \"finish\", \"fun\", \"surprise\", \"color\", \"around\", \"tonight\", \"dress\", \"cool\", \"nobody\", \"architect\", \"garden\", \"cry\", \"dance\", \"andrew\", \"lucky\", \"wedding\", \"household\", \"table\", \"moment\", \"sit\", \"enjoy\", \"walk\", \"night\", \"artist\", \"short\", \"heart\", \"fine\", \"minute\", \"birth\", \"sex\", \"song\", \"eat\", \"end\", \"room\", \"day\", \"play\", \"look\", \"stand\", \"good\", \"leave\", \"hour\", \"back\", \"long\", \"feel\", \"time\", \"never\", \"always\", \"company\", \"pay\", \"percent\", \"market\", \"cost\", \"sell\", \"industry\", \"product\", \"price\", \"fund\", \"employee\", \"average\", \"benefit\", \"compare\", \"customer\", \"consumer\", \"quarter\", \"amount\", \"value\", \"decline\", \"financial\", \"sale\", \"bloomberg\", \"income\", \"survey\", \"firm\", \"operate\", \"fat\", \"climate\", \"labor\", \"economy\", \"business\", \"impact\", \"economic\", \"program\", \"buy\", \"rate\", \"rise\", \"increase\", \"global\", \"base\", \"year\", \"high\", \"low\", \"number\", \"grow\", \"technology\", \"money\", \"worker\", \"job\", \"new\", \"food\", \"offer\", \"also\", \"big\", \"say\", \"work\", \"american\", \"accord\", \"make\", \"plan\", \"use\", \"would\", \"world\", \"include\", \"city\", \"art\", \"generation\", \"building\", \"island\", \"park\", \"west\", \"bar\", \"property\", \"district\", \"chicken\", \"tokyo\", \"recipe\", \"indian\", \"train\", \"entire\", \"plant\", \"vietnam\", \"central\", \"green\", \"burn\", \"locate\", \"grant\", \"supply\", \"mystery\", \"western\", \"bus\", \"restriction\", \"jail\", \"cross\", \"build\", \"south\", \"century\", \"north\", \"india\", \"red\", \"japan\", \"white\", \"land\", \"water\", \"area\", \"community\", \"fire\", \"street\", \"project\", \"black\", \"large\", \"world\", \"local\", \"power\", \"car\", \"place\", \"country\", \"people\", \"new\", \"open\", \"design\", \"many\", \"also\", \"use\", \"part\", \"become\", \"make\", \"first\", \"woman\", \"school\", \"police\", \"young\", \"girl\", \"student\", \"mother\", \"parent\", \"boy\", \"son\", \"father\", \"daughter\", \"arrest\", \"shoot\", \"sleep\", \"husband\", \"prison\", \"murder\", \"gun\", \"adult\", \"sister\", \"crash\", \"wish\", \"rescue\", \"suit\", \"founder\", \"journey\", \"overall\", \"teacher\", \"reporting\", \"family\", \"man\", \"child\", \"kid\", \"victim\", \"baby\", \"incident\", \"body\", \"wife\", \"college\", \"old\", \"kill\", \"age\", \"say\", \"life\", \"year\", \"home\", \"tell\", \"find\", \"death\", \"die\", \"friend\", \"live\", \"virus\", \"health\", \"outbreak\", \"spread\", \"disease\", \"patient\", \"infect\", \"infection\", \"flu\", \"cdc\", \"symptom\", \"vaccine\", \"medical\", \"illness\", \"emergency\", \"pandemic\", \"prevention\", \"treatment\", \"disease_control\", \"severe\", \"strain\", \"diagnose\", \"fever\", \"epidemic\", \"deadly\", \"advise\", \"testing\", \"expose\", \"infected\", \"transmit\", \"coronavirus\", \"test\", \"contact\", \"risk\", \"case\", \"hospital\", \"doctor\", \"sick\", \"prevent\", \"cause\", \"people\", \"say\", \"report\", \"number\", \"death\", \"public\", \"country\", \"study\", \"also\", \"may\", \"com\", \"www\", \"film\", \"website\", \"http\", \"facebook\", \"click\", \"article\", \"twitter\", \"email\", \"edit\", \"author\", \"org\", \"social_media\", \"photograph\", \"twitt\", \"app\", \"broadcast\", \"copyright\", \"channel\", \"original\", \"writer\", \"fashion\", \"page\", \"cbs\", \"character\", \"user\", \"producer\", \"magazine\", \"content\", \"photo\", \"bbc\", \"video\", \"image\", \"news\", \"picture\", \"book\", \"write\", \"publish\", \"series\", \"story\", \"post\", \"show\", \"online\", \"read\", \"cnn\", \"uk\", \"music\", \"information\", \"watch\", \"world\", \"new\", \"medium\", \"follow\", \"also\", \"time\", \"see\", \"state\", \"government\", \"federal\", \"military\", \"ensure\", \"region\", \"prime_minister\", \"iran\", \"european\", \"syria\", \"foreign\", \"muslim\", \"national_security\", \"nuclear\", \"iraq\", \"conflict\", \"afghanistan\", \"germany\", \"gmt\", \"israel\", \"commission\", \"terrorism\", \"syrian\", \"united_nation\", \"islamic\", \"iraqi\", \"cnnmoney\", \"province\", \"troop\", \"embassy\", \"law\", \"ban\", \"agency\", \"leader\", \"minister\", \"attack\", \"citizen\", \"department\", \"threat\", \"country\", \"usa\", \"official\", \"war\", \"authority\", \"strike\", \"say\", \"united_state\", \"uk\", \"united_states\", \"politic\", \"trump\", \"election\", \"vote\", \"republican\", \"donald_trump\", \"white_house\", \"democrat\", \"senate\", \"candidate\", \"voter\", \"democratic\", \"committee\", \"debate\", \"elect\", \"supporter\", \"clinton\", \"senator\", \"hillary_clinton\", \"gop\", \"sen\", \"presidential\", \"presidential_election\", \"barack_obama\", \"representative\", \"netanyahu\", \"corruption\", \"bid\", \"legislation\", \"false\", \"political\", \"obama\", \"campaign\", \"poll\", \"president\", \"party\", \"congress\", \"power\", \"race\", \"win\", \"house\", \"american\", \"leader\", \"bill\", \"hotel\", \"restaurant\", \"museum\", \"japanese\", \"centre\", \"organisation\", \"festival\", \"visitor\", \"french\", \"exhibition\", \"hiv\", \"display\", \"paris\", \"construction\", \"tower\", \"pro\", \"vaccination\", \"luxury\", \"basic\", \"bridge\", \"chef\", \"parade\", \"circulate\", \"initial\", \"urgent\", \"syndrome\", \"spanish\", \"proof\", \"capitol\", \"nick\", \"culture\", \"france\", \"tour\", \"guest\", \"widely\", \"famous\", \"room\", \"fly\", \"flight\", \"airline\", \"passenger\", \"airport\", \"plane\", \"transport\", \"aircraft\", \"aviation\", \"traveller\", \"port\", \"visa\", \"rocket\", \"transit\", \"ten\", \"singapore\", \"international_airport\", \"horror\", \"jeremy\", \"max\", \"delta\", \"jet\", \"caribbean\", \"engine\", \"airplane\", \"gate\", \"landing\", \"travel_ban\", \"turner\", \"haiti\", \"traveler\", \"travel\", \"taiwan\", \"air\", \"cancellation\", \"trip\", \"cancel\", \"board\", \"europe\", \"ticket\", \"safety\", \"china\", \"chinese\", \"hong_kong\", \"north_korea\", \"guinea\", \"debt\", \"brazil\", \"south_korea\", \"kenya\", \"beijing\", \"payment\", \"relation\", \"sierra_leone\", \"liberia\", \"credit_card\", \"establishment\", \"beije\", \"inch\", \"senegal\", \"uncertainty\", \"jordan\", \"wuhan\", \"shanghai\", \"seoul\", \"rex\", \"south_korean\", \"custom\", \"bail\", \"radical\", \"colombia\", \"africa\", \"card\", \"country\", \"asia\", \"tax\", \"russian\", \"defense\", \"putin\", \"intelligence\", \"consequence\", \"impose\", \"oppose\", \"deputy\", \"ukraine\", \"ambassador\", \"iranian\", \"recession\", \"john_mccain\", \"reject\", \"summit\", \"cartoon\", \"assad\", \"medicare\", \"moscow\", \"stimulus\", \"intelligence_community\", \"treasury\", \"penalty\", \"unemployment_rate\", \"load\", \"unemployment\", \"loom\", \"tehran\", \"skeptical\", \"taxis\", \"russia\", \"cut\", \"proposal\", \"pass\", \"animal\", \"elephant\", \"specie\", \"fish\", \"bee\", \"lion\", \"evolve\", \"extinction\", \"creature\", \"evolution\", \"tiger\", \"giraffes\", \"mammal\", \"poacher\", \"reptile\", \"crocodile\", \"ape\", \"thailand\", \"rare\", \"earth\", \"sanctuary\", \"scientist\", \"human\", \"nature\", \"discover\", \"culture_culture\", \"cecil\", \"wildlife\", \"ancient_find\", \"hide_caption\", \"stock\", \"investor\", \"mcdonald\", \"corporation\", \"basis\", \"loan\", \"disney\", \"stock_market\", \"nasdaq\", \"earning\", \"trading\", \"generate\", \"settle\", \"guidance\", \"financial_crisis\", \"adjust\", \"asset\", \"pension\", \"federal_reserve\", \"bond\", \"exclude\", \"outlook\", \"corp\", \"lender\", \"banker\", \"delta_air\", \"disappointing\", \"nyse\", \"forbes\", \"bank\", \"yield\", \"index\", \"corporate\", \"wall_street\", \"foundation\", \"hill\", \"sight\", \"ocean\", \"tom_hank\", \"happiness\", \"biological\", \"ton\", \"rita_wilson\", \"outline\", \"conspiracy\", \"radiation\", \"blog_post\", \"nudity\", \"experts_warn\", \"immediate_threat\", \"mmm\", \"youtube_video\", \"culture_culture\", \"wilson\", \"invisible\", \"phillip\", \"captain\", \"koala\", \"ginton\", \"rita\", \"tux\", \"chernobyl\", \"sully\", \"vessel\", \"trust\", \"attorney_general\", \"climate_change\", \"cardiff\", \"hide_caption\", \"court_court\", \"protest\", \"olympic\", \"protester\", \"criticism\", \"spark\", \"youth\", \"arizona\", \"residence\", \"medal\", \"gold_medal\", \"demonstrator\", \"wong\", \"ski\", \"opening_ceremony\", \"demonstration\", \"athlete\", \"democracy\", \"bile\", \"cecil\", \"yingluck\", \"venue\", \"thaksin\", \"ioc\", \"shinawatra\", \"oust\", \"paralympic\", \"resignation\", \"gymnast\", \"host_contender\", \"movement\", \"nasa\", \"hide_caption\", \"cameroon\", \"primary\", \"italy\", \"italian\", \"isis\", \"donald\", \"spy\", \"malaysia\", \"nsa\", \"se\", \"import\", \"lockdown\", \"mcneil\", \"pornography\", \"porn\", \"lombardy\", \"rome\", \"advert\", \"michael_barbaro\", \"supreme\", \"whitworth\", \"milan\", \"pornhub\", \"lorenzin\", \"beatrice\", \"tunisian\", \"empty\", \"phase\", \"concentrated\", \"export\", \"spain\", \"prize\", \"apply\", \"covid\", \"enter\", \"unk\", \"resolution\", \"uruguay\", \"argentina\", \"chile\", \"venezuela\", \"mali\", \"wine\", \"gaicon\", \"sauce\", \"vineyard\", \"winery\", \"garzo\", \"mujica\", \"impeachment\", \"grape\", \"wine_destination\", \"hectare\", \"rover\", \"pantry\", \"gdp\", \"boast\", \"oven\", \"paraguay\", \"montevideo\", \"mars_curiosity\", \"haley\", \"impeach\", \"micro\", \"varietal\", \"latin_america\", \"nasa\", \"security_council\", \"salt\", \"gram\", \"hide_caption\"], \"Freq\": [14957.0, 14377.0, 12302.0, 43209.0, 7675.0, 18622.0, 8009.0, 8283.0, 7086.0, 6807.0, 20296.0, 6282.0, 6238.0, 15883.0, 6163.0, 18411.0, 10427.0, 10404.0, 5558.0, 5141.0, 3556.0, 4608.0, 2200.0, 4366.0, 4925.0, 2315.0, 16439.0, 5656.0, 11138.0, 5697.0, 10426.677734375, 10403.7451171875, 2877.301025390625, 2262.4306640625, 1901.3470458984375, 1693.15283203125, 2433.83935546875, 1460.2742919921875, 1386.349609375, 1355.7821044921875, 1102.6053466796875, 1100.5057373046875, 943.9700927734375, 877.6255493164062, 680.6641845703125, 591.0098266601562, 588.5648803710938, 501.83306884765625, 481.18328857421875, 481.0840759277344, 476.741455078125, 472.49102783203125, 470.7148742675781, 451.5296936035156, 414.8868408203125, 394.05560302734375, 383.2453918457031, 379.72442626953125, 374.1186828613281, 330.69427490234375, 18112.533203125, 2202.365478515625, 10529.5185546875, 5257.70556640625, 3286.715576171875, 6170.05810546875, 1920.9500732421875, 2073.78662109375, 3929.52197265625, 992.7943115234375, 1159.88330078125, 16343.01171875, 4069.6591796875, 5743.8818359375, 6749.30810546875, 5042.75390625, 3225.7900390625, 7463.19873046875, 4723.5673828125, 12404.3134765625, 5773.29736328125, 6075.25634765625, 4027.341064453125, 4552.482421875, 7098.275390625, 6130.021484375, 7968.0703125, 8713.9736328125, 5155.986328125, 10966.18359375, 6774.091796875, 8540.9599609375, 7519.82177734375, 4986.748046875, 4152.12939453125, 4457.79052734375, 5609.85107421875, 4775.14990234375, 8039.09033203125, 4698.623046875, 5119.04296875, 2355.867431640625, 1482.936279296875, 1408.3858642578125, 1233.982666015625, 1229.6612548828125, 1175.9635009765625, 1050.986328125, 1043.8199462890625, 1023.6654052734375, 980.5982666015625, 898.5326538085938, 885.7156372070312, 875.5510864257812, 857.8126220703125, 806.0947265625, 786.5082397460938, 761.0833129882812, 750.4947509765625, 746.0999755859375, 699.6024169921875, 759.4429321289062, 607.9639892578125, 565.7532958984375, 531.9677124023438, 473.4950256347656, 453.6712951660156, 451.6333923339844, 447.2183532714844, 428.4902648925781, 425.37762451171875, 1264.53955078125, 1284.381103515625, 2293.01416015625, 1081.91259765625, 1272.13671875, 1097.91455078125, 924.7755126953125, 1464.4349365234375, 2033.2772216796875, 1626.926513671875, 1625.6141357421875, 1624.1260986328125, 1520.080810546875, 1090.3004150390625, 1921.1241455078125, 1324.250732421875, 1117.9361572265625, 17548.1875, 1400.6678466796875, 1940.6990966796875, 3303.70361328125, 1484.6204833984375, 2815.325927734375, 2443.079833984375, 2322.6572265625, 3045.204833984375, 2072.518798828125, 2716.26953125, 1325.1771240234375, 2336.8486328125, 2354.3076171875, 2309.629638671875, 1788.3499755859375, 1565.54443359375, 1396.943115234375, 1415.3612060546875, 1549.4454345703125, 4924.8935546875, 2095.227783203125, 1977.7894287109375, 1315.15966796875, 1309.32470703125, 1137.501953125, 1121.98876953125, 1052.382568359375, 1003.9521484375, 973.2893676757812, 971.4784545898438, 941.6748657226562, 940.2168579101562, 880.1868896484375, 874.1375122070312, 844.9756469726562, 835.1038208007812, 741.57958984375, 720.8403930664062, 720.6717529296875, 715.2069091796875, 700.6378173828125, 692.3622436523438, 664.2915649414062, 655.99072265625, 653.6920166015625, 624.2133178710938, 602.8668212890625, 587.7210083007812, 583.6827392578125, 2494.028564453125, 2018.736083984375, 1200.135009765625, 1975.1583251953125, 2495.879150390625, 1148.8623046875, 1296.43212890625, 1492.0191650390625, 1122.7982177734375, 1635.8995361328125, 857.1124877929688, 1277.2239990234375, 1021.1432495117188, 1684.7088623046875, 2806.409423828125, 1476.78466796875, 3354.501708984375, 1650.2822265625, 2178.494873046875, 1364.84521484375, 2218.677001953125, 1495.605712890625, 1284.103515625, 1555.914306640625, 1336.8511962890625, 1349.4302978515625, 1367.529296875, 1235.683837890625, 1208.6434326171875, 3283.374267578125, 2232.009521484375, 2108.406005859375, 1504.8184814453125, 1304.0672607421875, 1235.904296875, 1226.0003662109375, 1160.8109130859375, 1030.7738037109375, 907.5797729492188, 884.690185546875, 687.7508544921875, 675.7728881835938, 652.5556030273438, 650.693115234375, 648.2350463867188, 608.0729370117188, 574.1471557617188, 572.8118896484375, 569.4642333984375, 566.5174560546875, 530.2528686523438, 529.5050659179688, 523.5966186523438, 484.46612548828125, 449.8786315917969, 438.66424560546875, 412.6789855957031, 391.5343017578125, 365.5965270996094, 1553.0335693359375, 2251.182373046875, 1136.362060546875, 1158.078369140625, 1259.4183349609375, 885.2174682617188, 857.018798828125, 1482.2159423828125, 1402.884521484375, 1228.4873046875, 1434.4193115234375, 6446.1376953125, 1941.891845703125, 1143.6885986328125, 2236.3828125, 1367.565673828125, 874.8277587890625, 1365.6636962890625, 1047.8216552734375, 1584.2430419921875, 2799.189697265625, 1321.8409423828125, 1119.8173828125, 2773.62841796875, 1552.7672119140625, 3904.77392578125, 2187.518310546875, 1635.874267578125, 1475.1507568359375, 2131.21630859375, 1344.841064453125, 1376.7000732421875, 1429.982177734375, 1366.595458984375, 1334.858642578125, 6237.8564453125, 1333.617919921875, 1204.3282470703125, 1118.57421875, 1017.3558349609375, 934.8306884765625, 854.6002197265625, 841.0469360351562, 811.29931640625, 808.5392456054688, 800.4537963867188, 774.1340942382812, 727.4330444335938, 692.8639526367188, 639.96337890625, 613.1712646484375, 601.837890625, 536.0858154296875, 527.1926879882812, 504.178955078125, 468.6755065917969, 447.5763854980469, 440.1112365722656, 419.322265625, 418.5651550292969, 401.1789245605469, 388.0791931152344, 381.990234375, 379.2318420410156, 364.0281066894531, 1856.7337646484375, 895.1466674804688, 782.4801635742188, 719.3031005859375, 1389.6185302734375, 865.5960083007812, 899.1005859375, 1622.8990478515625, 826.3087158203125, 1352.6102294921875, 1800.8597412109375, 1746.5750732421875, 1234.9273681640625, 953.7274780273438, 986.2525634765625, 1300.8973388671875, 1544.30126953125, 3562.393310546875, 1331.2154541015625, 1540.953125, 1110.761474609375, 1892.8802490234375, 2611.479248046875, 3891.598876953125, 2750.83154296875, 1512.2803955078125, 1054.36474609375, 2127.88525390625, 2638.899169921875, 1485.8385009765625, 1406.5943603515625, 1148.03271484375, 1230.55126953125, 1129.82080078125, 8008.4072265625, 4365.6474609375, 3553.04345703125, 2715.030517578125, 2046.9273681640625, 1994.1549072265625, 1872.82666015625, 1850.5093994140625, 1312.99365234375, 1288.4884033203125, 1193.717041015625, 1183.0806884765625, 1093.7073974609375, 1086.7900390625, 1085.937744140625, 967.3323974609375, 828.0128173828125, 777.8367309570312, 661.9046630859375, 616.5548706054688, 567.1454467773438, 556.676513671875, 554.526123046875, 533.83056640625, 503.07220458984375, 465.69317626953125, 449.6297607421875, 415.1539611816406, 377.4356689453125, 375.0296630859375, 5012.12451171875, 5869.48193359375, 5228.77197265625, 1188.4873046875, 1126.807373046875, 1107.0673828125, 982.95654296875, 2108.54638671875, 1098.06689453125, 938.1478271484375, 3102.76318359375, 1614.8736572265625, 1295.6959228515625, 6897.0517578125, 2074.7421875, 2956.121826171875, 1841.6707763671875, 1876.767578125, 1759.45947265625, 1355.708984375, 1353.000244140625, 1244.1405029296875, 1172.116943359375, 6806.58837890625, 6281.91162109375, 2904.92041015625, 2885.0478515625, 2543.776123046875, 1507.1409912109375, 1471.9786376953125, 1372.901611328125, 1206.968994140625, 1201.159423828125, 1146.45166015625, 1128.8104248046875, 1107.858642578125, 927.9536743164062, 904.78955078125, 844.5191040039062, 704.8341064453125, 652.2990112304688, 603.457275390625, 528.138671875, 523.2119750976562, 522.96142578125, 494.3607177734375, 485.51531982421875, 474.7111511230469, 443.81036376953125, 394.253173828125, 381.03533935546875, 367.3677978515625, 367.3493957519531, 4504.123046875, 1421.3026123046875, 1910.71533203125, 1625.80908203125, 3606.69677734375, 1741.9085693359375, 1139.556396484375, 984.3477783203125, 830.2885131835938, 1379.529052734375, 4167.5537109375, 5149.56103515625, 1978.8646240234375, 1529.6416015625, 1235.0213623046875, 1399.458251953125, 1401.4814453125, 1017.7921142578125, 1154.804931640625, 1120.39794921875, 2041.71630859375, 1580.3905029296875, 1450.7413330078125, 1450.0498046875, 1384.4873046875, 1236.787841796875, 1095.61572265625, 1052.182861328125, 954.4365234375, 944.1806030273438, 888.2356567382812, 827.9104614257812, 817.240234375, 753.2236938476562, 742.8046264648438, 730.9719848632812, 696.356689453125, 665.9027099609375, 655.8513793945312, 571.6449584960938, 563.04248046875, 559.6775512695312, 556.982421875, 545.179443359375, 528.7490844726562, 515.487060546875, 503.2982482910156, 501.19622802734375, 473.53173828125, 452.6903991699219, 3849.427734375, 3882.019287109375, 2342.025146484375, 1177.2689208984375, 4313.75146484375, 2087.22314453125, 1169.6529541015625, 2544.7041015625, 1690.602783203125, 1269.0302734375, 2949.539306640625, 1345.6285400390625, 3453.949462890625, 1082.74560546875, 2038.05712890625, 2531.788330078125, 1589.6849365234375, 1009.0738525390625, 1244.3956298828125, 1335.3995361328125, 1950.967041015625, 1830.2989501953125, 1102.4781494140625, 1285.5076904296875, 1578.9169921875, 1288.1834716796875, 1198.1912841796875, 14956.4150390625, 14376.8974609375, 1835.337158203125, 1360.853515625, 1132.3206787109375, 1014.5680541992188, 990.7437744140625, 753.8060302734375, 711.3367919921875, 654.0261840820312, 640.1776123046875, 517.90087890625, 499.3836364746094, 485.5608215332031, 481.13409423828125, 462.76324462890625, 423.3183898925781, 410.81219482421875, 404.41619873046875, 383.66693115234375, 366.1766052246094, 363.031982421875, 349.4840393066406, 340.6923828125, 317.10076904296875, 315.786376953125, 315.4687805175781, 310.27496337890625, 302.51678466796875, 283.3171691894531, 1891.72216796875, 842.2116088867188, 1121.221435546875, 1079.47802734375, 638.63525390625, 1251.2830810546875, 661.3387451171875, 1300.6146240234375, 643.099853515625, 2296.699462890625, 471.2085876464844, 983.7423706054688, 762.60009765625, 714.4089965820312, 583.1854858398438, 1620.3836669921875, 577.5801391601562, 604.2877197265625, 548.7123413085938, 12301.45703125, 7674.11474609375, 2068.463134765625, 1738.795654296875, 1732.0660400390625, 1611.049072265625, 1602.76318359375, 1107.0484619140625, 1104.49755859375, 1094.711181640625, 1044.914794921875, 1007.8903198242188, 709.1620483398438, 707.0928955078125, 673.964599609375, 597.02294921875, 509.8262634277344, 487.0652160644531, 423.3386535644531, 393.59271240234375, 346.5032653808594, 332.2496032714844, 303.6208190917969, 295.214599609375, 289.89764404296875, 249.50648498535156, 243.81729125976562, 237.76895141601562, 236.26097106933594, 233.65025329589844, 3419.01611328125, 1163.26416015625, 1790.8465576171875, 672.4370727539062, 4078.281005859375, 1433.0096435546875, 584.22412109375, 953.6263427734375, 598.8298950195312, 645.2633056640625, 666.4063110351562, 765.1192016601562, 577.9172973632812, 531.29150390625, 1310.343994140625, 791.7767333984375, 768.8563842773438, 559.2747802734375, 542.7922973632812, 491.01678466796875, 456.7586975097656, 424.5797424316406, 333.71319580078125, 313.3939208984375, 312.8218688964844, 307.1131286621094, 273.7166748046875, 262.2035217285156, 244.63156127929688, 230.6262969970703, 225.91908264160156, 224.09165954589844, 223.19944763183594, 215.4739990234375, 207.23721313476562, 193.58056640625, 185.37196350097656, 176.53353881835938, 144.34559631347656, 138.9637908935547, 138.7700958251953, 128.6913299560547, 117.8323745727539, 116.97380065917969, 759.6915283203125, 273.0374450683594, 234.31735229492188, 239.30044555664062, 204.0504608154297, 207.33184814453125, 188.41119384765625, 805.7398071289062, 754.5067138671875, 679.7883911132812, 676.6433715820312, 630.5303955078125, 563.8491821289062, 377.6264343261719, 281.9176025390625, 182.631591796875, 180.1104736328125, 178.10646057128906, 172.87234497070312, 172.53086853027344, 169.1954345703125, 120.66534423828125, 111.24942779541016, 108.87549591064453, 107.13970184326172, 100.79066467285156, 99.64283752441406, 99.21104431152344, 97.16213989257812, 97.13447570800781, 96.84928131103516, 92.28300476074219, 90.29467010498047, 90.1664810180664, 88.13412475585938, 87.92105102539062, 81.57333374023438, 308.25390625, 1412.6324462890625, 125.30719757080078, 501.8780517578125, 142.57130432128906, 262.8008728027344, 221.07264709472656, 187.7457275390625, 202.0413055419922, 102.20549011230469, 100.41018676757812, 2199.07080078125, 904.5003051757812, 473.0461730957031, 440.3290100097656, 433.47491455078125, 381.3636169433594, 368.0489807128906, 290.45660400390625, 289.4759216308594, 248.46246337890625, 199.41639709472656, 189.30136108398438, 187.2529754638672, 173.03590393066406, 162.33323669433594, 160.65087890625, 148.93026733398438, 148.37921142578125, 139.88619995117188, 136.4212188720703, 134.21607971191406, 129.59292602539062, 120.31298828125, 102.07421112060547, 96.33417510986328, 95.63226318359375, 90.97102355957031, 90.95912170410156, 84.90247344970703, 78.20694732666016, 481.6846008300781, 192.69183349609375, 574.6404418945312, 109.9273910522461, 1769.7659912109375, 508.3325500488281, 386.4968566894531, 320.1241760253906, 274.5999450683594, 254.57366943359375, 251.9180450439453, 241.1883544921875, 237.40626525878906, 220.02882385253906, 214.74090576171875, 208.71249389648438, 182.85171508789062, 175.94577026367188, 171.6201171875, 147.93202209472656, 142.96119689941406, 111.00360107421875, 88.03004455566406, 87.14115142822266, 84.73436737060547, 82.66667175292969, 81.45539855957031, 79.32978057861328, 68.94635009765625, 60.54560852050781, 58.65498733520508, 56.21958541870117, 52.13252258300781, 45.49272537231445, 420.27667236328125, 673.6775512695312, 162.8019256591797, 67.50159454345703, 61.805458068847656, 1039.80810546875, 338.9237976074219, 327.5312805175781, 266.6546325683594, 220.99917602539062, 192.9982147216797, 180.86300659179688, 117.80780792236328, 96.29659271240234, 71.27822875976562, 63.249446868896484, 49.442527770996094, 42.10671615600586, 38.35500717163086, 30.648042678833008, 22.226823806762695, 18.590774536132812, 203.48312377929688, 194.050048828125, 343.7728576660156, 36.31367492675781, 284.19134521484375, 681.5367431640625, 137.76329040527344, 85.12889099121094, 0.059161070734262466, 0.05914206802845001, 0.05914174020290375, 0.05913986265659332, 0.05914609879255295, 587.1475830078125, 220.72018432617188, 203.68479919433594, 183.19520568847656, 181.86581420898438, 160.815185546875, 145.93927001953125, 143.72091674804688, 141.9164581298828, 141.28330993652344, 138.279296875, 122.73479461669922, 119.22257995605469, 110.10567474365234, 100.43177795410156, 98.376220703125, 94.61283874511719, 93.04753875732422, 90.24710083007812, 79.8017349243164, 77.63714599609375, 36.78432846069336, 28.659835815429688, 25.000423431396484, 24.09943389892578, 22.205759048461914, 20.448760986328125, 8.7857027053833, 6.494544982910156, 456.8133850097656, 60.231910705566406, 148.97598266601562, 40.54369354248047, 42.391563415527344, 320.3661193847656, 131.61679077148438, 114.23140716552734, 95.21778106689453, 80.91741180419922, 76.75221252441406, 66.63941192626953, 66.08345794677734, 64.60923767089844, 56.82223129272461, 38.200199127197266, 28.006704330444336, 15.29407024383545, 13.203852653503418, 10.3711519241333, 10.31659984588623, 2.0910744667053223, 2.0185353755950928, 0.03594937175512314, 0.035939425230026245, 0.03593900799751282, 0.03593878075480461, 0.0359388031065464, 0.035938553512096405, 0.03593863174319267, 0.03593793138861656, 0.03593780845403671, 0.03593778982758522, 0.035937678068876266, 0.035937801003456116, 0.03593863919377327, 0.035938192158937454, 0.035938311368227005, 0.035937875509262085, 0.035938847810029984, 0.03593819588422775, 343.9892883300781, 208.2635955810547, 159.06814575195312, 112.0845718383789, 99.85195922851562, 99.05021667480469, 78.31603240966797, 70.54106140136719, 41.49574661254883, 39.509498596191406, 37.279449462890625, 33.80802536010742, 31.071399688720703, 7.401424884796143, 23.940595626831055, 30.245405197143555, 36.692138671875, 0.02739446796476841, 0.027394428849220276, 0.027393680065870285, 0.027391521260142326, 0.027390500530600548, 0.02739047445356846, 0.027390433475375175, 0.02739037200808525, 0.027390632778406143, 0.027390381321310997, 0.027390113100409508, 0.027390003204345703, 0.027391226962208748, 0.027390750125050545, 0.02739265002310276, 0.027390532195568085, 0.027390554547309875, 397.100341796875, 155.9919891357422, 105.05056762695312, 98.7281265258789, 49.50238800048828, 27.020153045654297, 10.25327205657959, 6.261966705322266, 0.025057483464479446, 0.025054387748241425, 0.02505309507250786, 0.025052960962057114, 0.025052975863218307, 0.025052988901734352, 0.025052417069673538, 0.025052225217223167, 0.025052230805158615, 0.025052323937416077, 0.025051990523934364, 0.025052141398191452, 0.025051932781934738, 0.02505192533135414, 0.02505170926451683, 0.025051705539226532, 0.0250519048422575, 0.02505192533135414, 0.025051577016711235, 0.025051815435290337, 0.025051871314644814, 0.025051863864064217, 0.025052180513739586, 0.025051990523934364, 0.025052011013031006, 0.02505183219909668, 59.76191711425781, 21.3393611907959, 20.216976165771484, 18.680992126464844, 15.387643814086914, 5.171665668487549, 0.01339708361774683, 0.013395040296018124, 0.013394167646765709, 0.013393722474575043, 0.013393728993833065, 0.01339369174093008, 0.013393647037446499, 0.013393905945122242, 0.013393539004027843, 0.013393471017479897, 0.013393478468060493, 0.013393708504736423, 0.01339352410286665, 0.013393402099609375, 0.013393403962254524, 0.01339352410286665, 0.013393359258770943, 0.013393296860158443, 0.013393422588706017, 0.013393293134868145, 0.013393372297286987, 0.013393297791481018, 0.013393224216997623, 0.013393282890319824, 0.013393664732575417, 0.013393294997513294, 0.013393368571996689, 0.013393348082900047, 0.013393435627222061], \"Total\": [14957.0, 14377.0, 12302.0, 43209.0, 7675.0, 18622.0, 8009.0, 8283.0, 7086.0, 6807.0, 20296.0, 6282.0, 6238.0, 15883.0, 6163.0, 18411.0, 10427.0, 10404.0, 5558.0, 5141.0, 3556.0, 4608.0, 2200.0, 4366.0, 4925.0, 2315.0, 16439.0, 5656.0, 11138.0, 5697.0, 10427.638671875, 10404.70703125, 2878.261962890625, 2263.3916015625, 1902.3074951171875, 1694.11328125, 2435.271484375, 1461.23486328125, 1387.31005859375, 1356.7425537109375, 1103.5657958984375, 1101.4661865234375, 944.9307250976562, 878.586181640625, 681.6248168945312, 591.970458984375, 589.5255126953125, 502.7937927246094, 482.1440124511719, 482.0447998046875, 477.7021789550781, 473.4517517089844, 471.67559814453125, 452.49041748046875, 415.8475646972656, 395.0163269042969, 384.20611572265625, 380.6851501464844, 375.07940673828125, 331.6549987792969, 18622.41015625, 2226.9892578125, 11138.58984375, 5539.3037109375, 3436.444091796875, 6587.921875, 1988.68212890625, 2153.154541015625, 4163.65283203125, 1015.1228637695312, 1193.22607421875, 18411.736328125, 4558.35009765625, 6614.9189453125, 7904.59375, 5843.734375, 3619.1962890625, 9042.4736328125, 5533.087890625, 16439.912109375, 7060.56005859375, 7621.05908203125, 4810.85595703125, 5559.60791015625, 9673.8642578125, 8319.7744140625, 11532.6064453125, 13316.3291015625, 6841.728515625, 20296.60546875, 10429.736328125, 14456.0380859375, 12463.849609375, 6882.228515625, 5502.3916015625, 6405.54541015625, 10984.7080078125, 7697.142578125, 43209.640625, 7587.03857421875, 10645.0986328125, 2356.868408203125, 1483.936767578125, 1409.3863525390625, 1234.983154296875, 1230.6617431640625, 1176.9639892578125, 1051.98681640625, 1044.8204345703125, 1024.666015625, 981.5989379882812, 899.5333251953125, 886.71630859375, 876.5517578125, 858.8132934570312, 807.0953979492188, 787.5089111328125, 762.083984375, 751.4954223632812, 747.1006469726562, 700.6030883789062, 760.6454467773438, 608.9646606445312, 566.7539672851562, 532.9683837890625, 474.49578857421875, 454.67205810546875, 452.6341552734375, 448.2191162109375, 429.49102783203125, 426.3783874511719, 1284.5001220703125, 1318.146728515625, 2405.075439453125, 1109.34619140625, 1313.8399658203125, 1130.50146484375, 947.9502563476562, 1530.2530517578125, 2227.373046875, 1752.6510009765625, 1788.96728515625, 1805.175048828125, 1696.868896484375, 1159.972412109375, 2266.725830078125, 1466.678955078125, 1206.5743408203125, 43209.640625, 1621.2047119140625, 2510.755126953125, 7032.60595703125, 2054.3251953125, 7086.96533203125, 5504.81689453125, 5060.43505859375, 9627.4609375, 6090.6318359375, 13316.3291015625, 1971.3914794921875, 12463.849609375, 15883.7080078125, 15096.4921875, 5656.36279296875, 4297.53076171875, 2437.37646484375, 2958.171875, 10645.0986328125, 4925.81640625, 2096.151611328125, 1978.7130126953125, 1316.083251953125, 1310.248291015625, 1138.425537109375, 1122.912353515625, 1053.30615234375, 1004.8757934570312, 974.2130126953125, 972.402099609375, 942.5985107421875, 941.1405029296875, 881.1105346679688, 875.0611572265625, 845.8992919921875, 836.0274658203125, 742.5032348632812, 721.7640380859375, 721.5953979492188, 716.1305541992188, 701.5614624023438, 693.285888671875, 665.2152099609375, 656.9143676757812, 654.6156616210938, 625.136962890625, 603.7904663085938, 588.6446533203125, 584.6063842773438, 2562.834716796875, 2110.2890625, 1276.9324951171875, 2212.009765625, 3054.416015625, 1272.9012451171875, 1478.215576171875, 1799.7420654296875, 1264.4228515625, 2038.56591796875, 902.4699096679688, 1516.423583984375, 1141.0462646484375, 2302.34912109375, 4732.533203125, 2041.095703125, 10645.0986328125, 3241.464599609375, 7191.9228515625, 2494.398681640625, 10429.736328125, 4695.89111328125, 2753.40673828125, 6405.54541015625, 4886.7587890625, 5502.3916015625, 14456.0380859375, 4332.29931640625, 3278.59375, 3284.371337890625, 2233.006591796875, 2109.403076171875, 1505.8153076171875, 1305.0640869140625, 1236.901123046875, 1226.9971923828125, 1161.8077392578125, 1031.7706298828125, 908.5765991210938, 885.68701171875, 688.7476806640625, 676.7697143554688, 653.5524291992188, 651.68994140625, 649.2318725585938, 609.0697631835938, 575.1439819335938, 573.8087158203125, 570.4610595703125, 567.5142822265625, 531.2496948242188, 530.5018920898438, 524.5934448242188, 485.46307373046875, 450.8755798339844, 439.66119384765625, 413.6759338378906, 392.53125, 366.5934753417969, 1589.350341796875, 2425.690673828125, 1235.0804443359375, 1279.076904296875, 1410.3916015625, 977.08544921875, 954.7586669921875, 1984.115234375, 1853.4510498046875, 1599.086669921875, 2013.5673828125, 15883.7080078125, 3149.047607421875, 1514.5889892578125, 4308.19580078125, 2037.7822265625, 1034.8035888671875, 2100.06640625, 1463.51220703125, 3200.1728515625, 10387.21875, 2366.072509765625, 1673.78173828125, 15096.4921875, 3668.14697265625, 43209.640625, 10984.7080078125, 4589.408203125, 3541.52001953125, 16439.912109375, 2621.16845703125, 4745.2431640625, 13316.3291015625, 9490.33203125, 6174.154296875, 6238.84423828125, 1334.6058349609375, 1205.316162109375, 1119.5621337890625, 1018.3438110351562, 935.8186645507812, 855.5881958007812, 842.034912109375, 812.2872924804688, 809.5272216796875, 801.4417724609375, 775.1220703125, 728.4210205078125, 693.8519287109375, 640.9513549804688, 614.1592407226562, 602.8258666992188, 537.0737915039062, 528.1806640625, 505.1670837402344, 469.66363525390625, 448.56451416015625, 441.099365234375, 420.3103942871094, 419.55328369140625, 402.16705322265625, 389.06732177734375, 382.9783630371094, 380.219970703125, 365.0162353515625, 1864.11572265625, 900.1412963867188, 792.304443359375, 732.6354370117188, 1463.512939453125, 896.8751831054688, 936.9732666015625, 1777.5025634765625, 866.3705444335938, 1526.347412109375, 2142.042724609375, 2227.38232421875, 1489.009765625, 1098.1800537109375, 1196.610107421875, 1784.179931640625, 2339.306640625, 9490.33203125, 1946.9884033203125, 2592.41796875, 1528.468505859375, 4275.041015625, 8283.7060546875, 20296.60546875, 10387.21875, 3270.1015625, 1421.2154541015625, 7697.142578125, 15096.4921875, 4745.2431640625, 3960.75244140625, 4398.658203125, 16439.912109375, 9627.4609375, 8009.39404296875, 4366.63427734375, 3554.030517578125, 2716.017578125, 2047.9144287109375, 1995.1419677734375, 1873.813720703125, 1851.4964599609375, 1313.980712890625, 1289.4754638671875, 1194.7060546875, 1184.0677490234375, 1094.6944580078125, 1087.777099609375, 1086.9248046875, 968.3194580078125, 828.9998779296875, 778.8237915039062, 662.8917236328125, 617.5419311523438, 568.1325073242188, 557.66357421875, 555.51318359375, 534.817626953125, 504.0594177246094, 466.6803894042969, 450.6169738769531, 416.14117431640625, 378.4228820800781, 376.0168762207031, 5141.41357421875, 6163.5927734375, 5558.6220703125, 1219.0831298828125, 1158.35302734375, 1137.541748046875, 1013.8958740234375, 2361.786376953125, 1228.6517333984375, 1030.1031494140625, 4411.21044921875, 2342.399658203125, 1844.183837890625, 43209.640625, 6536.8759765625, 15883.7080078125, 5689.01611328125, 7587.03857421875, 6993.0615234375, 2693.318115234375, 2761.50244140625, 2795.936279296875, 5822.4765625, 6807.59912109375, 6282.92236328125, 2905.93115234375, 2886.05859375, 2544.786865234375, 1508.1517333984375, 1472.9893798828125, 1373.912353515625, 1207.979736328125, 1202.170166015625, 1147.46240234375, 1129.8211669921875, 1108.869384765625, 928.9644165039062, 905.8003540039062, 845.5298461914062, 705.8448486328125, 653.3097534179688, 604.468017578125, 529.1494140625, 524.2227172851562, 523.97216796875, 495.3716125488281, 486.5262145996094, 475.7220458984375, 444.8212585449219, 395.2640686035156, 382.0462341308594, 368.3786926269531, 368.36029052734375, 4608.25830078125, 1623.31689453125, 2311.838623046875, 1970.9281005859375, 5656.36279296875, 2451.47607421875, 1486.293212890625, 1276.261962890625, 1043.68701171875, 2494.225830078125, 20296.60546875, 43209.640625, 7032.60595703125, 4308.19580078125, 2693.318115234375, 4297.53076171875, 8283.7060546875, 2433.735107421875, 15096.4921875, 9673.8642578125, 2042.713623046875, 1581.3878173828125, 1451.7386474609375, 1451.047119140625, 1385.484619140625, 1237.78515625, 1096.613037109375, 1053.18017578125, 955.433837890625, 945.1779174804688, 889.2329711914062, 828.9077758789062, 818.237548828125, 754.2210083007812, 743.8019409179688, 731.9692993164062, 697.35400390625, 666.9000244140625, 656.8486938476562, 572.6422729492188, 564.039794921875, 560.6748657226562, 557.979736328125, 546.1767578125, 529.7463989257812, 516.484375, 504.2956848144531, 502.19366455078125, 474.5291748046875, 453.6878356933594, 3868.992919921875, 3922.892822265625, 2612.3134765625, 1306.2003173828125, 5697.03271484375, 2522.598388671875, 1306.7213134765625, 3288.068115234375, 2061.881591796875, 1486.1212158203125, 4189.9375, 1647.943115234375, 5771.9990234375, 1321.9261474609375, 3348.353515625, 5060.43505859375, 3028.947265625, 1342.7420654296875, 2308.609375, 2859.869384765625, 9490.33203125, 10387.21875, 1803.587890625, 3818.501953125, 15096.4921875, 14456.0380859375, 11532.6064453125, 14957.4091796875, 14377.8916015625, 1836.329833984375, 1361.84619140625, 1133.3133544921875, 1015.5606079101562, 991.736328125, 754.798583984375, 712.329345703125, 655.0187377929688, 641.170166015625, 518.8934326171875, 500.3763732910156, 486.5535583496094, 482.1268310546875, 463.7559814453125, 424.3111267089844, 411.804931640625, 405.408935546875, 384.65966796875, 367.1693420410156, 364.02471923828125, 350.4767761230469, 341.68511962890625, 318.093505859375, 316.77911376953125, 316.4615173339844, 311.2677001953125, 303.509521484375, 284.3099060058594, 2463.871337890625, 1093.6761474609375, 1616.240966796875, 1658.338623046875, 839.0248413085938, 2175.302001953125, 954.0426635742188, 2830.79541015625, 943.231201171875, 8283.7060546875, 585.789794921875, 2958.171875, 1681.0101318359375, 1518.3927001953125, 1109.8070068359375, 43209.640625, 1619.6959228515625, 3028.947265625, 1420.854736328125, 12302.4599609375, 7675.1171875, 2069.46533203125, 1739.7979736328125, 1733.068359375, 1612.0513916015625, 1603.7655029296875, 1108.05078125, 1105.4998779296875, 1095.7135009765625, 1045.9171142578125, 1008.892578125, 710.164306640625, 708.0951538085938, 674.9668579101562, 598.0252075195312, 510.8286437988281, 488.0675964355469, 424.3410339355469, 394.5950927734375, 347.5056457519531, 333.2519836425781, 304.6231994628906, 296.21697998046875, 290.9000244140625, 250.50888061523438, 244.81968688964844, 238.77134704589844, 237.26336669921875, 234.65264892578125, 3556.782470703125, 1223.46435546875, 2264.572509765625, 772.6193237304688, 7086.96533203125, 2073.513427734375, 704.7369995117188, 2592.41796875, 1200.6719970703125, 1971.3914794921875, 2601.94384765625, 4589.408203125, 1658.338623046875, 1264.0499267578125, 1311.3438720703125, 792.7766723632812, 769.8563232421875, 560.2747192382812, 543.792236328125, 492.01678466796875, 457.7586975097656, 425.5797424316406, 334.71319580078125, 314.3939208984375, 313.8218688964844, 308.1131286621094, 274.7166748046875, 263.2035217285156, 245.63156127929688, 231.6262969970703, 226.91908264160156, 225.09165954589844, 224.19944763183594, 216.4739990234375, 208.23721313476562, 194.58056640625, 186.37196350097656, 177.53353881835938, 145.34559631347656, 139.9637908935547, 139.7700958251953, 129.6913299560547, 118.83234405517578, 117.97377014160156, 925.4539184570312, 435.2784729003906, 391.4487609863281, 415.7254943847656, 420.1504211425781, 661.8722534179688, 2041.095703125, 806.7423706054688, 755.50927734375, 680.7909545898438, 677.6459350585938, 631.532958984375, 564.8517456054688, 378.6290588378906, 282.92022705078125, 183.63421630859375, 181.11309814453125, 179.1090850830078, 173.87496948242188, 173.5334930419922, 170.19805908203125, 121.6679458618164, 112.25202941894531, 109.87809753417969, 108.14230346679688, 101.79326629638672, 100.64543914794922, 100.2136459350586, 98.16474151611328, 98.13707733154297, 97.85188293457031, 93.28560638427734, 91.29727172851562, 91.16908264160156, 89.13672637939453, 88.92365264892578, 82.57593536376953, 321.4803771972656, 2315.870361328125, 144.62435913085938, 1120.2801513671875, 216.10635375976562, 824.6093139648438, 809.504150390625, 648.8831787109375, 1033.4007568359375, 314.2777099609375, 845.0126342773438, 2200.077392578125, 905.5068969726562, 474.0528259277344, 441.3356628417969, 434.4815673828125, 382.3702697753906, 369.0556335449219, 291.4632568359375, 290.4825744628906, 249.4691162109375, 200.4230499267578, 190.30801391601562, 188.25962829589844, 174.0425567626953, 163.3398895263672, 161.65753173828125, 149.93692016601562, 149.3858642578125, 140.89285278320312, 137.42787170410156, 135.2227325439453, 130.59957885742188, 121.31961822509766, 103.08084106445312, 97.34080505371094, 96.6388931274414, 91.97765350341797, 91.96575164794922, 85.90910339355469, 79.21357727050781, 736.8492431640625, 373.689208984375, 8283.7060546875, 299.5632629394531, 1770.770751953125, 509.33746337890625, 387.50177001953125, 321.12908935546875, 275.6048583984375, 255.57861328125, 252.92298889160156, 242.19329833984375, 238.4112091064453, 221.0337677001953, 215.745849609375, 209.71743774414062, 183.85665893554688, 176.95071411132812, 172.62506103515625, 148.9369659423828, 143.9661407470703, 112.00851440429688, 89.03495788574219, 88.14606475830078, 85.7392807006836, 83.67158508300781, 82.46031188964844, 80.3346939086914, 69.95126342773438, 61.550537109375, 59.659915924072266, 57.22451400756836, 53.137451171875, 46.49765396118164, 466.02117919921875, 841.4547729492188, 1054.5723876953125, 341.19403076171875, 1368.865234375, 1040.8006591796875, 339.91644287109375, 328.52392578125, 267.64727783203125, 221.9918212890625, 193.99085998535156, 181.85565185546875, 118.80044555664062, 97.28923034667969, 72.27086639404297, 64.24208068847656, 50.43517303466797, 43.099361419677734, 39.347652435302734, 31.64068603515625, 23.219467163085938, 19.583417892456055, 257.0022277832031, 355.3768310546875, 677.3159790039062, 81.20513916015625, 643.45751953125, 1723.4776611328125, 636.3447875976562, 443.0838317871094, 1.0520483255386353, 1.0518025159835815, 1.0518059730529785, 1.0518041849136353, 1.0519459247589111, 588.1585083007812, 221.7311248779297, 204.69573974609375, 184.20614624023438, 182.8767547607422, 161.8261260986328, 146.95021057128906, 144.7318572998047, 142.92739868164062, 142.29425048828125, 139.2902374267578, 123.74571990966797, 120.23350524902344, 111.1166000366211, 101.44270324707031, 99.38714599609375, 95.62376403808594, 94.05846405029297, 91.25802612304688, 80.81266021728516, 78.6480712890625, 37.795265197753906, 29.6707706451416, 26.0113582611084, 25.110368728637695, 23.216693878173828, 21.45969581604004, 9.796635627746582, 7.505478858947754, 716.9092407226562, 96.23648834228516, 281.6452941894531, 147.761474609375, 336.6169738769531, 321.3819274902344, 132.63262939453125, 115.24723052978516, 96.23360443115234, 81.93323516845703, 77.76803588867188, 67.65523529052734, 67.09928131103516, 65.62506103515625, 57.83806228637695, 39.21603012084961, 29.02253532409668, 16.309900283813477, 14.219681739807129, 11.386981010437012, 11.332428932189941, 3.106903553009033, 3.0343642234802246, 1.0520483255386353, 1.0517858266830444, 1.0517804622650146, 1.0517770051956177, 1.0517802238464355, 1.0517807006835938, 1.0517888069152832, 1.0517699718475342, 1.0517685413360596, 1.0517699718475342, 1.0517687797546387, 1.0517736673355103, 1.0518183708190918, 1.0517966747283936, 1.0518125295639038, 1.0517810583114624, 1.0519459247589111, 1.051850438117981, 345.013671875, 209.28797912597656, 160.092529296875, 113.10894012451172, 100.87632751464844, 100.0745849609375, 79.34040069580078, 71.5654296875, 42.52012634277344, 40.533878326416016, 38.303829193115234, 34.83240509033203, 32.09577941894531, 8.425802230834961, 79.71736907958984, 171.91949462890625, 299.15118408203125, 1.051777958869934, 1.0518025159835815, 1.0517780780792236, 1.0517823696136475, 1.0517711639404297, 1.051770567893982, 1.0517706871032715, 1.0517719984054565, 1.0517865419387817, 1.0517785549163818, 1.0517688989639282, 1.0517686605453491, 1.0518158674240112, 1.0518078804016113, 1.0519459247589111, 1.051806926727295, 1.0518386363983154, 398.1270751953125, 157.01870727539062, 106.07727813720703, 99.75483703613281, 50.52910232543945, 28.0468692779541, 11.279986381530762, 7.288681983947754, 1.0517876148223877, 1.051788330078125, 1.0517743825912476, 1.0517710447311401, 1.0517719984054565, 1.0517727136611938, 1.0517730712890625, 1.0517700910568237, 1.0517711639404297, 1.0517773628234863, 1.0517677068710327, 1.0517743825912476, 1.051768183708191, 1.0517688989639282, 1.051769495010376, 1.0517709255218506, 1.051780343055725, 1.0517818927764893, 1.0517677068710327, 1.0517780780792236, 1.0517807006835938, 1.0517812967300415, 1.0518016815185547, 1.0517911911010742, 1.051812767982483, 1.0519757270812988, 60.800289154052734, 22.37773323059082, 21.255348205566406, 19.719364166259766, 16.426015853881836, 6.210038661956787, 1.0517940521240234, 1.051790475845337, 1.0517891645431519, 1.0517678260803223, 1.0517692565917969, 1.0517691373825073, 1.051767349243164, 1.0517957210540771, 1.0517683029174805, 1.0517672300338745, 1.0517683029174805, 1.051788330078125, 1.051776647567749, 1.0517723560333252, 1.0517728328704834, 1.0517826080322266, 1.0517714023590088, 1.0517668724060059, 1.0517770051956177, 1.0517693758010864, 1.0517758131027222, 1.0517722368240356, 1.051767110824585, 1.0517719984054565, 1.0518078804016113, 1.0517759323120117, 1.0517948865890503, 1.0517925024032593, 1.0519459247589111], \"Category\": [\"Default\", \"Default\", \"Default\", \"Default\", \"Default\", \"Default\", \"Default\", \"Default\", \"Default\", \"Default\", \"Default\", \"Default\", \"Default\", \"Default\", \"Default\", \"Default\", \"Default\", \"Default\", \"Default\", \"Default\", \"Default\", \"Default\", \"Default\", \"Default\", \"Default\", \"Default\", \"Default\", \"Default\", \"Default\", \"Default\", \"Topic1\", \"Topic1\", \"Topic1\", \"Topic1\", \"Topic1\", \"Topic1\", \"Topic1\", \"Topic1\", \"Topic1\", \"Topic1\", \"Topic1\", \"Topic1\", \"Topic1\", \"Topic1\", \"Topic1\", \"Topic1\", \"Topic1\", \"Topic1\", \"Topic1\", \"Topic1\", \"Topic1\", \"Topic1\", \"Topic1\", \"Topic1\", \"Topic1\", \"Topic1\", \"Topic1\", \"Topic1\", \"Topic1\", \"Topic1\", \"Topic1\", \"Topic1\", \"Topic1\", \"Topic1\", \"Topic1\", \"Topic1\", \"Topic1\", \"Topic1\", \"Topic1\", \"Topic1\", \"Topic1\", \"Topic1\", \"Topic1\", \"Topic1\", \"Topic1\", \"Topic1\", \"Topic1\", \"Topic1\", \"Topic1\", \"Topic1\", \"Topic1\", \"Topic1\", \"Topic1\", \"Topic1\", \"Topic1\", \"Topic1\", \"Topic1\", \"Topic1\", \"Topic1\", \"Topic1\", \"Topic1\", \"Topic1\", \"Topic1\", \"Topic1\", \"Topic1\", \"Topic1\", \"Topic1\", \"Topic1\", \"Topic1\", \"Topic1\", \"Topic1\", \"Topic2\", \"Topic2\", \"Topic2\", \"Topic2\", \"Topic2\", \"Topic2\", \"Topic2\", \"Topic2\", \"Topic2\", \"Topic2\", \"Topic2\", \"Topic2\", \"Topic2\", \"Topic2\", \"Topic2\", \"Topic2\", \"Topic2\", \"Topic2\", \"Topic2\", \"Topic2\", \"Topic2\", \"Topic2\", \"Topic2\", \"Topic2\", \"Topic2\", \"Topic2\", \"Topic2\", \"Topic2\", \"Topic2\", \"Topic2\", \"Topic2\", \"Topic2\", \"Topic2\", \"Topic2\", \"Topic2\", \"Topic2\", \"Topic2\", \"Topic2\", \"Topic2\", \"Topic2\", \"Topic2\", \"Topic2\", \"Topic2\", \"Topic2\", \"Topic2\", \"Topic2\", \"Topic2\", \"Topic2\", \"Topic2\", \"Topic2\", \"Topic2\", \"Topic2\", \"Topic2\", \"Topic2\", \"Topic2\", \"Topic2\", \"Topic2\", \"Topic2\", \"Topic2\", \"Topic2\", \"Topic2\", \"Topic2\", \"Topic2\", \"Topic2\", \"Topic2\", \"Topic2\", \"Topic2\", \"Topic3\", \"Topic3\", \"Topic3\", \"Topic3\", \"Topic3\", \"Topic3\", \"Topic3\", \"Topic3\", \"Topic3\", \"Topic3\", \"Topic3\", \"Topic3\", \"Topic3\", \"Topic3\", \"Topic3\", \"Topic3\", \"Topic3\", \"Topic3\", \"Topic3\", \"Topic3\", \"Topic3\", \"Topic3\", \"Topic3\", \"Topic3\", \"Topic3\", \"Topic3\", \"Topic3\", \"Topic3\", \"Topic3\", \"Topic3\", \"Topic3\", \"Topic3\", \"Topic3\", \"Topic3\", \"Topic3\", \"Topic3\", \"Topic3\", \"Topic3\", \"Topic3\", \"Topic3\", \"Topic3\", \"Topic3\", \"Topic3\", \"Topic3\", \"Topic3\", \"Topic3\", \"Topic3\", \"Topic3\", \"Topic3\", \"Topic3\", \"Topic3\", \"Topic3\", \"Topic3\", \"Topic3\", \"Topic3\", \"Topic3\", \"Topic3\", \"Topic3\", \"Topic3\", \"Topic4\", \"Topic4\", \"Topic4\", \"Topic4\", \"Topic4\", \"Topic4\", \"Topic4\", \"Topic4\", \"Topic4\", \"Topic4\", \"Topic4\", \"Topic4\", \"Topic4\", \"Topic4\", \"Topic4\", \"Topic4\", \"Topic4\", \"Topic4\", \"Topic4\", \"Topic4\", \"Topic4\", \"Topic4\", \"Topic4\", \"Topic4\", \"Topic4\", \"Topic4\", \"Topic4\", \"Topic4\", \"Topic4\", \"Topic4\", \"Topic4\", \"Topic4\", \"Topic4\", \"Topic4\", \"Topic4\", \"Topic4\", \"Topic4\", \"Topic4\", \"Topic4\", \"Topic4\", \"Topic4\", \"Topic4\", \"Topic4\", \"Topic4\", \"Topic4\", \"Topic4\", \"Topic4\", \"Topic4\", \"Topic4\", \"Topic4\", \"Topic4\", \"Topic4\", \"Topic4\", \"Topic4\", \"Topic4\", \"Topic4\", \"Topic4\", \"Topic4\", \"Topic4\", \"Topic4\", \"Topic4\", \"Topic4\", \"Topic4\", \"Topic4\", \"Topic4\", \"Topic5\", \"Topic5\", \"Topic5\", \"Topic5\", \"Topic5\", \"Topic5\", \"Topic5\", \"Topic5\", \"Topic5\", \"Topic5\", \"Topic5\", \"Topic5\", \"Topic5\", \"Topic5\", \"Topic5\", \"Topic5\", \"Topic5\", \"Topic5\", \"Topic5\", \"Topic5\", \"Topic5\", \"Topic5\", \"Topic5\", \"Topic5\", \"Topic5\", \"Topic5\", \"Topic5\", \"Topic5\", \"Topic5\", \"Topic5\", \"Topic5\", \"Topic5\", \"Topic5\", \"Topic5\", \"Topic5\", \"Topic5\", \"Topic5\", \"Topic5\", \"Topic5\", \"Topic5\", \"Topic5\", \"Topic5\", \"Topic5\", \"Topic5\", \"Topic5\", \"Topic5\", \"Topic5\", \"Topic5\", \"Topic5\", \"Topic5\", \"Topic5\", \"Topic5\", \"Topic5\", \"Topic5\", \"Topic5\", \"Topic5\", \"Topic5\", \"Topic5\", \"Topic5\", \"Topic5\", \"Topic5\", \"Topic5\", \"Topic5\", \"Topic5\", \"Topic6\", \"Topic6\", \"Topic6\", \"Topic6\", \"Topic6\", \"Topic6\", \"Topic6\", \"Topic6\", \"Topic6\", \"Topic6\", \"Topic6\", \"Topic6\", \"Topic6\", \"Topic6\", \"Topic6\", \"Topic6\", \"Topic6\", \"Topic6\", \"Topic6\", \"Topic6\", \"Topic6\", \"Topic6\", \"Topic6\", \"Topic6\", \"Topic6\", \"Topic6\", \"Topic6\", \"Topic6\", \"Topic6\", \"Topic6\", \"Topic6\", \"Topic6\", \"Topic6\", \"Topic6\", \"Topic6\", \"Topic6\", \"Topic6\", \"Topic6\", \"Topic6\", \"Topic6\", \"Topic6\", \"Topic6\", \"Topic6\", \"Topic6\", \"Topic6\", \"Topic6\", \"Topic6\", \"Topic6\", \"Topic6\", \"Topic6\", \"Topic6\", \"Topic6\", \"Topic6\", \"Topic7\", \"Topic7\", \"Topic7\", \"Topic7\", \"Topic7\", \"Topic7\", \"Topic7\", \"Topic7\", \"Topic7\", \"Topic7\", \"Topic7\", \"Topic7\", \"Topic7\", \"Topic7\", \"Topic7\", \"Topic7\", \"Topic7\", \"Topic7\", \"Topic7\", \"Topic7\", \"Topic7\", \"Topic7\", \"Topic7\", \"Topic7\", \"Topic7\", \"Topic7\", \"Topic7\", \"Topic7\", \"Topic7\", \"Topic7\", \"Topic7\", \"Topic7\", \"Topic7\", \"Topic7\", \"Topic7\", \"Topic7\", \"Topic7\", \"Topic7\", \"Topic7\", \"Topic7\", \"Topic7\", \"Topic7\", \"Topic7\", \"Topic7\", \"Topic7\", \"Topic7\", \"Topic7\", \"Topic7\", \"Topic7\", \"Topic7\", \"Topic8\", \"Topic8\", \"Topic8\", \"Topic8\", \"Topic8\", \"Topic8\", \"Topic8\", \"Topic8\", \"Topic8\", \"Topic8\", \"Topic8\", \"Topic8\", \"Topic8\", \"Topic8\", \"Topic8\", \"Topic8\", \"Topic8\", \"Topic8\", \"Topic8\", \"Topic8\", \"Topic8\", \"Topic8\", \"Topic8\", \"Topic8\", \"Topic8\", \"Topic8\", \"Topic8\", \"Topic8\", \"Topic8\", \"Topic8\", \"Topic8\", \"Topic8\", \"Topic8\", \"Topic8\", \"Topic8\", \"Topic8\", \"Topic8\", \"Topic8\", \"Topic8\", \"Topic8\", \"Topic8\", \"Topic8\", \"Topic8\", \"Topic8\", \"Topic8\", \"Topic8\", \"Topic8\", \"Topic8\", \"Topic8\", \"Topic8\", \"Topic8\", \"Topic8\", \"Topic8\", \"Topic8\", \"Topic8\", \"Topic8\", \"Topic8\", \"Topic9\", \"Topic9\", \"Topic9\", \"Topic9\", \"Topic9\", \"Topic9\", \"Topic9\", \"Topic9\", \"Topic9\", \"Topic9\", \"Topic9\", \"Topic9\", \"Topic9\", \"Topic9\", \"Topic9\", \"Topic9\", \"Topic9\", \"Topic9\", \"Topic9\", \"Topic9\", \"Topic9\", \"Topic9\", \"Topic9\", \"Topic9\", \"Topic9\", \"Topic9\", \"Topic9\", \"Topic9\", \"Topic9\", \"Topic9\", \"Topic9\", \"Topic9\", \"Topic9\", \"Topic9\", \"Topic9\", \"Topic9\", \"Topic9\", \"Topic9\", \"Topic9\", \"Topic9\", \"Topic9\", \"Topic9\", \"Topic9\", \"Topic9\", \"Topic9\", \"Topic9\", \"Topic9\", \"Topic9\", \"Topic9\", \"Topic10\", \"Topic10\", \"Topic10\", \"Topic10\", \"Topic10\", \"Topic10\", \"Topic10\", \"Topic10\", \"Topic10\", \"Topic10\", \"Topic10\", \"Topic10\", \"Topic10\", \"Topic10\", \"Topic10\", \"Topic10\", \"Topic10\", \"Topic10\", \"Topic10\", \"Topic10\", \"Topic10\", \"Topic10\", \"Topic10\", \"Topic10\", \"Topic10\", \"Topic10\", \"Topic10\", \"Topic10\", \"Topic10\", \"Topic10\", \"Topic10\", \"Topic10\", \"Topic10\", \"Topic10\", \"Topic10\", \"Topic10\", \"Topic10\", \"Topic10\", \"Topic10\", \"Topic10\", \"Topic10\", \"Topic10\", \"Topic10\", \"Topic10\", \"Topic11\", \"Topic11\", \"Topic11\", \"Topic11\", \"Topic11\", \"Topic11\", \"Topic11\", \"Topic11\", \"Topic11\", \"Topic11\", \"Topic11\", \"Topic11\", \"Topic11\", \"Topic11\", \"Topic11\", \"Topic11\", \"Topic11\", \"Topic11\", \"Topic11\", \"Topic11\", \"Topic11\", \"Topic11\", \"Topic11\", \"Topic11\", \"Topic11\", \"Topic11\", \"Topic11\", \"Topic11\", \"Topic11\", \"Topic11\", \"Topic11\", \"Topic11\", \"Topic11\", \"Topic11\", \"Topic11\", \"Topic11\", \"Topic11\", \"Topic12\", \"Topic12\", \"Topic12\", \"Topic12\", \"Topic12\", \"Topic12\", \"Topic12\", \"Topic12\", \"Topic12\", \"Topic12\", \"Topic12\", \"Topic12\", \"Topic12\", \"Topic12\", \"Topic12\", \"Topic12\", \"Topic12\", \"Topic12\", \"Topic12\", \"Topic12\", \"Topic12\", \"Topic12\", \"Topic12\", \"Topic12\", \"Topic12\", \"Topic12\", \"Topic12\", \"Topic12\", \"Topic12\", \"Topic12\", \"Topic12\", \"Topic12\", \"Topic12\", \"Topic12\", \"Topic12\", \"Topic12\", \"Topic12\", \"Topic12\", \"Topic12\", \"Topic12\", \"Topic12\", \"Topic13\", \"Topic13\", \"Topic13\", \"Topic13\", \"Topic13\", \"Topic13\", \"Topic13\", \"Topic13\", \"Topic13\", \"Topic13\", \"Topic13\", \"Topic13\", \"Topic13\", \"Topic13\", \"Topic13\", \"Topic13\", \"Topic13\", \"Topic13\", \"Topic13\", \"Topic13\", \"Topic13\", \"Topic13\", \"Topic13\", \"Topic13\", \"Topic13\", \"Topic13\", \"Topic13\", \"Topic13\", \"Topic13\", \"Topic13\", \"Topic13\", \"Topic13\", \"Topic13\", \"Topic13\", \"Topic14\", \"Topic14\", \"Topic14\", \"Topic14\", \"Topic14\", \"Topic14\", \"Topic14\", \"Topic14\", \"Topic14\", \"Topic14\", \"Topic14\", \"Topic14\", \"Topic14\", \"Topic14\", \"Topic14\", \"Topic14\", \"Topic14\", \"Topic14\", \"Topic14\", \"Topic14\", \"Topic14\", \"Topic14\", \"Topic14\", \"Topic14\", \"Topic14\", \"Topic14\", \"Topic14\", \"Topic14\", \"Topic14\", \"Topic14\", \"Topic14\", \"Topic14\", \"Topic14\", \"Topic14\", \"Topic14\", \"Topic15\", \"Topic15\", \"Topic15\", \"Topic15\", \"Topic15\", \"Topic15\", \"Topic15\", \"Topic15\", \"Topic15\", \"Topic15\", \"Topic15\", \"Topic15\", \"Topic15\", \"Topic15\", \"Topic15\", \"Topic15\", \"Topic15\", \"Topic15\", \"Topic15\", \"Topic15\", \"Topic15\", \"Topic15\", \"Topic15\", \"Topic15\", \"Topic15\", \"Topic15\", \"Topic15\", \"Topic15\", \"Topic15\", \"Topic15\", \"Topic16\", \"Topic16\", \"Topic16\", \"Topic16\", \"Topic16\", \"Topic16\", \"Topic16\", \"Topic16\", \"Topic16\", \"Topic16\", \"Topic16\", \"Topic16\", \"Topic16\", \"Topic16\", \"Topic16\", \"Topic16\", \"Topic16\", \"Topic16\", \"Topic16\", \"Topic16\", \"Topic16\", \"Topic16\", \"Topic16\", \"Topic16\", \"Topic16\", \"Topic16\", \"Topic16\", \"Topic16\", \"Topic16\", \"Topic16\", \"Topic16\", \"Topic16\", \"Topic16\", \"Topic16\", \"Topic17\", \"Topic17\", \"Topic17\", \"Topic17\", \"Topic17\", \"Topic17\", \"Topic17\", \"Topic17\", \"Topic17\", \"Topic17\", \"Topic17\", \"Topic17\", \"Topic17\", \"Topic17\", \"Topic17\", \"Topic17\", \"Topic17\", \"Topic17\", \"Topic17\", \"Topic17\", \"Topic17\", \"Topic17\", \"Topic17\", \"Topic17\", \"Topic17\", \"Topic17\", \"Topic17\", \"Topic17\", \"Topic17\", \"Topic17\", \"Topic17\", \"Topic17\", \"Topic17\", \"Topic17\", \"Topic17\", \"Topic17\", \"Topic18\", \"Topic18\", \"Topic18\", \"Topic18\", \"Topic18\", \"Topic18\", \"Topic18\", \"Topic18\", \"Topic18\", \"Topic18\", \"Topic18\", \"Topic18\", \"Topic18\", \"Topic18\", \"Topic18\", \"Topic18\", \"Topic18\", \"Topic18\", \"Topic18\", \"Topic18\", \"Topic18\", \"Topic18\", \"Topic18\", \"Topic18\", \"Topic18\", \"Topic18\", \"Topic18\", \"Topic18\", \"Topic18\", \"Topic18\", \"Topic18\", \"Topic18\", \"Topic18\", \"Topic18\", \"Topic19\", \"Topic19\", \"Topic19\", \"Topic19\", \"Topic19\", \"Topic19\", \"Topic19\", \"Topic19\", \"Topic19\", \"Topic19\", \"Topic19\", \"Topic19\", \"Topic19\", \"Topic19\", \"Topic19\", \"Topic19\", \"Topic19\", \"Topic19\", \"Topic19\", \"Topic19\", \"Topic19\", \"Topic19\", \"Topic19\", \"Topic19\", \"Topic19\", \"Topic19\", \"Topic19\", \"Topic19\", \"Topic19\", \"Topic19\", \"Topic19\", \"Topic19\", \"Topic19\", \"Topic19\", \"Topic20\", \"Topic20\", \"Topic20\", \"Topic20\", \"Topic20\", \"Topic20\", \"Topic20\", \"Topic20\", \"Topic20\", \"Topic20\", \"Topic20\", \"Topic20\", \"Topic20\", \"Topic20\", \"Topic20\", \"Topic20\", \"Topic20\", \"Topic20\", \"Topic20\", \"Topic20\", \"Topic20\", \"Topic20\", \"Topic20\", \"Topic20\", \"Topic20\", \"Topic20\", \"Topic20\", \"Topic20\", \"Topic20\", \"Topic20\", \"Topic20\", \"Topic20\", \"Topic20\", \"Topic20\", \"Topic20\"], \"logprob\": [30.0, 29.0, 28.0, 27.0, 26.0, 25.0, 24.0, 23.0, 22.0, 21.0, 20.0, 19.0, 18.0, 17.0, 16.0, 15.0, 14.0, 13.0, 12.0, 11.0, 10.0, 9.0, 8.0, 7.0, 6.0, 5.0, 4.0, 3.0, 2.0, 1.0, -4.09630012512207, -4.098499774932861, -5.383800029754639, -5.624199867248535, -5.798099994659424, -5.914000034332275, -5.551199913024902, -6.061999797821045, -6.113999843597412, -6.136300086975098, -6.3429999351501465, -6.344900131225586, -6.498300075531006, -6.571199893951416, -6.825300216674805, -6.966599941253662, -6.970699787139893, -7.130099773406982, -7.172100067138672, -7.172399997711182, -7.181399822235107, -7.190400123596191, -7.1940999031066895, -7.235799789428711, -7.320400238037109, -7.3719000816345215, -7.399700164794922, -7.408899784088135, -7.423799991607666, -7.5472002029418945, -3.5439999103546143, -5.651100158691406, -4.08650016784668, -4.780900001525879, -5.250699996948242, -4.6209001541137695, -5.787799835205078, -5.711299896240234, -5.0721001625061035, -6.44789981842041, -6.292300224304199, -3.6468000411987305, -5.037099838256836, -4.692500114440918, -4.531199932098389, -4.822700023651123, -5.269499778747559, -4.430699825286865, -4.8881001472473145, -3.922600030899048, -4.687399864196777, -4.63640022277832, -5.047500133514404, -4.925000190734863, -4.480800151824951, -4.627399921417236, -4.365200042724609, -4.275700092315674, -4.80049991607666, -4.04580020904541, -4.527500152587891, -4.29580020904541, -4.423099994659424, -4.833899974822998, -5.017000198364258, -4.946000099182129, -4.716100215911865, -4.877200126647949, -4.356299877166748, -4.893400192260742, -4.807700157165527, -4.710899829864502, -5.173799991607666, -5.225399971008301, -5.357600212097168, -5.361100196838379, -5.405799865722656, -5.518099784851074, -5.525000095367432, -5.54449987411499, -5.587399959564209, -5.674799919128418, -5.689199924468994, -5.700699806213379, -5.721199989318848, -5.783400058746338, -5.808000087738037, -5.84089994430542, -5.854899883270264, -5.8607001304626465, -5.925099849700928, -5.8429999351501465, -6.065499782562256, -6.137400150299072, -6.198999881744385, -6.315499782562256, -6.3582000732421875, -6.36269998550415, -6.372600078582764, -6.415299892425537, -6.422599792480469, -5.333099842071533, -5.317599773406982, -4.73799991607666, -5.489099979400635, -5.327099800109863, -5.474400043487549, -5.646100044250488, -5.186399936676025, -4.8582000732421875, -5.081200122833252, -5.081999778747559, -5.082900047302246, -5.149099826812744, -5.481400012969971, -4.914899826049805, -5.2870001792907715, -5.456399917602539, -2.702899932861328, -5.230899810791016, -4.904799938201904, -4.372799873352051, -5.172699928283691, -4.532800197601318, -4.674600124359131, -4.725100040435791, -4.4542999267578125, -4.839099884033203, -4.568600177764893, -5.286300182342529, -4.718999862670898, -4.711599826812744, -4.730800151824951, -4.986599922180176, -5.11959981918335, -5.23360013961792, -5.2204999923706055, -5.130000114440918, -3.880199909210205, -4.734899997711182, -4.792600154876709, -5.2006001472473145, -5.204999923706055, -5.345699787139893, -5.359399795532227, -5.423500061035156, -5.470600128173828, -5.5015997886657715, -5.503499984741211, -5.534599781036377, -5.536200046539307, -5.602200031280518, -5.609099864959717, -5.64300012588501, -5.654699802398682, -5.773499965667725, -5.8018999099731445, -5.80210018157959, -5.809700012207031, -5.8302998542785645, -5.842199802398682, -5.883600234985352, -5.896100044250488, -5.899700164794922, -5.945799827575684, -5.980599880218506, -6.00600004196167, -6.012899875640869, -4.5605998039245605, -4.77209997177124, -5.292099952697754, -4.793900012969971, -4.559899806976318, -5.3358001708984375, -5.214900016784668, -5.074399948120117, -5.358699798583984, -4.9822998046875, -5.628699779510498, -5.229800224304199, -5.45359992980957, -4.952899932861328, -4.442599773406982, -5.084700107574463, -4.264200210571289, -4.973599910736084, -4.695899963378906, -5.16349983215332, -4.677599906921387, -5.072000026702881, -5.2245001792907715, -5.03249979019165, -5.184199810028076, -5.174900054931641, -5.161499977111816, -5.262899875640869, -5.284999847412109, -4.242700099945068, -4.628600120544434, -4.6855998039245605, -5.022900104522705, -5.165999889373779, -5.219699859619141, -5.227799892425537, -5.282400131225586, -5.401199817657471, -5.528500080108643, -5.553999900817871, -5.8059000968933105, -5.823400020599365, -5.858399868011475, -5.861199855804443, -5.864999771118164, -5.928999900817871, -5.986400127410889, -5.988699913024902, -5.99459981918335, -5.999800205230713, -6.065899848937988, -6.067299842834473, -6.07859992980957, -6.156199932098389, -6.230299949645996, -6.255499839782715, -6.3165998458862305, -6.369200229644775, -6.43779993057251, -4.991300106048584, -4.620100021362305, -5.303699970245361, -5.284800052642822, -5.200900077819824, -5.553400039672852, -5.5858001708984375, -5.038000106811523, -5.0929999351501465, -5.2256999015808105, -5.070799827575684, -3.568000078201294, -4.767899990081787, -5.297299861907959, -4.626699924468994, -5.118500232696533, -5.565299987792969, -5.119900226593018, -5.384799957275391, -4.971399784088135, -4.402200222015381, -5.152500152587891, -5.318399906158447, -4.411399841308594, -4.991499900817871, -4.069300174713135, -4.648799896240234, -4.9394001960754395, -5.042799949645996, -4.674799919128418, -5.135300159454346, -5.111800193786621, -5.07390022277832, -5.119200229644775, -5.1427001953125, -3.4251999855041504, -4.967899799346924, -5.069900035858154, -5.143700122833252, -5.23859977722168, -5.323200225830078, -5.412899971008301, -5.428899765014648, -5.464900016784668, -5.468299865722656, -5.478400230407715, -5.5117998123168945, -5.573999881744385, -5.622700214385986, -5.702099800109863, -5.744900226593018, -5.763599872589111, -5.879300117492676, -5.895999908447266, -5.9405999183654785, -6.013599872589111, -6.059700012207031, -6.076499938964844, -6.124899864196777, -6.126699924468994, -6.169099807739258, -6.202300071716309, -6.218200206756592, -6.225399971008301, -6.266300201416016, -4.63700008392334, -5.366600036621094, -5.501100063323975, -5.585299968719482, -4.926799774169922, -5.400100231170654, -5.362199783325195, -4.771599769592285, -5.446599960327148, -4.953800201416016, -4.667500019073486, -4.6981000900268555, -5.0447998046875, -5.303199768066406, -5.269599914550781, -4.992700099945068, -4.821199893951416, -3.9853999614715576, -4.969699859619141, -4.823400020599365, -5.1508002281188965, -4.617700099945068, -4.295899868011475, -3.8970000743865967, -4.243899822235107, -4.842199802398682, -5.202899932861328, -4.500699996948242, -4.285399913787842, -4.859799861907959, -4.914599895477295, -5.117700099945068, -5.048299789428711, -5.133699893951416, -3.075000047683716, -3.68179988861084, -3.887700080871582, -4.156700134277344, -4.439199924468994, -4.4653000831604, -4.52810001373291, -4.54010009765625, -4.883200168609619, -4.902100086212158, -4.978499889373779, -4.987400054931641, -5.065999984741211, -5.072299957275391, -5.0731000900268555, -5.188700199127197, -5.344299793243408, -5.406799793243408, -5.56820011138916, -5.639100074768066, -5.722700119018555, -5.741300106048584, -5.745200157165527, -5.783199787139893, -5.842599868774414, -5.9197998046875, -5.954899787902832, -6.034599781036377, -6.129899978637695, -6.136300086975098, -3.5436999797821045, -3.3857998847961426, -3.5013999938964844, -4.982900142669678, -5.036099910736084, -5.053800106048584, -5.172699928283691, -4.4095001220703125, -5.061999797821045, -5.219399929046631, -4.023200035095215, -4.676300048828125, -4.896500110626221, -3.224400043487549, -4.4257001876831055, -4.071700096130371, -4.544899940490723, -4.526000022888184, -4.5904998779296875, -4.851200103759766, -4.8531999588012695, -4.937099933624268, -4.996699810028076, -3.225100040435791, -3.305299997329712, -4.076600074768066, -4.083399772644043, -4.2093000411987305, -4.732699871063232, -4.756400108337402, -4.826000213623047, -4.954800128936768, -4.959700107574463, -5.00629997253418, -5.0218000411987305, -5.040500164031982, -5.217700004577637, -5.243000030517578, -5.3119001388549805, -5.492800235748291, -5.570199966430664, -5.6479997634887695, -5.781400203704834, -5.7906999588012695, -5.791200160980225, -5.847499847412109, -5.865499973297119, -5.888000011444092, -5.9552998542785645, -6.073699951171875, -6.107800006866455, -6.144400119781494, -6.144400119781494, -3.638000011444092, -4.791399955749512, -4.495500087738037, -4.6570000648498535, -3.8601999282836914, -4.5879998207092285, -5.01230001449585, -5.158699989318848, -5.32889986038208, -4.821199893951416, -3.71560001373291, -3.503999948501587, -4.460400104522705, -4.717899799346924, -4.9319000244140625, -4.8069000244140625, -4.8053998947143555, -5.12529993057251, -4.999000072479248, -5.029300212860107, -4.423500061035156, -4.679599761962891, -4.765200138092041, -4.765699863433838, -4.811999797821045, -4.924799919128418, -5.046000003814697, -5.086400032043457, -5.183899879455566, -5.194699764251709, -5.255799770355225, -5.326099872589111, -5.339099884033203, -5.4207000732421875, -5.434599876403809, -5.450699806213379, -5.499199867248535, -5.543900012969971, -5.559100151062012, -5.696499824523926, -5.711699962615967, -5.717700004577637, -5.722499847412109, -5.743899822235107, -5.774499893188477, -5.799900054931641, -5.82390022277832, -5.828000068664551, -5.884799957275391, -5.929800033569336, -3.789400100708008, -3.780900001525879, -4.286300182342529, -4.974100112915039, -3.67549991607666, -4.401500225067139, -4.980599880218506, -4.2032999992370605, -4.612199783325195, -4.89900016784668, -4.055600166320801, -4.840400218963623, -3.8977999687194824, -5.057799816131592, -4.425300121307373, -4.208399772644043, -4.673799991607666, -5.128300189971924, -4.918600082397461, -4.848100185394287, -4.468999862670898, -4.532800197601318, -5.039700031280518, -4.886099815368652, -4.680600166320801, -4.884099960327148, -4.956500053405762, -1.9677000045776367, -2.007200002670288, -4.0655999183654785, -4.364699840545654, -4.548500061035156, -4.658299922943115, -4.68209981918335, -4.955399990081787, -5.013400077819824, -5.097400188446045, -5.118800163269043, -5.3308000564575195, -5.367199897766113, -5.395199775695801, -5.404399871826172, -5.443299770355225, -5.532400131225586, -5.562399864196777, -5.578100204467773, -5.630799770355225, -5.6774001121521, -5.686100006103516, -5.724100112915039, -5.749599933624268, -5.821300029754639, -5.825500011444092, -5.826499938964844, -5.843100070953369, -5.8684000968933105, -5.934000015258789, -4.035299777984619, -4.8445000648498535, -4.5584001541137695, -4.59630012512207, -5.121200084686279, -4.448599815368652, -5.086299896240234, -4.409999847412109, -5.114299774169922, -3.8413000106811523, -5.425300121307373, -4.689199924468994, -4.94379997253418, -5.009099960327148, -5.211999893188477, -4.190100193023682, -5.221700191497803, -5.176499843597412, -5.2729997634887695, -1.8047000169754028, -2.276599884033203, -3.587599992752075, -3.7613000869750977, -3.7651000022888184, -3.837599992752075, -3.8427000045776367, -4.212800025939941, -4.215099811553955, -4.223999977111816, -4.270500183105469, -4.306600093841553, -4.658100128173828, -4.660999774932861, -4.709000110626221, -4.8302001953125, -4.988100051879883, -5.03380012512207, -5.173999786376953, -5.2469000816345215, -5.374300003051758, -5.416299819946289, -5.506400108337402, -5.5345001220703125, -5.552700042724609, -5.702700138092041, -5.725800037384033, -5.750899791717529, -5.757299900054932, -5.768400192260742, -3.085099935531616, -4.1631999015808105, -3.731800079345703, -4.711299896240234, -2.908799886703491, -3.954699993133545, -4.851900100708008, -4.3618998527526855, -4.827199935913086, -4.752500057220459, -4.720300197601318, -4.582200050354004, -4.862800121307373, -4.946899890899658, -2.589600086212158, -3.0933001041412354, -3.1226999759674072, -3.440999984741211, -3.470900058746338, -3.5710999965667725, -3.6435000896453857, -3.7165000438690186, -3.9572999477386475, -4.020199775695801, -4.021999835968018, -4.04040002822876, -4.1554999351501465, -4.198500156402588, -4.267899990081787, -4.3267998695373535, -4.347400188446045, -4.355599880218506, -4.359600067138672, -4.394800186157227, -4.433800220489502, -4.5019001960754395, -4.545300006866455, -4.594099998474121, -4.795400142669678, -4.833399772644043, -4.834799766540527, -4.910200119018555, -4.9984002113342285, -5.00570011138916, -3.134700059890747, -4.1579999923706055, -4.3109002113342285, -4.289899826049805, -4.4492998123168945, -4.433300018310547, -4.5289998054504395, -2.9951000213623047, -3.060800075531006, -3.16510009765625, -3.1696999073028564, -3.240299940109253, -3.352099895477295, -3.753000020980835, -4.045300006866455, -4.479400157928467, -4.493299961090088, -4.504499912261963, -4.534299850463867, -4.536300182342529, -4.555799961090088, -4.893899917602539, -4.975100040435791, -4.996699810028076, -5.012700080871582, -5.073800086975098, -5.085299968719482, -5.089600086212158, -5.110499858856201, -5.110799789428711, -5.113699913024902, -5.1620001792907715, -5.183800220489502, -5.185200214385986, -5.208000183105469, -5.210400104522705, -5.285399913787842, -3.9560000896453857, -2.4337000846862793, -4.856100082397461, -3.4684998989105225, -4.7270002365112305, -4.115499973297119, -4.288400173187256, -4.4517998695373535, -4.378399848937988, -5.059899806976318, -5.077600002288818, -1.816100001335144, -2.7044999599456787, -3.3526999950408936, -3.424299955368042, -3.440000057220459, -3.5680999755859375, -3.603600025177002, -3.840399980545044, -3.8438000679016113, -3.9965999126434326, -4.2164998054504395, -4.268499851226807, -4.279399871826172, -4.35830020904541, -4.4222002029418945, -4.432600021362305, -4.508399963378906, -4.5121002197265625, -4.571000099182129, -4.596099853515625, -4.612400054931641, -4.64739990234375, -4.721700191497803, -4.886099815368652, -4.943999767303467, -4.951300144195557, -5.001299858093262, -5.001399993896484, -5.070300102233887, -5.152500152587891, -3.3345999717712402, -4.250800132751465, -3.158099889755249, -4.811999797821045, -1.837499976158142, -3.0850000381469727, -3.3589999675750732, -3.5473999977111816, -3.7007999420166016, -3.776599884033203, -3.7869999408721924, -3.8306000232696533, -3.846400022506714, -3.9223999977111816, -3.946700096130371, -3.9751999378204346, -4.107500076293945, -4.145999908447266, -4.170899868011475, -4.319399833679199, -4.353600025177002, -4.606599807739258, -4.838500022888184, -4.848599910736084, -4.8765997886657715, -4.901299953460693, -4.916100025177002, -4.942500114440918, -5.082799911499023, -5.212699890136719, -5.244500160217285, -5.286900043487549, -5.362400054931641, -5.498600006103516, -3.2751998901367188, -2.8034000396728516, -4.223599910736084, -5.104000091552734, -5.192200183868408, -2.1356000900268555, -3.2565999031066895, -3.290800094604492, -3.4964001178741455, -3.6842000484466553, -3.819700002670288, -3.8845999240875244, -4.313300132751465, -4.514900207519531, -4.815800189971924, -4.935299873352051, -5.181600093841553, -5.342199802398682, -5.435500144958496, -5.659800052642822, -5.981100082397461, -6.1596999168396, -3.7667999267578125, -3.814300060272217, -3.2423999309539795, -5.490200042724609, -3.4326999187469482, -2.558000087738037, -4.156799793243408, -4.638199806213379, -11.909899711608887, -11.910200119018555, -11.910200119018555, -11.910200119018555, -11.910099983215332, -2.4470999240875244, -3.42549991607666, -3.5058999061584473, -3.6119000911712646, -3.6191999912261963, -3.7421998977661133, -3.839200019836426, -3.854599952697754, -3.8671998977661133, -3.8717000484466553, -3.893199920654297, -4.012400150299072, -4.041399955749512, -4.120999813079834, -4.212900161743164, -4.23360013961792, -4.272600173950195, -4.289299964904785, -4.319900035858154, -4.44290018081665, -4.470399856567383, -5.217400074005127, -5.466899871826172, -5.603499889373779, -5.640200138092041, -5.722099781036377, -5.804500102996826, -6.6493000984191895, -6.951499938964844, -2.698199987411499, -4.7241997718811035, -3.8185999393463135, -5.119999885559082, -5.075500011444092, -2.3768999576568604, -3.2664999961853027, -3.4082000255584717, -3.5901999473571777, -3.753000020980835, -3.805799961090088, -3.9470999240875244, -3.9554998874664307, -3.9779999256134033, -4.106500148773193, -4.503600120544434, -4.814000129699707, -5.418900012969971, -5.565899848937988, -5.807400226593018, -5.812699794769287, -7.408699989318848, -7.443999767303467, -11.472000122070312, -11.472299575805664, -11.472299575805664, -11.472299575805664, -11.472299575805664, -11.472299575805664, -11.472299575805664, -11.472399711608887, -11.472399711608887, -11.472399711608887, -11.472399711608887, -11.472399711608887, -11.472299575805664, -11.472399711608887, -11.472399711608887, -11.472399711608887, -11.472299575805664, -11.472399711608887, -2.2219998836517334, -2.72379994392395, -2.993299961090088, -3.343400001525879, -3.4590001106262207, -3.4670000076293945, -3.701900005340576, -3.80649995803833, -4.337100028991699, -4.386099815368652, -4.444200038909912, -4.541900157928467, -4.626399993896484, -6.060999870300293, -4.8871002197265625, -4.653299808502197, -4.460100173950195, -11.660099983215332, -11.660099983215332, -11.660099983215332, -11.660200119018555, -11.660200119018555, -11.660200119018555, -11.660200119018555, -11.660200119018555, -11.660200119018555, -11.660200119018555, -11.660200119018555, -11.660200119018555, -11.660200119018555, -11.660200119018555, -11.660099983215332, -11.660200119018555, -11.660200119018555, -1.8091000318527222, -2.743499994277954, -3.1389000415802, -3.200900077819824, -3.8912999629974365, -4.496699810028076, -5.465700149536133, -5.958799839019775, -11.479900360107422, -11.479999542236328, -11.48009967803955, -11.48009967803955, -11.48009967803955, -11.48009967803955, -11.48009967803955, -11.48009967803955, -11.48009967803955, -11.48009967803955, -11.48009967803955, -11.48009967803955, -11.48009967803955, -11.48009967803955, -11.48009967803955, -11.48009967803955, -11.48009967803955, -11.48009967803955, -11.48009967803955, -11.48009967803955, -11.48009967803955, -11.48009967803955, -11.48009967803955, -11.48009967803955, -11.48009967803955, -11.48009967803955, -2.799499988555908, -3.8292999267578125, -3.8833999633789062, -3.962399959564209, -4.156300067901611, -5.246699810028076, -11.20259952545166, -11.202799797058105, -11.202799797058105, -11.202899932861328, -11.202899932861328, -11.202899932861328, -11.202899932861328, -11.202899932861328, -11.202899932861328, -11.202899932861328, -11.202899932861328, -11.202899932861328, -11.202899932861328, -11.202899932861328, -11.202899932861328, -11.202899932861328, -11.202899932861328, -11.202899932861328, -11.202899932861328, -11.202899932861328, -11.202899932861328, -11.202899932861328, -11.202899932861328, -11.202899932861328, -11.202899932861328, -11.202899932861328, -11.202899932861328, -11.202899932861328, -11.202899932861328], \"loglift\": [30.0, 29.0, 28.0, 27.0, 26.0, 25.0, 24.0, 23.0, 22.0, 21.0, 20.0, 19.0, 18.0, 17.0, 16.0, 15.0, 14.0, 13.0, 12.0, 11.0, 10.0, 9.0, 8.0, 7.0, 6.0, 5.0, 4.0, 3.0, 2.0, 1.0, 1.312000036239624, 1.312000036239624, 1.3116999864578247, 1.3115999698638916, 1.3115999698638916, 1.3114999532699585, 1.3114999532699585, 1.311400055885315, 1.311400055885315, 1.3113000392913818, 1.3112000226974487, 1.3112000226974487, 1.3109999895095825, 1.3109999895095825, 1.3106000423431396, 1.3104000091552734, 1.3104000091552734, 1.3100999593734741, 1.3100999593734741, 1.3100999593734741, 1.309999942779541, 1.309999942779541, 1.309999942779541, 1.3099000453948975, 1.3097000122070312, 1.3095999956130981, 1.3095999956130981, 1.309499979019165, 1.309499979019165, 1.3092000484466553, 1.2842999696731567, 1.3008999824523926, 1.2558000087738037, 1.2598999738693237, 1.2675000429153442, 1.246500015258789, 1.277400016784668, 1.2745000123977661, 1.2541999816894531, 1.2898000478744507, 1.2836999893188477, 1.1928999423980713, 1.198699951171875, 1.1708999872207642, 1.154099941253662, 1.1646000146865845, 1.1970000267028809, 1.1201000213623047, 1.1539000272750854, 1.030400037765503, 1.11080002784729, 1.0853999853134155, 1.1342999935150146, 1.1122000217437744, 1.002500057220459, 1.006600022315979, 0.942300021648407, 0.8880000114440918, 1.0291999578475952, 0.696399986743927, 0.8805000185966492, 0.7857999801635742, 0.8068000078201294, 0.9898999929428101, 1.030500054359436, 0.9495000243186951, 0.6401000022888184, 0.8345999717712402, -0.36970001459121704, 0.8328999876976013, 0.5799000263214111, 2.1844000816345215, 2.1842000484466553, 2.1840999126434326, 2.184000015258789, 2.184000015258789, 2.184000015258789, 2.1839001178741455, 2.1839001178741455, 2.1839001178741455, 2.183799982070923, 2.1837000846862793, 2.1837000846862793, 2.1837000846862793, 2.1837000846862793, 2.1835999488830566, 2.1835999488830566, 2.183500051498413, 2.183500051498413, 2.183500051498413, 2.1833999156951904, 2.183300018310547, 2.183199882507324, 2.1830999851226807, 2.183000087738037, 2.1826999187469482, 2.1826000213623047, 2.1826000213623047, 2.1826000213623047, 2.182499885559082, 2.182499885559082, 2.1691999435424805, 2.158900022506714, 2.1370999813079834, 2.1598000526428223, 2.152600049972534, 2.155600070953369, 2.160099983215332, 2.140899896621704, 2.0936999320983887, 2.1103999614715576, 2.089099884033203, 2.079200029373169, 2.0748000144958496, 2.1229000091552734, 2.019399881362915, 2.08270001411438, 2.1085000038146973, 1.2836999893188477, 2.038599967956543, 1.927299976348877, 1.4292999505996704, 1.8601000308990479, 1.2617000341415405, 1.372499942779541, 1.4061000347137451, 1.0338000059127808, 1.1068999767303467, 0.5950999855995178, 1.7877000570297241, 0.5108000040054321, 0.2757999897003174, 0.3075000047683716, 1.033400058746338, 1.1749999523162842, 1.6282000541687012, 1.447700023651123, 0.25760000944137573, 2.2780001163482666, 2.2776999473571777, 2.2776999473571777, 2.2774999141693115, 2.2774999141693115, 2.2772998809814453, 2.2772998809814453, 2.2772998809814453, 2.2771999835968018, 2.2771999835968018, 2.2771999835968018, 2.2771999835968018, 2.2771999835968018, 2.277100086212158, 2.277100086212158, 2.277100086212158, 2.277100086212158, 2.276900053024292, 2.276900053024292, 2.276900053024292, 2.276900053024292, 2.2767999172210693, 2.2767999172210693, 2.2767999172210693, 2.2767999172210693, 2.276700019836426, 2.276700019836426, 2.276599884033203, 2.276599884033203, 2.276599884033203, 2.2509000301361084, 2.233799934387207, 2.216099977493286, 2.164900064468384, 2.076200008392334, 2.175600051879883, 2.146899938583374, 2.09060001373291, 2.15939998626709, 2.0580999851226807, 2.226599931716919, 2.1064999103546143, 2.167099952697754, 1.9658000469207764, 1.7555999755859375, 1.9544999599456787, 1.1233999729156494, 1.6030999422073364, 1.083799958229065, 1.6751999855041504, 0.730400025844574, 1.1339999437332153, 1.5154000520706177, 0.863099992275238, 0.9818999767303467, 0.8726999759674072, -0.07989999651908875, 1.0236999988555908, 1.2802000045776367, 2.3208999633789062, 2.32069993019104, 2.32069993019104, 2.320499897003174, 2.3203999996185303, 2.3203999996185303, 2.3203999996185303, 2.3203001022338867, 2.320199966430664, 2.3201000690460205, 2.319999933242798, 2.319700002670288, 2.319700002670288, 2.3196001052856445, 2.3196001052856445, 2.3196001052856445, 2.319499969482422, 2.3194000720977783, 2.3194000720977783, 2.3194000720977783, 2.3194000720977783, 2.3192999362945557, 2.3192999362945557, 2.3192999362945557, 2.3190999031066895, 2.319000005722046, 2.3189001083374023, 2.3187999725341797, 2.3185999393463135, 2.3183999061584473, 2.298099994659424, 2.246500015258789, 2.2379000186920166, 2.2218000888824463, 2.207900047302246, 2.222399950027466, 2.213200092315674, 2.0295000076293945, 2.04259991645813, 2.057499885559082, 1.9819999933242798, 1.4193999767303467, 1.8377000093460083, 2.040299892425537, 1.6655000448226929, 1.9222999811172485, 2.1531999111175537, 1.8907999992370605, 1.9869999885559082, 1.6181000471115112, 1.0098999738693237, 1.7389999628067017, 1.9191999435424805, 0.6269000172615051, 1.4615000486373901, -0.08269999921321869, 0.7074000239372253, 1.2896000146865845, 1.4453999996185303, 0.27810001373291016, 1.6538000106811523, 1.0836999416351318, 0.08980000019073486, 0.3831999897956848, 0.7896000146865845, 2.4967000484466553, 2.4962000846862793, 2.4960999488830566, 2.496000051498413, 2.4958999156951904, 2.495800018310547, 2.495699882507324, 2.495699882507324, 2.495699882507324, 2.495699882507324, 2.495699882507324, 2.4955999851226807, 2.495500087738037, 2.495500087738037, 2.4953999519348145, 2.495300054550171, 2.495300054550171, 2.4951000213623047, 2.494999885559082, 2.4948999881744385, 2.494800090789795, 2.4946999549865723, 2.4946999549865723, 2.494499921798706, 2.494499921798706, 2.4944000244140625, 2.4944000244140625, 2.49429988861084, 2.49429988861084, 2.4941999912261963, 2.4928998947143555, 2.491300106048584, 2.4844000339508057, 2.4784998893737793, 2.4451000690460205, 2.461400032043457, 2.4556000232696533, 2.405900001525879, 2.4495999813079834, 2.3761000633239746, 2.3234000205993652, 2.253700017929077, 2.309799909591675, 2.3559000492095947, 2.3036000728607178, 2.180999994277954, 2.0815999507904053, 1.5170999765396118, 2.1166999340057373, 1.976699948310852, 2.1777000427246094, 1.6821999549865723, 1.3424999713897705, 0.845300018787384, 1.1682000160217285, 1.7257000207901, 2.1982998847961426, 1.2111999988555908, 0.7527999877929688, 1.3357000350952148, 1.4615999460220337, 1.1535999774932861, -0.09539999812841415, 0.35429999232292175, 2.5969998836517334, 2.59689998626709, 2.59689998626709, 2.5968000888824463, 2.5966999530792236, 2.5966999530792236, 2.59660005569458, 2.59660005569458, 2.596400022506714, 2.596400022506714, 2.596299886703491, 2.596299886703491, 2.596299886703491, 2.596299886703491, 2.596299886703491, 2.596100091934204, 2.5959999561309814, 2.595900058746338, 2.5957000255584717, 2.595599889755249, 2.595400094985962, 2.595400094985962, 2.595400094985962, 2.5952999591827393, 2.5952000617980957, 2.5950000286102295, 2.5950000286102295, 2.5947999954223633, 2.5945000648498535, 2.5945000648498535, 2.571700096130371, 2.54830002784729, 2.5360000133514404, 2.571700096130371, 2.569499969482422, 2.569999933242798, 2.566200017929077, 2.4837000370025635, 2.484800100326538, 2.503700017929077, 2.245300054550171, 2.2251999378204346, 2.2441999912261963, 0.7621999979019165, 1.4494999647140503, 0.9157000184059143, 1.4693000316619873, 1.2002999782562256, 1.2172000408172607, 1.9106999635696411, 1.8837000131607056, 1.7874000072479248, 0.9941999912261963, 2.609600067138672, 2.609600067138672, 2.6094000339508057, 2.6094000339508057, 2.609299898147583, 2.609100103378296, 2.6089999675750732, 2.6089999675750732, 2.6089000701904297, 2.6089000701904297, 2.6089000701904297, 2.608799934387207, 2.608799934387207, 2.608599901199341, 2.608599901199341, 2.6085000038146973, 2.608299970626831, 2.6082000732421875, 2.608099937438965, 2.607800006866455, 2.607800006866455, 2.607800006866455, 2.6077001094818115, 2.6077001094818115, 2.607599973678589, 2.6075000762939453, 2.6071999073028564, 2.607100009918213, 2.6070001125335693, 2.6070001125335693, 2.586899995803833, 2.476799964904785, 2.4191999435424805, 2.4172000885009766, 2.1596999168395996, 2.2679998874664307, 2.344099998474121, 2.3499999046325684, 2.38100004196167, 2.0174999237060547, 1.0266000032424927, 0.48260000348091125, 1.3416999578475952, 1.5742000341415405, 1.8300000429153442, 1.4878000020980835, 0.8330000042915344, 1.7379000186920166, 0.03920000046491623, 0.45399999618530273, 2.6149001121520996, 2.614799976348877, 2.6147000789642334, 2.6147000789642334, 2.6147000789642334, 2.6145999431610107, 2.614500045776367, 2.614500045776367, 2.6143999099731445, 2.614300012588501, 2.614300012588501, 2.6142001152038574, 2.6142001152038574, 2.6140999794006348, 2.6140999794006348, 2.614000082015991, 2.614000082015991, 2.6138999462127686, 2.6138999462127686, 2.6136999130249023, 2.613600015640259, 2.613600015640259, 2.613600015640259, 2.613600015640259, 2.6135001182556152, 2.6135001182556152, 2.6133999824523926, 2.6133999824523926, 2.613300085067749, 2.6131999492645264, 2.610300064086914, 2.6048998832702637, 2.506200075149536, 2.5114998817443848, 2.3373000621795654, 2.4258999824523926, 2.5046000480651855, 2.359100103378296, 2.4168999195098877, 2.4574999809265137, 2.264400005340576, 2.4126999378204346, 2.101900100708008, 2.415800094604492, 2.1189000606536865, 1.9228999614715576, 1.9707000255584717, 2.329699993133545, 1.9974000453948975, 1.8538999557495117, 1.0334999561309814, 0.8792999982833862, 2.123199939727783, 1.5267000198364258, 0.357699990272522, 0.19750000536441803, 0.35100001096725464, 3.0797998905181885, 3.0797998905181885, 3.079400062561035, 3.079200029373169, 3.0789999961853027, 3.078900098800659, 3.078900098800659, 3.0785999298095703, 3.0785000324249268, 3.078399896621704, 3.0782999992370605, 3.078000068664551, 3.077899932861328, 3.077899932861328, 3.0778000354766846, 3.0778000354766846, 3.0776000022888184, 3.077500104904175, 3.077399969100952, 3.0773000717163086, 3.077199935913086, 3.077199935913086, 3.0771000385284424, 3.0769999027252197, 3.0768001079559326, 3.0768001079559326, 3.0768001079559326, 3.07669997215271, 3.0766000747680664, 3.0764000415802, 2.8155999183654785, 2.8185999393463135, 2.714200019836426, 2.650599956512451, 2.806999921798706, 2.526900053024292, 2.7135000228881836, 2.3022000789642334, 2.696899890899658, 1.7970999479293823, 2.8622000217437744, 1.9788999557495117, 2.2894999980926514, 2.325900077819824, 2.436500072479248, -0.20350000262260437, 2.0487000942230225, 1.468000054359436, 2.128499984741211, 3.438199996948242, 3.4381000995635986, 3.4377999305725098, 3.437700033187866, 3.437700033187866, 3.4375998973846436, 3.4375998973846436, 3.437299966812134, 3.437299966812134, 3.437299966812134, 3.437299966812134, 3.437299966812134, 3.436800003051758, 3.436800003051758, 3.436800003051758, 3.4365999698638916, 3.436300039291382, 3.436199903488159, 3.4358999729156494, 3.435699939727783, 3.4354000091552734, 3.4351999759674072, 3.4349000453948975, 3.4349000453948975, 3.434799909591675, 3.4342000484466553, 3.4340999126434326, 3.434000015258789, 3.434000015258789, 3.434000015258789, 3.398699998855591, 3.3877999782562256, 3.2035000324249268, 3.2994000911712646, 2.885699987411499, 3.0687999725341797, 3.250699996948242, 2.438199996948242, 2.7425999641418457, 2.3213999271392822, 2.0761001110076904, 1.6468000411987305, 2.3840999603271484, 2.571500062942505, 4.892099857330322, 4.891600131988525, 4.891499996185303, 4.890999794006348, 4.890999794006348, 4.8907999992370605, 4.890600204467773, 4.890500068664551, 4.889800071716309, 4.889599800109863, 4.889599800109863, 4.889599800109863, 4.889200210571289, 4.888999938964844, 4.888800144195557, 4.888500213623047, 4.888400077819824, 4.888400077819824, 4.888400077819824, 4.888199806213379, 4.888000011444092, 4.887700080871582, 4.887499809265137, 4.887199878692627, 4.885900020599365, 4.885700225830078, 4.885700225830078, 4.8850998878479, 4.884399890899658, 4.884300231933594, 4.695499897003174, 4.426499843597412, 4.379700183868408, 4.3404998779296875, 4.170599937438965, 3.732100009918213, 2.510200023651123, 4.972300052642822, 4.9721999168396, 4.972099781036377, 4.972099781036377, 4.9720001220703125, 4.971799850463867, 4.970900058746338, 4.96999979019165, 4.968100070953369, 4.9679999351501465, 4.9679999351501465, 4.967800140380859, 4.967800140380859, 4.967700004577637, 4.9653000831604, 4.964600086212158, 4.964399814605713, 4.964300155639648, 4.963699817657471, 4.963600158691406, 4.963500022888184, 4.9633002281188965, 4.9633002281188965, 4.9633002281188965, 4.962800025939941, 4.962500095367432, 4.962500095367432, 4.962299823760986, 4.962200164794922, 4.961400032043457, 4.931600093841553, 4.4791998863220215, 4.8302001953125, 4.170599937438965, 4.557600021362305, 3.8301000595092773, 3.675600051879883, 3.7334001064300537, 3.341399908065796, 3.8503000736236572, 2.8434998989105225, 5.148099899291992, 5.147500038146973, 5.146500110626221, 5.146299839019775, 5.146299839019775, 5.145999908447266, 5.145899772644043, 5.145100116729736, 5.145100116729736, 5.144599914550781, 5.143599987030029, 5.1433000564575195, 5.143199920654297, 5.1427998542785645, 5.142399787902832, 5.142399787902832, 5.141900062561035, 5.1417999267578125, 5.14139986038208, 5.141300201416016, 5.14109992980957, 5.140900135040283, 5.1402997970581055, 5.138800144195557, 5.138199806213379, 5.1381001472473145, 5.137599945068359, 5.137599945068359, 5.1367998123168945, 5.135799884796143, 4.723499774932861, 4.486299991607666, 2.480299949645996, 4.146100044250488, 5.343699932098389, 5.342299938201904, 5.341700077056885, 5.34119987487793, 5.340700149536133, 5.340400218963623, 5.3403000831604, 5.340099811553955, 5.340099811553955, 5.339700222015381, 5.339600086212158, 5.3394999504089355, 5.338799953460693, 5.338600158691406, 5.338500022888184, 5.337500095367432, 5.337299823760986, 5.335299968719482, 5.333000183105469, 5.332799911499023, 5.332499980926514, 5.332200050354004, 5.331999778747559, 5.331699848175049, 5.329800128936768, 5.3277997970581055, 5.327300071716309, 5.326600074768066, 5.325200080871582, 5.322500228881836, 5.241000175476074, 5.1219000816345215, 3.4758999347686768, 3.7239999771118164, 2.2465999126434326, 5.577099800109863, 5.575200080871582, 5.575099945068359, 5.574399948120117, 5.573599815368652, 5.57289981842041, 5.5725998878479, 5.569699764251709, 5.567800045013428, 5.564199924468994, 5.5625, 5.558199882507324, 5.554800033569336, 5.552499771118164, 5.546199798583984, 5.53439998626709, 5.526100158691406, 5.344600200653076, 4.9730000495910645, 4.899899959564209, 4.7733001708984375, 4.760900020599365, 4.650300025939941, 4.047900199890137, 3.928499937057495, 2.6998000144958496, 2.6998000144958496, 2.6998000144958496, 2.699700117111206, 2.699700117111206, 5.836299896240234, 5.833499908447266, 5.833099842071533, 5.832499980926514, 5.832499980926514, 5.8317999839782715, 5.831099987030029, 5.830999851226807, 5.830900192260742, 5.830900192260742, 5.830699920654297, 5.829800128936768, 5.829599857330322, 5.82889986038208, 5.828000068664551, 5.8277997970581055, 5.827400207519531, 5.827199935913086, 5.826900005340576, 5.825399875640869, 5.825099945068359, 5.8109002113342285, 5.803400039672852, 5.798399925231934, 5.796899795532227, 5.793499946594238, 5.78980016708374, 5.729100227355957, 5.693399906158447, 5.38730001449585, 5.3694000244140625, 5.201200008392334, 4.5447998046875, 3.7660000324249268, 6.510900020599365, 6.506400108337402, 6.505199909210205, 6.503399848937988, 6.5015997886657715, 6.500899791717529, 6.498899936676025, 6.498799800872803, 6.4984002113342285, 6.496300220489502, 6.487800121307373, 6.478400230407715, 6.449699878692627, 6.439899921417236, 6.420599937438965, 6.420100212097168, 6.118100166320801, 6.106400012969971, 3.137700080871582, 3.1375999450683594, 3.1375999450683594, 3.1375999450683594, 3.1375999450683594, 3.1375999450683594, 3.1375999450683594, 3.1375999450683594, 3.1375999450683594, 3.1375999450683594, 3.1375999450683594, 3.1375999450683594, 3.1375999450683594, 3.1375999450683594, 3.1375999450683594, 3.1375999450683594, 3.137500047683716, 3.137500047683716, 6.594799995422363, 6.592899799346924, 6.591400146484375, 6.588699817657471, 6.587600231170654, 6.587500095367432, 6.584799766540527, 6.583399772644043, 6.573400020599365, 6.572199821472168, 6.570700168609619, 6.567999839782715, 6.565400123596191, 6.468200206756592, 5.394899845123291, 4.860099792480469, 4.4994001388549805, 2.949899911880493, 2.949899911880493, 2.949899911880493, 2.9498000144958496, 2.9498000144958496, 2.9498000144958496, 2.9498000144958496, 2.9498000144958496, 2.9498000144958496, 2.9498000144958496, 2.9498000144958496, 2.9498000144958496, 2.9498000144958496, 2.949700117111206, 2.949700117111206, 2.949700117111206, 2.949700117111206, 6.86460018157959, 6.860599994659424, 6.857399940490723, 6.856800079345703, 6.84660005569458, 6.829899787902832, 6.771699905395508, 6.7153000831604, 3.1301000118255615, 3.130000114440918, 3.1298999786376953, 3.1298999786376953, 3.1298999786376953, 3.1298999786376953, 3.1298999786376953, 3.1298999786376953, 3.1298999786376953, 3.1298999786376953, 3.1298999786376953, 3.1298999786376953, 3.1298999786376953, 3.1298999786376953, 3.1298999786376953, 3.1298999786376953, 3.1298999786376953, 3.1298999786376953, 3.1298999786376953, 3.1298999786376953, 3.1298999786376953, 3.1298999786376953, 3.1298999786376953, 3.1298999786376953, 3.1298000812530518, 3.129699945449829, 7.753300189971924, 7.7230000495910645, 7.7204999923706055, 7.7164998054504395, 7.7052001953125, 7.587600231170654, 3.4072999954223633, 3.4072000980377197, 3.407099962234497, 3.407099962234497, 3.407099962234497, 3.407099962234497, 3.407099962234497, 3.407099962234497, 3.407099962234497, 3.407099962234497, 3.407099962234497, 3.407099962234497, 3.407099962234497, 3.407099962234497, 3.407099962234497, 3.407099962234497, 3.407099962234497, 3.407099962234497, 3.407099962234497, 3.407099962234497, 3.407099962234497, 3.407099962234497, 3.407099962234497, 3.407099962234497, 3.407099962234497, 3.407099962234497, 3.407099962234497, 3.407099962234497, 3.406899929046631]}, \"token.table\": {\"Topic\": [1, 2, 4, 5, 6, 7, 9, 2, 1, 16, 6, 7, 9, 3, 7, 9, 13, 4, 6, 7, 2, 4, 7, 9, 3, 7, 8, 12, 12, 12, 12, 12, 2, 2, 1, 2, 4, 5, 7, 8, 9, 1, 3, 14, 1, 2, 4, 7, 8, 9, 10, 4, 3, 15, 2, 4, 7, 9, 1, 3, 6, 15, 8, 2, 3, 5, 7, 20, 18, 3, 6, 5, 8, 2, 3, 7, 9, 11, 13, 14, 16, 2, 18, 6, 9, 2, 8, 2, 6, 7, 9, 4, 12, 3, 6, 1, 2, 3, 6, 9, 13, 5, 9, 4, 16, 16, 5, 10, 4, 5, 7, 8, 9, 11, 16, 8, 9, 3, 3, 1, 4, 5, 7, 8, 10, 15, 13, 13, 4, 10, 1, 2, 3, 4, 5, 8, 4, 10, 17, 3, 5, 5, 6, 17, 4, 4, 6, 12, 6, 7, 16, 3, 8, 6, 13, 11, 8, 3, 4, 5, 5, 5, 5, 3, 4, 8, 1, 3, 4, 8, 10, 2, 12, 2, 12, 10, 11, 5, 6, 3, 6, 12, 13, 12, 14, 1, 2, 6, 7, 1, 5, 6, 7, 8, 7, 5, 11, 1, 5, 1, 8, 8, 11, 5, 6, 7, 20, 13, 13, 11, 5, 9, 5, 1, 2, 9, 1, 8, 4, 10, 2, 7, 8, 9, 2, 4, 6, 13, 3, 8, 1, 2, 3, 5, 6, 7, 9, 9, 10, 1, 4, 5, 7, 8, 4, 4, 9, 9, 10, 14, 17, 11, 4, 1, 6, 7, 8, 8, 3, 8, 3, 7, 16, 4, 16, 16, 10, 4, 1, 2, 4, 7, 1, 4, 5, 7, 9, 10, 13, 2, 6, 15, 13, 2, 18, 15, 5, 3, 8, 11, 13, 4, 1, 4, 14, 3, 3, 6, 1, 2, 3, 4, 5, 6, 7, 7, 3, 6, 7, 10, 13, 2, 7, 1, 2, 9, 4, 14, 12, 16, 10, 18, 10, 10, 5, 18, 18, 2, 7, 9, 14, 1, 4, 5, 8, 7, 3, 6, 7, 16, 5, 6, 8, 15, 7, 7, 16, 11, 5, 1, 3, 6, 7, 2, 19, 10, 1, 3, 16, 3, 15, 1, 3, 5, 7, 4, 9, 10, 4, 9, 8, 10, 10, 15, 8, 9, 7, 4, 1, 2, 3, 4, 5, 6, 12, 3, 5, 1, 3, 9, 5, 7, 3, 13, 7, 9, 11, 12, 9, 1, 3, 4, 15, 15, 16, 11, 17, 7, 15, 3, 8, 10, 6, 7, 2, 3, 11, 8, 4, 6, 2, 7, 9, 16, 1, 3, 1, 3, 11, 7, 8, 4, 16, 1, 3, 4, 5, 6, 7, 8, 1, 3, 3, 2, 5, 6, 4, 1, 2, 4, 5, 7, 8, 15, 1, 1, 12, 7, 12, 1, 2, 3, 4, 5, 7, 8, 3, 4, 5, 7, 16, 9, 2, 10, 17, 6, 9, 11, 12, 11, 2, 7, 1, 3, 6, 3, 4, 2, 8, 3, 12, 16, 5, 9, 1, 7, 2, 15, 6, 1, 2, 4, 6, 7, 9, 4, 7, 9, 9, 1, 2, 3, 6, 18, 1, 3, 4, 8, 10, 9, 5, 5, 1, 4, 6, 3, 5, 11, 16, 13, 6, 12, 1, 3, 17, 3, 1, 7, 3, 5, 7, 1, 4, 5, 6, 7, 3, 2, 4, 5, 7, 17, 10, 11, 1, 2, 3, 5, 6, 10, 1, 3, 5, 6, 7, 13, 12, 6, 7, 11, 1, 2, 3, 4, 5, 6, 7, 8, 3, 5, 6, 10, 3, 8, 1, 3, 5, 7, 15, 6, 7, 5, 8, 2, 17, 4, 6, 14, 13, 6, 9, 1, 2, 4, 5, 7, 8, 9, 4, 4, 7, 8, 16, 5, 9, 5, 4, 7, 7, 7, 1, 2, 4, 6, 7, 8, 11, 1, 14, 14, 12, 2, 16, 9, 14, 9, 9, 19, 9, 5, 9, 19, 19, 5, 2, 7, 4, 5, 11, 12, 12, 1, 3, 4, 6, 14, 13, 6, 2, 2, 2, 6, 1, 3, 7, 13, 3, 6, 6, 7, 9, 1, 3, 6, 7, 4, 5, 12, 12, 4, 5, 7, 1, 2, 3, 4, 7, 6, 9, 10, 9, 10, 2, 1, 2, 3, 5, 6, 10, 16, 1, 3, 13, 1, 3, 5, 6, 8, 15, 1, 3, 4, 5, 6, 7, 8, 14, 16, 2, 4, 5, 6, 7, 5, 1, 2, 3, 4, 5, 7, 1, 3, 4, 8, 14, 1, 4, 5, 3, 3, 4, 7, 3, 11, 8, 1, 2, 4, 5, 8, 19, 20, 15, 2, 3, 6, 1, 4, 5, 7, 2, 7, 4, 3, 12, 1, 2, 4, 7, 8, 16, 1, 3, 4, 18, 7, 14, 2, 5, 8, 9, 10, 9, 7, 9, 1, 2, 3, 5, 1, 17, 3, 5, 6, 2, 7, 1, 3, 4, 6, 14, 6, 1, 3, 4, 6, 11, 3, 8, 9, 5, 16, 9, 3, 5, 15, 1, 4, 7, 10, 1, 3, 1, 2, 3, 4, 5, 7, 8, 1, 2, 3, 6, 7, 8, 9, 11, 2, 3, 3, 5, 7, 13, 2, 19, 9, 17, 2, 4, 5, 7, 8, 16, 9, 10, 17, 2, 1, 4, 5, 8, 1, 2, 5, 6, 8, 9, 10, 2, 7, 9, 3, 5, 6, 7, 18, 1, 4, 8, 2, 3, 4, 5, 8, 18, 4, 14, 1, 2, 4, 9, 8, 11, 8, 7, 17, 16, 6, 8, 7, 11, 6, 11, 5, 1, 2, 4, 5, 6, 7, 8, 2, 3, 5, 10, 1, 3, 5, 6, 7, 10, 14, 12, 7, 4, 13, 14, 16, 1, 4, 5, 6, 7, 8, 9, 4, 2, 8, 8, 3, 8, 1, 2, 3, 5, 1, 2, 4, 9, 12, 5, 2, 3, 8, 2, 1, 15, 6, 10, 9, 10, 4, 10, 12, 2, 6, 8, 5, 9, 10, 1, 2, 9, 10, 10, 10, 5, 7, 9, 7, 4, 9, 6, 11, 8, 4, 4, 8, 9, 4, 5, 8, 11, 5, 9, 14, 18, 18, 9, 2, 4, 5, 7, 8, 9, 10, 7, 8, 9, 14, 4, 4, 6, 8, 10, 17, 13, 7, 15, 4, 7, 1, 1, 8, 14, 5, 3, 5, 9, 14, 13, 2, 4, 6, 7, 8, 1, 2, 4, 7, 8, 9, 6, 10, 15, 10, 6, 18, 20, 1, 11, 5, 13, 1, 2, 3, 5, 10, 3, 4, 5, 7, 1, 4, 7, 17, 12, 2, 3, 5, 6, 7, 11, 2, 9, 14, 14, 2, 5, 6, 7, 12, 4, 5, 15, 2, 2, 1, 2, 4, 5, 6, 7, 9, 2, 6, 7, 8, 15, 19, 2, 1, 2, 3, 4, 5, 6, 7, 8, 1, 4, 10, 10, 10, 13, 13, 2, 2, 8, 16, 7, 3, 8, 13, 6, 3, 4, 1, 2, 3, 4, 7, 8, 1, 7, 13, 17, 1, 12, 6, 3, 6, 14, 18, 6, 8, 3, 6, 3, 8, 1, 5, 7, 13, 13, 11, 18, 15, 2, 7, 19, 2, 1, 2, 3, 5, 9, 2, 9, 1, 3, 4, 6, 7, 14, 16, 16, 2, 3, 6, 8, 7, 5, 6, 5, 6, 9, 6, 4, 6, 7, 1, 9, 6, 14, 2, 5, 10, 1, 1, 3, 4, 2, 7, 11, 9, 9, 3, 9, 12, 1, 2, 5, 6, 7, 9, 1, 3, 14, 4, 14, 6, 2, 7, 4, 8, 14, 1, 2, 6, 12, 9, 2, 4, 7, 7, 9, 15, 1, 1, 3, 1, 7, 9, 2, 7, 2, 4, 12, 15, 1, 2, 3, 4, 5, 6, 7, 8, 5, 2, 17, 17, 3, 2, 11, 11, 16, 5, 12, 7, 12, 1, 5, 7, 12, 12, 7, 12, 12, 14, 7, 2, 2, 3, 12, 9, 10, 1, 6, 9, 2, 7, 12, 8, 8, 7, 8, 9, 14, 13, 1, 7, 14, 14, 9, 4, 7, 9, 10, 2, 4, 7, 9, 10, 11, 20, 8, 9, 1, 4, 5, 7, 8, 9, 8, 11, 7, 4, 20, 6, 7, 2, 6, 8, 5, 7, 12, 11, 10, 10, 3, 6, 4, 16, 1, 3, 5, 9, 1, 3, 8, 5, 7, 1, 3, 4, 5, 8, 8, 3, 2, 7, 1, 2, 4, 7, 8, 1, 3, 4, 5, 7, 5, 5, 5, 6, 10, 3, 11, 2, 3, 6, 2, 10, 6, 6, 18, 1, 2, 3, 4, 5, 6, 7, 8, 9, 4, 5, 6, 7, 1, 4, 5, 7, 8, 9, 1, 1, 2, 4, 9, 1, 8, 8, 1, 3, 13, 8, 1, 2, 4, 5, 6, 7, 4, 16, 6, 18, 17], \"Freq\": [0.02343626506626606, 0.2668345868587494, 0.41648784279823303, 0.016659513115882874, 0.07397953420877457, 0.17421898245811462, 0.02823646366596222, 0.9978367686271667, 0.9991549253463745, 0.9860429763793945, 0.9991224408149719, 0.9981537461280823, 0.9969099760055542, 0.17506973445415497, 0.10585612058639526, 0.06514222919940948, 0.6541365385055542, 0.2591932415962219, 0.7027499079704285, 0.037957169115543365, 0.10208873450756073, 0.05073500797152519, 0.15282374620437622, 0.693584680557251, 0.246366947889328, 0.09461919218301773, 0.21066159009933472, 0.448102205991745, 0.9967473745346069, 0.9988381862640381, 0.9862185716629028, 0.9991560578346252, 0.9984158873558044, 0.9965283870697021, 0.289669930934906, 0.15301567316055298, 0.18375129997730255, 0.1748088151216507, 0.07650783658027649, 0.10459383577108383, 0.017686227336525917, 0.6310632228851318, 0.36875566840171814, 0.9965429306030273, 0.18520906567573547, 0.10349918156862259, 0.3564729690551758, 0.03965652734041214, 0.06013847142457962, 0.08802878111600876, 0.16668815910816193, 0.9980109930038452, 0.9990594983100891, 0.9992307424545288, 0.8957675099372864, 0.07720101624727249, 0.010018452070653439, 0.01709030009806156, 0.9632378816604614, 0.026008350774645805, 0.01068200170993805, 0.9702085852622986, 0.9980583786964417, 0.9990619421005249, 0.9991996884346008, 0.8407862186431885, 0.1587269902229309, 0.9409396648406982, 0.9831057190895081, 0.9987710118293762, 0.9993656277656555, 0.9995460510253906, 0.9988794326782227, 0.09662964940071106, 0.9026623368263245, 0.277070015668869, 0.060087475925683975, 0.29042279720306396, 0.3672012388706207, 0.9909960627555847, 0.9934768676757812, 0.8201513290405273, 0.17450028657913208, 0.4243088960647583, 0.5750925540924072, 0.9980100989341736, 0.998904824256897, 0.3648594915866852, 0.01448900531977415, 0.14950019121170044, 0.47023409605026245, 0.9989144206047058, 0.9965463280677795, 0.02637265808880329, 0.9731510877609253, 0.6959594488143921, 0.025446701794862747, 0.24291452765464783, 0.009679113514721394, 0.02591504529118538, 0.9894987940788269, 0.22950121760368347, 0.7698805332183838, 0.3612730801105499, 0.6374586820602417, 0.9557804465293884, 0.9987709522247314, 0.9958915710449219, 0.7121688723564148, 0.15345898270606995, 0.02085850201547146, 0.06505866348743439, 0.0481732077896595, 0.9946500658988953, 0.9952057600021362, 0.9895758628845215, 0.010196557268500328, 0.998759925365448, 0.9987548589706421, 0.5667637586593628, 0.04796917364001274, 0.26098868250846863, 0.05478943511843681, 0.05888159200549126, 0.010457734577357769, 0.9955321550369263, 0.9937512278556824, 0.9941110014915466, 0.9988626837730408, 0.9967694878578186, 0.31323719024658203, 0.10741118341684341, 0.06242934241890907, 0.4233745336532593, 0.029987893998622894, 0.06351981312036514, 0.5790910720825195, 0.4200783371925354, 0.9903150796890259, 0.9496161341667175, 0.048755086958408356, 0.7291865348815918, 0.27015212178230286, 0.9196867942810059, 0.999053955078125, 0.4885317087173462, 0.22191976010799408, 0.289728581905365, 0.8929681181907654, 0.1066988930106163, 0.9899439215660095, 0.1040772795677185, 0.8953707218170166, 0.9992536306381226, 0.9971396327018738, 0.9931908845901489, 0.9986504316329956, 0.9985581040382385, 0.00321868434548378, 0.9961827993392944, 0.9994978904724121, 0.9985870122909546, 0.9972566962242126, 0.05482974275946617, 0.9279831051826477, 0.01690240204334259, 0.07778234779834747, 0.015351778827607632, 0.9057549834251404, 0.20886944234371185, 0.7908777594566345, 0.7251352667808533, 0.2730066180229187, 0.3377966284751892, 0.6617112159729004, 0.9993488192558289, 0.9929956197738647, 0.7268713712692261, 0.2728221118450165, 0.35858675837516785, 0.10168877989053726, 0.021408164873719215, 0.5164719820022583, 0.988413393497467, 0.9932891130447388, 0.04030858725309372, 0.3161042034626007, 0.005657345522195101, 0.637688934803009, 0.3688519299030304, 0.0424981564283371, 0.03528148680925369, 0.5532779097557068, 0.9985910058021545, 0.9990265965461731, 0.9977646470069885, 0.9985431432723999, 0.011359269730746746, 0.9869943261146545, 0.9984212517738342, 0.9988784193992615, 0.9971259832382202, 0.9940586090087891, 0.9982010126113892, 0.9407007694244385, 0.059187330305576324, 0.9635199308395386, 0.9995102882385254, 0.9994401931762695, 0.9926385879516602, 0.30606597661972046, 0.692841112613678, 0.9998646974563599, 0.025227060541510582, 0.9027197360992432, 0.07090849429368973, 0.9982002377510071, 0.9994409680366516, 0.99864661693573, 0.9983778595924377, 0.4590514302253723, 0.040510352700948715, 0.5003522634506226, 0.9953817129135132, 0.01650320179760456, 0.07183746248483658, 0.9105884432792664, 0.9846796989440918, 0.9989368915557861, 0.9996506571769714, 0.8253272771835327, 0.09366905689239502, 0.05828051269054413, 0.0032070870511233807, 0.005087103694677353, 0.011611866764724255, 0.0027647302486002445, 0.9968152642250061, 0.9983605146408081, 0.9985676407814026, 0.03142702579498291, 0.7843287587165833, 0.1701548993587494, 0.013917682692408562, 0.9995824694633484, 0.9991547465324402, 0.9983698725700378, 0.17027628421783447, 0.8286779522895813, 0.9977360367774963, 0.9689915180206299, 0.9954274296760559, 0.9981025457382202, 0.033306822180747986, 0.02725103683769703, 0.8266147971153259, 0.11246459931135178, 0.9984838962554932, 0.9991748929023743, 0.9987079501152039, 0.022351177409291267, 0.9773757457733154, 0.977392852306366, 0.7173723578453064, 0.27747422456741333, 0.9934521913528442, 0.9966518878936768, 0.9991846680641174, 0.7367988228797913, 0.06706912815570831, 0.09459391236305237, 0.10156525671482086, 0.003983724396675825, 0.14281047880649567, 0.31519708037376404, 0.1691271960735321, 0.27729135751724243, 0.022091561928391457, 0.06941337883472443, 0.9996315240859985, 0.9988100528717041, 0.986748456954956, 0.9917969107627869, 0.9985218644142151, 0.9901958107948303, 0.9474808573722839, 0.9972159266471863, 0.9981732368469238, 0.17829088866710663, 0.8212186098098755, 0.9893707633018494, 0.9989413022994995, 0.04551607742905617, 0.7993761301040649, 0.1545650213956833, 0.9986081123352051, 0.9991875290870667, 0.9990982413291931, 0.4808785915374756, 0.14551298320293427, 0.3151685297489166, 0.026115305721759796, 9.393994696438313e-05, 0.009393994696438313, 0.022827407345175743, 0.9984822273254395, 0.037871502339839935, 0.5034682154655457, 0.45854219794273376, 0.9984533786773682, 0.9964163899421692, 0.9712504148483276, 0.0283060222864151, 0.14602559804916382, 0.8474778532981873, 0.006176309194415808, 0.9974387884140015, 0.9961245059967041, 0.9878894090652466, 0.9475939869880676, 0.8724685311317444, 0.12368328124284744, 0.9990516901016235, 0.9991152882575989, 0.6899374723434448, 0.3010636270046234, 0.9659608602523804, 0.2875517010688782, 0.2525791823863983, 0.4595881402492523, 0.9940807819366455, 0.9974271059036255, 0.13509562611579895, 0.7416187524795532, 0.12243041396141052, 0.9981446266174316, 0.25891703367233276, 0.48995068669319153, 0.25095033645629883, 0.9319796562194824, 0.28662747144699097, 0.3204811215400696, 0.19860801100730896, 0.19183728098869324, 0.9996907711029053, 0.9975714087486267, 0.9935337901115417, 0.996387243270874, 0.9993487000465393, 0.9993851780891418, 0.03565918281674385, 0.19713471829891205, 0.7670088410377502, 0.9972800612449646, 0.9924330711364746, 0.9993478059768677, 0.9978325963020325, 0.9989414215087891, 0.9909043908119202, 0.4916464686393738, 0.5078870058059692, 0.999108612537384, 0.7318612337112427, 0.006515084765851498, 0.26147207617759705, 0.9053403735160828, 0.020327160134911537, 0.07349050045013428, 0.977128803730011, 0.022021576762199402, 0.9986134171485901, 0.998567521572113, 0.9992919564247131, 0.9973039031028748, 0.9987537860870361, 0.9953926801681519, 0.9991164207458496, 0.9992243051528931, 0.05768580734729767, 0.15277230739593506, 0.5929171442985535, 0.17728349566459656, 0.015636445954442024, 0.003592156572267413, 0.9912941455841064, 0.9397521018981934, 0.05951763316988945, 0.9887788891792297, 0.01077688205987215, 0.9988411664962769, 0.9981124997138977, 0.9989184141159058, 0.9996262192726135, 0.9959325790405273, 0.250628799200058, 0.44416457414627075, 0.10934770107269287, 0.1954711228609085, 0.9981337785720825, 0.9365624189376831, 0.06193151697516441, 0.0013661363627761602, 0.9824152588844299, 0.9952948689460754, 0.9917598366737366, 0.9955663084983826, 0.8781958818435669, 0.9972615242004395, 0.9932622909545898, 0.999639630317688, 0.9993656873703003, 0.997218668460846, 0.9748291969299316, 0.02489587664604187, 0.05288029462099075, 0.6330526471138, 0.3127491772174835, 0.9982441067695618, 0.9983660578727722, 0.999409019947052, 0.9757896065711975, 0.02320796810090542, 0.999275803565979, 0.9862146377563477, 0.7545809745788574, 0.2451661229133606, 0.9979618191719055, 0.9990472793579102, 0.9983425736427307, 0.997231125831604, 0.9994912147521973, 0.999093770980835, 0.9857781529426575, 0.3124525547027588, 0.007435942068696022, 0.13356095552444458, 0.021163834258913994, 0.251535028219223, 0.11697308719158173, 0.1568697839975357, 0.11151333153247833, 0.8881522417068481, 0.9987881779670715, 0.14371967315673828, 0.8294102549552917, 0.02619190327823162, 0.998058021068573, 0.3901340067386627, 0.3162827789783478, 0.07312416285276413, 0.11737258732318878, 0.05712825059890747, 0.045910339802503586, 0.9975816011428833, 0.9983606338500977, 0.9993327856063843, 0.9993259310722351, 0.9991889595985413, 0.9990797638893127, 0.33520999550819397, 0.17938971519470215, 0.008118366822600365, 0.02802146039903164, 0.0392824225127697, 0.07332718372344971, 0.3367812931537628, 0.15679992735385895, 0.5587317943572998, 0.16271691024303436, 0.12172070145606995, 0.7994160056114197, 0.9981749653816223, 0.9089042544364929, 0.09055503457784653, 0.9957000613212585, 0.998542070388794, 0.22973798215389252, 0.6271846890449524, 0.14014017581939697, 0.9978692531585693, 0.9567044973373413, 0.04247663542628288, 0.26681581139564514, 0.2879178524017334, 0.4449314475059509, 0.9987396001815796, 0.9993653893470764, 0.8641721606254578, 0.13570155203342438, 0.9981452226638794, 0.9857906699180603, 0.9939737915992737, 0.9989080429077148, 0.9980453848838806, 0.9726453423500061, 0.02733265981078148, 0.9990163445472717, 0.9715442061424255, 0.9995535016059875, 0.8629755973815918, 0.056984107941389084, 0.042096368968486786, 0.028064245358109474, 0.009069543331861496, 0.00051337038166821, 0.7679383754730225, 0.2188749462366104, 0.012507139705121517, 0.9965246319770813, 0.8876403570175171, 0.007332279812544584, 0.06262309849262238, 0.04236428439617157, 0.9868288636207581, 0.6494891047477722, 0.21275705099105835, 0.1044129952788353, 0.033270254731178284, 0.9984918832778931, 0.9999380111694336, 0.9975076913833618, 0.9976897239685059, 0.1854957789182663, 0.6713180541992188, 0.14329303801059723, 0.22851617634296417, 0.1924346685409546, 0.5748986005783081, 0.9899510741233826, 0.9965900182723999, 0.9986547827720642, 0.9930253624916077, 0.8370651602745056, 0.16275690495967865, 0.990123987197876, 0.9994506239891052, 0.9968607425689697, 0.9998531937599182, 0.8290076851844788, 0.042228274047374725, 0.12835173308849335, 0.7246199250221252, 0.14326754212379456, 0.0005812071030959487, 0.0912495106458664, 0.04010329023003578, 0.9991284608840942, 0.00031755631789565086, 0.6166943907737732, 0.21466808021068573, 0.16798730194568634, 0.9952301979064941, 0.996839702129364, 0.9973810911178589, 0.1079029068350792, 0.5731572508811951, 0.0808246061205864, 0.22606274485588074, 0.008205544203519821, 0.0036924949381500483, 0.4213382303714752, 0.06415872275829315, 0.16417601704597473, 0.323781818151474, 0.026366597041487694, 0.9977790713310242, 0.9894370436668396, 0.28921350836753845, 0.7105922698974609, 0.9989752173423767, 0.1736031174659729, 0.018885694444179535, 0.4663313925266266, 0.11513010412454605, 0.04430874437093735, 0.09878671169281006, 0.01997525431215763, 0.062468066811561584, 0.205231174826622, 0.33936166763305664, 0.1990819275379181, 0.2559624910354614, 0.998904824256897, 0.998928427696228, 0.3388497531414032, 0.00522199971601367, 0.034233108162879944, 0.22628666460514069, 0.3957115411758423, 0.9986373782157898, 0.998961865901947, 0.09799415618181229, 0.9010869264602661, 0.9986428022384644, 0.8824233412742615, 0.9197781682014465, 0.07934705913066864, 0.9963507056236267, 0.9907228946685791, 0.969527542591095, 0.029588837176561356, 0.16925394535064697, 0.18771801888942719, 0.21622394025325775, 0.12649506330490112, 0.12390360981225967, 0.15419115126132965, 0.022189274430274963, 0.9988687634468079, 0.7569662928581238, 0.2427903413772583, 0.4686746299266815, 0.5290341973304749, 0.9497695565223694, 0.04987998306751251, 0.9987722039222717, 0.9991872906684875, 0.9993283152580261, 0.9962574243545532, 0.9993359446525574, 0.10915662348270416, 0.1581038385629654, 0.04938037693500519, 0.006064256653189659, 0.13731209933757782, 0.5388525128364563, 0.9969947338104248, 0.9993428587913513, 0.9978053569793701, 0.9919735789299011, 0.9920084476470947, 0.9993687272071838, 0.9967026710510254, 0.9989420175552368, 0.9965790510177612, 0.9976627826690674, 0.9975405335426331, 0.9898443818092346, 0.9965623021125793, 0.9986804127693176, 0.9982850551605225, 0.9935122132301331, 0.9971690773963928, 0.996791422367096, 0.9753492474555969, 0.023437228053808212, 0.03948885202407837, 0.9594724178314209, 0.9977248311042786, 0.9922071099281311, 0.9881348013877869, 0.21686328947544098, 0.14967940747737885, 0.4949732720851898, 0.13811753690242767, 0.9946272373199463, 0.9909576177597046, 0.9986308217048645, 0.999214768409729, 0.9990530014038086, 0.9265902042388916, 0.07293375581502914, 0.9438827037811279, 0.023056676611304283, 0.032903801649808884, 0.9948961734771729, 0.024608658626675606, 0.9745028614997864, 0.6894639134407043, 0.16692283749580383, 0.14301572740077972, 0.9453620314598083, 0.012928027659654617, 0.006553791929036379, 0.03519296646118164, 0.9983810782432556, 0.9534026980400085, 0.045015379786491394, 0.987176775932312, 0.2928217947483063, 0.6600246429443359, 0.046595003455877304, 0.42261624336242676, 0.34035876393318176, 0.05040527880191803, 0.13545392453670502, 0.051226213574409485, 0.21551449596881866, 0.7678972482681274, 0.016234613955020905, 0.650651216506958, 0.34854158759117126, 0.998183012008667, 0.4150436818599701, 0.023850638419389725, 0.3185763955116272, 0.12159566581249237, 0.12074385583400726, 0.9946752786636353, 0.9611185789108276, 0.9994778633117676, 0.0004106318228878081, 0.9940097332000732, 0.5683143138885498, 0.10693181306123734, 0.0068840221501886845, 0.31742992997169495, 0.0001529782748548314, 0.9948922395706177, 0.5324195027351379, 0.07076026499271393, 0.03967383876442909, 0.09738124161958694, 0.20128892362117767, 0.012881116941571236, 0.045341528952121735, 0.9910555481910706, 0.9948949813842773, 0.04673885181546211, 0.06985146552324295, 0.6836199164390564, 0.10888611525297165, 0.08988240361213684, 0.9987415075302124, 0.48150524497032166, 0.06752942502498627, 0.27359646558761597, 0.1141861155629158, 0.05566061660647392, 0.007571480702608824, 0.6325151324272156, 0.3028397262096405, 0.05144660174846649, 0.01307021826505661, 0.9786015748977661, 0.8928669095039368, 0.08994482457637787, 0.017111454159021378, 0.9998342394828796, 0.15449735522270203, 0.7553204298019409, 0.08979333937168121, 0.9981812834739685, 0.9951501488685608, 0.9988848567008972, 0.7545052766799927, 0.03941626846790314, 0.12962356209754944, 0.0748787447810173, 0.001520689344033599, 0.9626743197441101, 0.8051479458808899, 0.9744923710823059, 0.01525084488093853, 0.03244860842823982, 0.9522043466567993, 0.6203600764274597, 0.04962880536913872, 0.2764662206172943, 0.05339643731713295, 0.8996357321739197, 0.09971331804990768, 0.9994585514068604, 0.9993650317192078, 0.9935870170593262, 0.7337295413017273, 0.06471043825149536, 0.030287792906165123, 0.11577586829662323, 0.055407021194696426, 0.9966011047363281, 0.8913581371307373, 0.0005526088643819094, 0.10803503543138504, 0.9642492532730103, 0.9992159605026245, 0.9883758425712585, 0.11089007556438446, 0.0815042033791542, 0.6110043525695801, 0.1070089265704155, 0.08871205896139145, 0.9993786215782166, 0.23718009889125824, 0.7615984082221985, 0.053959500044584274, 0.0004905409296043217, 0.8025249242782593, 0.1427474021911621, 0.9985300898551941, 0.643727719783783, 0.9731411933898926, 0.004292122088372707, 0.022240998223423958, 0.9848188757896423, 0.014791746623814106, 0.2723723351955414, 0.05856957659125328, 0.6504555940628052, 0.01857084222137928, 0.9869981408119202, 0.9995657205581665, 0.8537728190422058, 0.08783522248268127, 0.05837608501315117, 0.9989422559738159, 0.9988876581192017, 0.24799998104572296, 0.7514473795890808, 0.9982782006263733, 0.9986812472343445, 0.9935113787651062, 0.9972493052482605, 0.38972583413124084, 0.3928687870502472, 0.21686357259750366, 0.8176405429840088, 0.12690211832523346, 0.05523641034960747, 0.9979686141014099, 0.7146320343017578, 0.2852988541126251, 0.10387766361236572, 0.04245602339506149, 0.047943536192178726, 0.26946577429771423, 0.26484471559524536, 0.09511689841747284, 0.17617805302143097, 0.01720193773508072, 0.09671701490879059, 0.04774415120482445, 0.004563779104501009, 0.047042034566402435, 0.7572363018989563, 0.029313504695892334, 0.9917458891868591, 0.18268631398677826, 0.8171774744987488, 0.998421311378479, 0.981388509273529, 0.01637922413647175, 0.9969735741615295, 0.9994623064994812, 0.8865258693695068, 0.9988622665405273, 0.9142258167266846, 0.01787291094660759, 0.5190107822418213, 0.04456621780991554, 0.35513705015182495, 0.06313547492027283, 0.9186827540397644, 0.048223719000816345, 0.9505794048309326, 0.9871811270713806, 0.9994071125984192, 0.050185754895210266, 0.6691433787345886, 0.20074301958084106, 0.07946077734231949, 0.11470652371644974, 0.773074209690094, 0.06770871579647064, 0.014736602082848549, 0.0031862924806773663, 0.023498905822634697, 0.0027880058623850346, 0.478335976600647, 0.18863001465797424, 0.33263787627220154, 0.15415270626544952, 0.1285361498594284, 0.7034350633621216, 0.013828404247760773, 0.9938458800315857, 0.99957674741745, 0.18004031479358673, 0.8192591071128845, 0.08623585104942322, 0.3226199448108673, 0.09082286804914474, 0.46237096190452576, 0.037613511085510254, 0.8307814002037048, 0.9984961152076721, 0.9950729608535767, 0.04085530340671539, 0.9127343893051147, 0.02738652192056179, 0.017958374693989754, 0.9984875321388245, 0.9979334473609924, 0.9981565475463867, 0.9996795654296875, 0.9855101704597473, 0.9789586067199707, 0.9972577095031738, 0.997845470905304, 0.9993733763694763, 0.9970163106918335, 0.9997318387031555, 0.9973912239074707, 0.9991251826286316, 0.35119590163230896, 0.05655490979552269, 0.10957513749599457, 0.3552355170249939, 0.0025247728917747736, 0.02120809070765972, 0.10376816242933273, 0.16252607107162476, 0.06558915972709656, 0.08053962886333466, 0.6910974979400635, 0.48215118050575256, 0.043831925839185715, 0.1512201428413391, 0.0518677793443203, 0.13734003901481628, 0.08766385167837143, 0.045292992144823074, 0.999046802520752, 0.9992363452911377, 0.9995492100715637, 0.9928997755050659, 0.9833858609199524, 0.9887467622756958, 0.5402873754501343, 0.03557245060801506, 0.1917562037706375, 0.013204178772866726, 0.20535454154014587, 0.0037444685585796833, 0.010100211016833782, 0.9993348717689514, 0.004910838790237904, 0.9948325157165527, 0.998921811580658, 0.1724412441253662, 0.8273215293884277, 0.32046476006507874, 0.10385864973068237, 0.13263030350208282, 0.442802757024765, 0.17244218289852142, 0.2880394756793976, 0.5131299495697021, 0.026324138045310974, 0.9984920620918274, 0.9986299872398376, 0.37822410464286804, 0.5090291500091553, 0.11229491978883743, 0.9993500113487244, 0.9971221685409546, 0.9657500982284546, 0.9997100234031677, 0.9998813271522522, 0.03851795941591263, 0.961262047290802, 0.128135547041893, 0.8697685599327087, 0.9938077926635742, 0.1298588514328003, 0.05279308557510376, 0.8167757391929626, 0.5944257378578186, 0.03741680458188057, 0.3679962158203125, 0.9980250597000122, 0.3972080945968628, 0.027091991156339645, 0.5754225850105286, 0.9962431192398071, 0.9979541897773743, 0.06706991791725159, 0.795257568359375, 0.1360561102628708, 0.9988030791282654, 0.9992530941963196, 0.9992575645446777, 0.99879390001297, 0.9972960948944092, 0.997623085975647, 0.9993047714233398, 0.8926599025726318, 0.09997223317623138, 0.006381206680089235, 0.1337110549211502, 0.8239943981170654, 0.041784703731536865, 0.9946694374084473, 0.9984152317047119, 0.8001312017440796, 0.19930008053779602, 0.9970619082450867, 0.9931756258010864, 0.9959272742271423, 0.36439529061317444, 0.14473427832126617, 0.053286414593458176, 0.32553577423095703, 0.013961506076157093, 0.09214593470096588, 0.005817294120788574, 0.15131810307502747, 0.8201246857643127, 0.02812964655458927, 0.9964839816093445, 0.9982436299324036, 0.0816209614276886, 0.27817755937576294, 0.14075450599193573, 0.498887300491333, 0.9647675156593323, 0.9894178509712219, 0.4502263069152832, 0.5458993911743164, 0.8976090550422668, 0.10159635543823242, 0.9990556836128235, 0.390938401222229, 0.6086573600769043, 0.9953405857086182, 0.9980491995811462, 0.03344947099685669, 0.9655747413635254, 0.9994480013847351, 0.9963790774345398, 0.9931268692016602, 0.722865104675293, 0.02774633653461933, 0.008762001059949398, 0.049651339650154114, 0.19081692397594452, 0.9994527101516724, 0.4698116183280945, 0.1653725504875183, 0.281403511762619, 0.024457504972815514, 0.05901084095239639, 0.9972956776618958, 0.996906042098999, 0.9797511696815491, 0.9993835687637329, 0.998471200466156, 0.9920991063117981, 0.9868373870849609, 0.9994872808456421, 0.9990203380584717, 0.9974454045295715, 0.9862256646156311, 0.8187627792358398, 0.059356704354286194, 0.046046413481235504, 0.07500529289245605, 0.0007194752106443048, 0.11239266395568848, 0.7469324469566345, 0.029736176133155823, 0.11037665605545044, 0.01775813102722168, 0.15677893161773682, 0.8249920606613159, 0.9904752969741821, 0.9969257116317749, 0.030865775421261787, 0.723630964756012, 0.010778524912893772, 0.10876511037349701, 0.03331543877720833, 0.092107392847538, 0.9968476295471191, 0.19846580922603607, 0.8009937405586243, 0.9973741173744202, 0.18461261689662933, 0.328989177942276, 0.17041164636611938, 0.1964467614889145, 0.11834142357110977, 0.9976476430892944, 0.5418376326560974, 0.44332170486450195, 0.9991809725761414, 0.9985267519950867, 0.18604645133018494, 0.4061130881309509, 0.09037335216999054, 0.0011571492068469524, 0.15961715579032898, 0.11918636411428452, 0.037491634488105774, 0.9991391897201538, 0.9998547434806824, 0.4491361081600189, 0.10878729075193405, 0.4413655698299408, 0.8231940865516663, 0.9992039203643799, 0.6909105777740479, 0.013093310408294201, 0.07179643213748932, 0.0005202640313655138, 0.06485957652330399, 0.04847126454114914, 0.0063298786990344524, 0.10387937724590302, 0.999312698841095, 0.9992714524269104, 0.9985449314117432, 0.9986432790756226, 0.9978126287460327, 0.9936628937721252, 0.9895146489143372, 0.9991921782493591, 0.1453448086977005, 0.8539007306098938, 0.9897407293319702, 0.9978278279304504, 0.8421130180358887, 0.1569482386112213, 0.9891228079795837, 0.9992855787277222, 0.8767327666282654, 0.12244492769241333, 0.1347886621952057, 0.17792795598506927, 0.0010395011631771922, 0.05266806110739708, 0.03516979143023491, 0.598406195640564, 0.22800961136817932, 0.7710015773773193, 0.9933090806007385, 0.9891777634620667, 0.9990150332450867, 0.9888462424278259, 0.9980066418647766, 0.9567409753799438, 0.043122053146362305, 0.9677907824516296, 0.965859055519104, 0.9991491436958313, 0.9983810782432556, 0.9991769194602966, 0.9988557696342468, 0.8947927951812744, 0.10429024696350098, 0.9990833401679993, 0.9942883253097534, 0.004443746991455555, 0.9949796199798584, 0.993388831615448, 0.9944902658462524, 0.9913128614425659, 0.9984052181243896, 0.9985775947570801, 0.9996331930160522, 0.9895287752151489, 0.9993537664413452, 0.19443564116954803, 0.10904431343078613, 0.547226071357727, 0.14913414418697357, 0.9999057650566101, 0.9534004330635071, 0.046152397990226746, 0.7536107301712036, 0.1515698879957199, 0.06460355967283249, 0.002046266570687294, 0.028063083067536354, 0.991377592086792, 0.9980303049087524, 0.994943380355835, 0.02768537774682045, 0.15465624630451202, 0.11360551416873932, 0.7040677666664124, 0.9976675510406494, 0.8687099814414978, 0.1311260312795639, 0.40097060799598694, 0.07298566401004791, 0.5253165364265442, 0.9994276165962219, 0.3882920444011688, 0.19311879575252533, 0.41828709840774536, 0.9782066941261292, 0.020687151700258255, 0.9978982210159302, 0.9937089681625366, 0.9993898272514343, 0.9968823194503784, 0.9982856512069702, 0.9989162087440491, 0.9995615482330322, 0.9987873435020447, 0.9969862103462219, 0.9986696839332581, 0.9987255334854126, 0.9931139945983887, 0.9984447360038757, 0.9957863688468933, 0.9989627599716187, 0.1244603618979454, 0.8643080592155457, 0.6033449172973633, 0.18750226497650146, 0.07557857781648636, 0.06378446519374847, 0.055119406431913376, 0.014682462438941002, 0.9565119743347168, 0.04335877299308777, 0.9995647072792053, 0.09656213223934174, 0.9012466073036194, 0.996239960193634, 0.9283080101013184, 0.0713205337524414, 0.8455711007118225, 0.1536523401737213, 0.978594183921814, 0.6193457245826721, 0.1332535743713379, 0.2473956048488617, 0.9945101141929626, 0.9971850514411926, 0.019096702337265015, 0.10472385585308075, 0.8753681778907776, 0.9968019723892212, 0.20622389018535614, 0.789876401424408, 0.9969336986541748, 0.8683401942253113, 0.13152088224887848, 0.9999387264251709, 0.31699544191360474, 0.681699275970459, 0.9740948677062988, 0.025035148486495018, 0.3436451256275177, 0.32773563265800476, 0.3245537281036377, 0.9806656241416931, 0.5908257961273193, 0.09442421048879623, 0.09463173896074295, 0.06225772202014923, 0.001660205889493227, 0.04074421897530556, 0.026286594569683075, 0.08909771591424942, 0.9985523819923401, 0.9967672228813171, 0.988609790802002, 0.9836170673370361, 0.999322235584259, 0.3985196053981781, 0.597779393196106, 0.997428834438324, 0.9907370805740356, 0.9985157251358032, 0.9929608106613159, 0.9963071942329407, 0.9983385801315308, 0.08938324451446533, 0.09111045300960541, 0.20899270474910736, 0.6101377606391907, 0.9872474074363708, 0.03732731565833092, 0.9580678343772888, 0.9938541054725647, 0.9822907447814941, 0.9979951977729797, 0.9993705153465271, 0.134609192609787, 0.545712947845459, 0.3189389109611511, 0.9983212351799011, 0.9998544454574585, 0.9492167830467224, 0.03718879073858261, 0.01335908006876707, 0.9681544303894043, 0.03120623528957367, 0.9896129965782166, 0.9986757636070251, 0.9984992742538452, 0.2753431797027588, 0.5249348282814026, 0.19940921664237976, 0.9953230619430542, 0.9896100163459778, 0.9659663438796997, 0.03369065374135971, 0.9889386892318726, 0.9864010810852051, 0.9979948997497559, 0.2944997251033783, 0.2938823103904724, 0.3568571209907532, 0.05433118715882301, 0.15624397993087769, 0.19847208261489868, 0.23155076801776886, 0.3863871395587921, 0.02674446441233158, 0.9907420873641968, 0.9384328722953796, 0.19460906088352203, 0.8040426969528198, 0.18650256097316742, 0.2901853322982788, 0.3131557106971741, 0.023813322186470032, 0.18418444693088531, 0.002107373671606183, 0.997430682182312, 0.9959497451782227, 0.9992731809616089, 0.9985905885696411, 0.9131855368614197, 0.9729331135749817, 0.026762135326862335, 0.9985989928245544, 0.10297385603189468, 0.8965233564376831, 0.9980006814002991, 0.9999119639396667, 0.9949678182601929, 0.9986377358436584, 0.9995413422584534, 0.9991231560707092, 0.8928532004356384, 0.10669030994176865, 0.8704255223274231, 0.12477089464664459, 0.999932050704956, 0.13622760772705078, 0.4098725914955139, 0.4538937509059906, 0.32449033856391907, 0.2084011286497116, 0.46680453419685364, 0.8864299058914185, 0.11334247887134552, 0.8538073301315308, 0.0021506482735276222, 0.07324854284524918, 0.04883236438035965, 0.021886007860302925, 0.9992783665657043, 0.9986908435821533, 0.9396775364875793, 0.059484172612428665, 0.3593216836452484, 0.4437931478023529, 0.04377983883023262, 0.11953167617321014, 0.033243611454963684, 0.7971333265304565, 0.0893576592206955, 0.08542119711637497, 0.021912964060902596, 0.006035906262695789, 0.9993125200271606, 0.9970980882644653, 0.9130788445472717, 0.08663841336965561, 0.9995226860046387, 0.5117214918136597, 0.48554039001464844, 0.06592592597007751, 0.03988111391663551, 0.8936625123023987, 0.6721140742301941, 0.32718005776405334, 0.9990761876106262, 0.9998259544372559, 0.9761025905609131, 0.5107100009918213, 0.013655346818268299, 0.06044767051935196, 0.19918599724769592, 0.06199527531862259, 0.06235941872000694, 0.0425136461853981, 0.048066820949316025, 0.0010013921419158578, 0.7160856127738953, 0.01708219386637211, 0.0799446702003479, 0.18653756380081177, 0.151944100856781, 0.14404132962226868, 0.3753293454647064, 0.11095502227544785, 0.20557762682437897, 0.012117595411837101, 0.9976272583007812, 0.6543845534324646, 0.203960120677948, 0.10738695412874222, 0.03416857495903969, 0.225664421916008, 0.7740107178688049, 0.9987963438034058, 0.972154438495636, 0.02765611745417118, 0.9954090118408203, 0.9991223812103271, 0.23810561001300812, 0.14820216596126556, 0.4058246314525604, 0.002770134015008807, 0.18610264360904694, 0.018950235098600388, 0.3636874258518219, 0.6234641671180725, 0.9996253252029419, 0.9892621636390686, 0.6591166853904724], \"Term\": [\"accord\", \"accord\", \"accord\", \"accord\", \"accord\", \"accord\", \"accord\", \"accuse\", \"actually\", \"adjust\", \"adult\", \"advise\", \"afghanistan\", \"africa\", \"africa\", \"africa\", \"africa\", \"age\", \"age\", \"age\", \"agency\", \"agency\", \"agency\", \"agency\", \"air\", \"air\", \"air\", \"air\", \"aircraft\", \"airline\", \"airplane\", \"airport\", \"allegation\", \"allege\", \"also\", \"also\", \"also\", \"also\", \"also\", \"also\", \"also\", \"always\", \"always\", \"ambassador\", \"american\", \"american\", \"american\", \"american\", \"american\", \"american\", \"american\", \"amount\", \"andrew\", \"animal\", \"announce\", \"announce\", \"announce\", \"announce\", \"anyone\", \"anyone\", \"anyone\", \"ape\", \"app\", \"april\", \"architect\", \"area\", \"area\", \"argentina\", \"arizona\", \"around\", \"arrest\", \"art\", \"article\", \"artist\", \"artist\", \"asia\", \"asia\", \"asia\", \"asia\", \"assad\", \"asset\", \"athlete\", \"athlete\", \"attack\", \"attack\", \"august\", \"author\", \"authority\", \"authority\", \"authority\", \"authority\", \"average\", \"aviation\", \"baby\", \"baby\", \"back\", \"back\", \"back\", \"back\", \"back\", \"bail\", \"ban\", \"ban\", \"bank\", \"bank\", \"banker\", \"bar\", \"barack_obama\", \"base\", \"base\", \"base\", \"base\", \"base\", \"basic\", \"basis\", \"bbc\", \"bbc\", \"beautiful\", \"beauty\", \"become\", \"become\", \"become\", \"become\", \"become\", \"become\", \"bee\", \"beije\", \"beijing\", \"benefit\", \"bid\", \"big\", \"big\", \"big\", \"big\", \"big\", \"big\", \"bill\", \"bill\", \"biological\", \"birth\", \"birth\", \"black\", \"black\", \"blog_post\", \"bloomberg\", \"board\", \"board\", \"board\", \"body\", \"body\", \"bond\", \"book\", \"book\", \"boy\", \"brazil\", \"bridge\", \"broadcast\", \"broadway\", \"build\", \"build\", \"building\", \"burn\", \"bus\", \"business\", \"business\", \"business\", \"buy\", \"buy\", \"buy\", \"campaign\", \"campaign\", \"cancel\", \"cancel\", \"cancellation\", \"cancellation\", \"candidate\", \"capitol\", \"car\", \"car\", \"card\", \"card\", \"card\", \"card\", \"caribbean\", \"cartoon\", \"case\", \"case\", \"case\", \"case\", \"cause\", \"cause\", \"cause\", \"cause\", \"cbs\", \"cdc\", \"central\", \"centre\", \"century\", \"century\", \"certainly\", \"channel\", \"character\", \"chef\", \"chicken\", \"child\", \"child\", \"chile\", \"china\", \"chinese\", \"circulate\", \"citizen\", \"citizen\", \"city\", \"claim\", \"claim\", \"claim\", \"clearly\", \"click\", \"climate\", \"clinton\", \"cnn\", \"cnn\", \"cnn\", \"cnnmoney\", \"college\", \"college\", \"college\", \"colombia\", \"color\", \"com\", \"come\", \"come\", \"come\", \"come\", \"come\", \"come\", \"come\", \"commission\", \"committee\", \"common_cold\", \"community\", \"community\", \"community\", \"community\", \"company\", \"compare\", \"conflict\", \"congress\", \"congress\", \"consequence\", \"conspiracy\", \"construction\", \"consumer\", \"contact\", \"contact\", \"contact\", \"contact\", \"content\", \"cool\", \"copyright\", \"coronavirus\", \"coronavirus\", \"corp\", \"corporate\", \"corporate\", \"corporation\", \"corruption\", \"cost\", \"could\", \"could\", \"could\", \"could\", \"country\", \"country\", \"country\", \"country\", \"country\", \"country\", \"country\", \"court\", \"crash\", \"creature\", \"credit_card\", \"criminal\", \"criticism\", \"crocodile\", \"cross\", \"cry\", \"culture\", \"culture\", \"custom\", \"customer\", \"cut\", \"cut\", \"cut\", \"dance\", \"dark\", \"daughter\", \"day\", \"day\", \"day\", \"day\", \"day\", \"day\", \"day\", \"deadly\", \"death\", \"death\", \"death\", \"debate\", \"debt\", \"december\", \"december\", \"decision\", \"decision\", \"decision\", \"decline\", \"defense\", \"delta\", \"delta_air\", \"democracy\", \"democracy\", \"democrat\", \"democratic\", \"demonstration\", \"demonstration\", \"demonstrator\", \"department\", \"department\", \"department\", \"deputy\", \"deserve\", \"design\", \"design\", \"design\", \"diagnose\", \"die\", \"die\", \"die\", \"disappointing\", \"discover\", \"discover\", \"discover\", \"discover\", \"disease\", \"disease_control\", \"disney\", \"display\", \"district\", \"do\", \"doctor\", \"doctor\", \"doctor\", \"document\", \"donald\", \"donald_trump\", \"doubt\", \"dress\", \"earning\", \"earth\", \"earth\", \"easily\", \"eat\", \"eat\", \"eat\", \"economic\", \"economic\", \"economic\", \"economy\", \"economy\", \"edit\", \"elect\", \"election\", \"elephant\", \"email\", \"embassy\", \"emergency\", \"employee\", \"end\", \"end\", \"end\", \"end\", \"end\", \"end\", \"engine\", \"enjoy\", \"enjoy\", \"enough\", \"enough\", \"ensure\", \"entire\", \"epidemic\", \"establish\", \"establishment\", \"europe\", \"europe\", \"europe\", \"europe\", \"european\", \"even\", \"even\", \"even\", \"evolution\", \"evolve\", \"exclude\", \"exhibition\", \"experts_warn\", \"expose\", \"extinction\", \"eye\", \"facebook\", \"false\", \"family\", \"family\", \"famous\", \"famous\", \"famous\", \"fashion\", \"fat\", \"father\", \"february\", \"february\", \"federal\", \"federal_reserve\", \"feel\", \"feel\", \"feeling\", \"female\", \"festival\", \"fever\", \"film\", \"financial\", \"financial_crisis\", \"find\", \"find\", \"find\", \"find\", \"find\", \"find\", \"find\", \"fine\", \"fine\", \"finish\", \"fire\", \"fire\", \"fire\", \"firm\", \"first\", \"first\", \"first\", \"first\", \"first\", \"first\", \"fish\", \"fit\", \"fix\", \"flight\", \"flu\", \"fly\", \"follow\", \"follow\", \"follow\", \"follow\", \"follow\", \"follow\", \"follow\", \"food\", \"food\", \"food\", \"food\", \"forbes\", \"foreign\", \"former\", \"former\", \"foundation\", \"founder\", \"france\", \"france\", \"france\", \"french\", \"friday\", \"friday\", \"friend\", \"friend\", \"friend\", \"fun\", \"fund\", \"game\", \"game\", \"garden\", \"gate\", \"generate\", \"generation\", \"germany\", \"get\", \"get\", \"getty_image\", \"giraffes\", \"girl\", \"give\", \"give\", \"give\", \"give\", \"give\", \"give\", \"global\", \"global\", \"global\", \"gmt\", \"go\", \"go\", \"go\", \"go\", \"gold_medal\", \"good\", \"good\", \"good\", \"good\", \"gop\", \"government\", \"grant\", \"green\", \"grow\", \"grow\", \"grow\", \"guest\", \"guest\", \"guest\", \"guidance\", \"guinea\", \"gun\", \"haiti\", \"happen\", \"happen\", \"happiness\", \"happy\", \"harm\", \"health\", \"heart\", \"heart\", \"heart\", \"help\", \"help\", \"help\", \"help\", \"help\", \"hero\", \"high\", \"high\", \"high\", \"high\", \"hill\", \"hillary_clinton\", \"hiv\", \"hold\", \"hold\", \"hold\", \"hold\", \"hold\", \"hold\", \"home\", \"home\", \"home\", \"home\", \"home\", \"hong_kong\", \"horror\", \"hospital\", \"hospital\", \"hotel\", \"hour\", \"hour\", \"hour\", \"hour\", \"hour\", \"hour\", \"hour\", \"hour\", \"house\", \"house\", \"house\", \"house\", \"household\", \"http\", \"human\", \"human\", \"human\", \"human\", \"human\", \"husband\", \"illness\", \"image\", \"image\", \"image_caption\", \"immediate_threat\", \"impact\", \"impact\", \"impose\", \"inch\", \"incident\", \"incident\", \"include\", \"include\", \"include\", \"include\", \"include\", \"include\", \"include\", \"income\", \"increase\", \"increase\", \"index\", \"index\", \"india\", \"india\", \"indian\", \"industry\", \"infect\", \"infected\", \"infection\", \"information\", \"information\", \"information\", \"information\", \"information\", \"information\", \"initial\", \"instead\", \"intelligence\", \"intelligence_community\", \"international_airport\", \"investigation\", \"investor\", \"iran\", \"iranian\", \"iraq\", \"iraqi\", \"isis\", \"islamic\", \"island\", \"israel\", \"italian\", \"italy\", \"jail\", \"january\", \"january\", \"japan\", \"japan\", \"japanese\", \"jeremy\", \"jet\", \"job\", \"job\", \"job\", \"job\", \"john_mccain\", \"jordan\", \"journey\", \"judge\", \"june\", \"justice\", \"justice\", \"keep\", \"keep\", \"keep\", \"kenya\", \"kid\", \"kid\", \"kill\", \"kill\", \"kill\", \"know\", \"know\", \"know\", \"know\", \"labor\", \"land\", \"land\", \"landing\", \"large\", \"large\", \"large\", \"last\", \"last\", \"last\", \"last\", \"last\", \"law\", \"law\", \"law\", \"leader\", \"leader\", \"league\", \"leave\", \"leave\", \"leave\", \"leave\", \"leave\", \"legislation\", \"lender\", \"let\", \"let\", \"liberia\", \"life\", \"life\", \"life\", \"life\", \"life\", \"lion\", \"live\", \"live\", \"live\", \"live\", \"live\", \"live\", \"live\", \"load\", \"loan\", \"local\", \"local\", \"local\", \"local\", \"local\", \"locate\", \"long\", \"long\", \"long\", \"long\", \"long\", \"long\", \"look\", \"look\", \"look\", \"look\", \"loom\", \"lot\", \"lot\", \"lot\", \"love\", \"low\", \"low\", \"low\", \"lucky\", \"luxury\", \"magazine\", \"make\", \"make\", \"make\", \"make\", \"make\", \"malaysia\", \"mali\", \"mammal\", \"man\", \"man\", \"man\", \"many\", \"many\", \"many\", \"many\", \"march\", \"march\", \"market\", \"marriage\", \"max\", \"may\", \"may\", \"may\", \"may\", \"may\", \"mcdonald\", \"mean\", \"mean\", \"mean\", \"medal\", \"medical\", \"medicare\", \"medium\", \"medium\", \"medium\", \"medium\", \"medium\", \"military\", \"minister\", \"minister\", \"minute\", \"minute\", \"minute\", \"minute\", \"mistake\", \"mmm\", \"moment\", \"moment\", \"moment\", \"monday\", \"monday\", \"money\", \"money\", \"money\", \"money\", \"moscow\", \"mother\", \"much\", \"much\", \"much\", \"murder\", \"museum\", \"music\", \"music\", \"muslim\", \"mystery\", \"nasdaq\", \"national_security\", \"nature\", \"nature\", \"nature\", \"need\", \"need\", \"need\", \"netanyahu\", \"never\", \"never\", \"new\", \"new\", \"new\", \"new\", \"new\", \"new\", \"new\", \"news\", \"news\", \"news\", \"news\", \"news\", \"news\", \"news\", \"nick\", \"night\", \"night\", \"nobody\", \"north\", \"north\", \"north_korea\", \"november\", \"nsa\", \"nuclear\", \"nudity\", \"number\", \"number\", \"number\", \"number\", \"number\", \"nyse\", \"obama\", \"obama\", \"ocean\", \"october\", \"offer\", \"offer\", \"offer\", \"offer\", \"office\", \"office\", \"office\", \"office\", \"office\", \"office\", \"office\", \"official\", \"official\", \"official\", \"old\", \"old\", \"old\", \"old\", \"olympic\", \"one\", \"online\", \"online\", \"open\", \"open\", \"open\", \"open\", \"open\", \"opening_ceremony\", \"operate\", \"oppose\", \"order\", \"order\", \"order\", \"order\", \"org\", \"organisation\", \"original\", \"outbreak\", \"outline\", \"outlook\", \"overall\", \"page\", \"pandemic\", \"parade\", \"parent\", \"paris\", \"park\", \"part\", \"part\", \"part\", \"part\", \"part\", \"part\", \"part\", \"party\", \"party\", \"party\", \"party\", \"pass\", \"pass\", \"pass\", \"pass\", \"pass\", \"pass\", \"pass\", \"passenger\", \"patient\", \"pay\", \"payment\", \"penalty\", \"pension\", \"people\", \"people\", \"people\", \"people\", \"people\", \"people\", \"people\", \"percent\", \"photo\", \"photo\", \"photograph\", \"picture\", \"picture\", \"place\", \"place\", \"place\", \"place\", \"plan\", \"plan\", \"plan\", \"plan\", \"plane\", \"plant\", \"play\", \"play\", \"play\", \"player\", \"plenty\", \"poacher\", \"police\", \"politic\", \"political\", \"political\", \"poll\", \"poll\", \"port\", \"post\", \"post\", \"post\", \"power\", \"power\", \"power\", \"prefer\", \"president\", \"president\", \"president\", \"presidential\", \"presidential_election\", \"prevent\", \"prevent\", \"prevent\", \"prevention\", \"price\", \"prime_minister\", \"prison\", \"pro\", \"producer\", \"product\", \"program\", \"program\", \"program\", \"project\", \"project\", \"project\", \"proof\", \"property\", \"proposal\", \"proposal\", \"protest\", \"protester\", \"province\", \"public\", \"public\", \"public\", \"public\", \"public\", \"public\", \"public\", \"publish\", \"publish\", \"publish\", \"putin\", \"quarter\", \"race\", \"race\", \"race\", \"race\", \"radiation\", \"radical\", \"rare\", \"rare\", \"rate\", \"rate\", \"rather\", \"read\", \"read\", \"recession\", \"recipe\", \"red\", \"red\", \"region\", \"reject\", \"relation\", \"release\", \"release\", \"release\", \"release\", \"release\", \"remember\", \"report\", \"report\", \"report\", \"report\", \"report\", \"reporting\", \"representative\", \"reptile\", \"republican\", \"rescue\", \"residence\", \"resolution\", \"rest\", \"restaurant\", \"restriction\", \"rex\", \"right\", \"right\", \"right\", \"right\", \"right\", \"rise\", \"rise\", \"rise\", \"rise\", \"risk\", \"risk\", \"risk\", \"rita_wilson\", \"rocket\", \"room\", \"room\", \"room\", \"room\", \"room\", \"room\", \"royal\", \"russia\", \"russia\", \"russian\", \"safety\", \"safety\", \"safety\", \"safety\", \"safety\", \"sale\", \"sanctuary\", \"sanctuary\", \"sander\", \"saturday\", \"say\", \"say\", \"say\", \"say\", \"say\", \"say\", \"say\", \"schedule\", \"school\", \"scientist\", \"scientist\", \"scientist\", \"se\", \"season\", \"see\", \"see\", \"see\", \"see\", \"see\", \"see\", \"see\", \"see\", \"seem\", \"sell\", \"sen\", \"senate\", \"senator\", \"senegal\", \"seoul\", \"september\", \"series\", \"series\", \"settle\", \"severe\", \"sex\", \"sex\", \"shanghai\", \"shoot\", \"short\", \"short\", \"show\", \"show\", \"show\", \"show\", \"show\", \"show\", \"sick\", \"sick\", \"sierra_leone\", \"sight\", \"simply\", \"singapore\", \"sister\", \"sit\", \"sit\", \"skeptical\", \"ski\", \"sleep\", \"social_media\", \"sometimes\", \"son\", \"song\", \"song\", \"sort\", \"south\", \"south\", \"south_korea\", \"south_korean\", \"spanish\", \"spark\", \"specie\", \"sport\", \"spread\", \"spy\", \"staff\", \"stand\", \"stand\", \"stand\", \"stand\", \"state\", \"statement\", \"statement\", \"still\", \"still\", \"still\", \"still\", \"still\", \"stimulus\", \"stock\", \"stock_market\", \"story\", \"story\", \"story\", \"story\", \"strain\", \"street\", \"street\", \"strike\", \"strike\", \"strike\", \"student\", \"study\", \"study\", \"study\", \"success\", \"success\", \"suit\", \"summit\", \"sunday\", \"supply\", \"supporter\", \"suppose\", \"sure\", \"surprise\", \"survey\", \"suspend\", \"symptom\", \"syndrome\", \"syria\", \"syrian\", \"table\", \"taiwan\", \"taiwan\", \"take\", \"take\", \"take\", \"take\", \"take\", \"take\", \"talk\", \"talk\", \"tax\", \"taxis\", \"taxis\", \"teacher\", \"team\", \"team\", \"technology\", \"technology\", \"tehran\", \"tell\", \"tell\", \"tell\", \"ten\", \"terrorism\", \"test\", \"test\", \"test\", \"testing\", \"thailand\", \"thailand\", \"therefore\", \"thing\", \"thing\", \"think\", \"threat\", \"threat\", \"thursday\", \"thursday\", \"ticket\", \"ticket\", \"ticket\", \"tiger\", \"time\", \"time\", \"time\", \"time\", \"time\", \"time\", \"time\", \"time\", \"tokyo\", \"tom\", \"tom_hank\", \"ton\", \"tonight\", \"tour\", \"tour\", \"tower\", \"trading\", \"train\", \"transit\", \"transmit\", \"transport\", \"travel\", \"travel\", \"travel\", \"travel\", \"travel_ban\", \"traveler\", \"traveler\", \"traveller\", \"treasury\", \"treatment\", \"trial\", \"trip\", \"trip\", \"trip\", \"troop\", \"trump\", \"try\", \"try\", \"try\", \"tuesday\", \"tuesday\", \"turner\", \"twitt\", \"twitter\", \"uk\", \"uk\", \"uk\", \"ukraine\", \"uncertainty\", \"understand\", \"understand\", \"unemployment\", \"unemployment_rate\", \"united_nation\", \"united_state\", \"united_state\", \"united_state\", \"united_state\", \"united_states\", \"united_states\", \"united_states\", \"united_states\", \"united_states\", \"urgent\", \"uruguay\", \"usa\", \"usa\", \"use\", \"use\", \"use\", \"use\", \"use\", \"use\", \"user\", \"vaccination\", \"vaccine\", \"value\", \"venezuela\", \"victim\", \"victim\", \"victory\", \"video\", \"video\", \"vietnam\", \"virus\", \"visa\", \"visitor\", \"vote\", \"voter\", \"walk\", \"walk\", \"wall_street\", \"wall_street\", \"want\", \"war\", \"war\", \"war\", \"watch\", \"watch\", \"watch\", \"water\", \"water\", \"way\", \"way\", \"way\", \"way\", \"way\", \"website\", \"wedding\", \"wednesday\", \"wednesday\", \"week\", \"week\", \"week\", \"week\", \"week\", \"well\", \"well\", \"well\", \"well\", \"well\", \"west\", \"western\", \"white\", \"white\", \"white_house\", \"widely\", \"widely\", \"wife\", \"wife\", \"wife\", \"win\", \"win\", \"wish\", \"woman\", \"wong\", \"work\", \"work\", \"work\", \"work\", \"work\", \"work\", \"work\", \"work\", \"work\", \"worker\", \"worker\", \"worker\", \"worker\", \"world\", \"world\", \"world\", \"world\", \"world\", \"world\", \"worried\", \"would\", \"would\", \"would\", \"would\", \"write\", \"write\", \"writer\", \"wrong\", \"wrong\", \"wuhan\", \"www\", \"year\", \"year\", \"year\", \"year\", \"year\", \"year\", \"yield\", \"yield\", \"young\", \"youth\", \"youtube_video\"]}, \"R\": 30, \"lambda.step\": 0.01, \"plot.opts\": {\"xlab\": \"PC1\", \"ylab\": \"PC2\"}, \"topic.order\": [6, 1, 18, 12, 7, 16, 2, 4, 3, 15, 13, 14, 10, 17, 20, 5, 8, 9, 19, 11]};\n",
       "\n",
       "function LDAvis_load_lib(url, callback){\n",
       "  var s = document.createElement('script');\n",
       "  s.src = url;\n",
       "  s.async = true;\n",
       "  s.onreadystatechange = s.onload = callback;\n",
       "  s.onerror = function(){console.warn(\"failed to load library \" + url);};\n",
       "  document.getElementsByTagName(\"head\")[0].appendChild(s);\n",
       "}\n",
       "\n",
       "if(typeof(LDAvis) !== \"undefined\"){\n",
       "   // already loaded: just create the visualization\n",
       "   !function(LDAvis){\n",
       "       new LDAvis(\"#\" + \"ldavis_el8885622204761823441248356210\", ldavis_el8885622204761823441248356210_data);\n",
       "   }(LDAvis);\n",
       "}else if(typeof define === \"function\" && define.amd){\n",
       "   // require.js is available: use it to load d3/LDAvis\n",
       "   require.config({paths: {d3: \"https://cdnjs.cloudflare.com/ajax/libs/d3/3.5.5/d3.min\"}});\n",
       "   require([\"d3\"], function(d3){\n",
       "      window.d3 = d3;\n",
       "      LDAvis_load_lib(\"https://cdn.rawgit.com/bmabey/pyLDAvis/files/ldavis.v1.0.0.js\", function(){\n",
       "        new LDAvis(\"#\" + \"ldavis_el8885622204761823441248356210\", ldavis_el8885622204761823441248356210_data);\n",
       "      });\n",
       "    });\n",
       "}else{\n",
       "    // require.js not available: dynamically load d3 & LDAvis\n",
       "    LDAvis_load_lib(\"https://cdnjs.cloudflare.com/ajax/libs/d3/3.5.5/d3.min.js\", function(){\n",
       "         LDAvis_load_lib(\"https://cdn.rawgit.com/bmabey/pyLDAvis/files/ldavis.v1.0.0.js\", function(){\n",
       "                 new LDAvis(\"#\" + \"ldavis_el8885622204761823441248356210\", ldavis_el8885622204761823441248356210_data);\n",
       "            })\n",
       "         });\n",
       "}\n",
       "</script>"
      ],
      "text/plain": [
       "PreparedData(topic_coordinates=              x         y  topics  cluster       Freq\n",
       "topic                                                \n",
       "5     -0.299983  0.164514       1        1  26.926580\n",
       "0     -0.271075 -0.025845       2        1  11.249496\n",
       "17    -0.165053  0.235908       3        1  10.247264\n",
       "11    -0.279123  0.014641       4        1   9.815907\n",
       "6     -0.226775  0.008189       5        1   8.234020\n",
       "15    -0.191184  0.060513       6        1   7.448478\n",
       "1     -0.266030 -0.032538       7        1   7.355419\n",
       "3     -0.197317  0.013802       8        1   7.313837\n",
       "2     -0.136585 -0.263354       9        1   4.596408\n",
       "14    -0.050876 -0.320842      10        1   3.212100\n",
       "12     0.142873 -0.005061      11        1   0.750016\n",
       "13     0.137658 -0.008348      12        1   0.691838\n",
       "9      0.151320 -0.036464      13        1   0.580751\n",
       "16     0.182890  0.001879      14        1   0.477527\n",
       "19     0.223932  0.031686      15        1   0.377983\n",
       "4      0.217869  0.025946      16        1   0.291460\n",
       "7      0.256678  0.034761      17        1   0.148247\n",
       "8      0.245618  0.028862      18        1   0.136336\n",
       "18     0.256189  0.034674      19        1   0.104144\n",
       "10     0.268976  0.037076      20        1   0.042198, topic_info=                   Term          Freq         Total Category  logprob  loglift\n",
       "138               state  14957.000000  14957.000000  Default  30.0000  30.0000\n",
       "55           government  14377.000000  14377.000000  Default  29.0000  29.0000\n",
       "1197            politic  12302.000000  12302.000000  Default  28.0000  28.0000\n",
       "128                 say  43209.000000  43209.000000  Default  27.0000  27.0000\n",
       "1215              trump   7675.000000   7675.000000  Default  26.0000  26.0000\n",
       "...                 ...           ...           ...      ...      ...      ...\n",
       "6040               nasa      0.013394      1.051808  Topic20 -11.2029   3.4071\n",
       "8707   security_council      0.013393      1.051776  Topic20 -11.2029   3.4071\n",
       "5654               salt      0.013393      1.051795  Topic20 -11.2029   3.4071\n",
       "18090              gram      0.013393      1.051793  Topic20 -11.2029   3.4071\n",
       "24615      hide_caption      0.013393      1.051946  Topic20 -11.2029   3.4069\n",
       "\n",
       "[959 rows x 6 columns], token_table=      Topic      Freq           Term\n",
       "term                                \n",
       "2         1  0.023436         accord\n",
       "2         2  0.266835         accord\n",
       "2         4  0.416488         accord\n",
       "2         5  0.016660         accord\n",
       "2         6  0.073980         accord\n",
       "...     ...       ...            ...\n",
       "174       4  0.363687          yield\n",
       "174      16  0.623464          yield\n",
       "958       6  0.999625          young\n",
       "1566     18  0.989262          youth\n",
       "4134     17  0.659117  youtube_video\n",
       "\n",
       "[1429 rows x 3 columns], R=30, lambda_step=0.01, plot_opts={'xlab': 'PC1', 'ylab': 'PC2'}, topic_order=[6, 1, 18, 12, 7, 16, 2, 4, 3, 15, 13, 14, 10, 17, 20, 5, 8, 9, 19, 11])"
      ]
     },
     "execution_count": 20,
     "metadata": {},
     "output_type": "execute_result"
    }
   ],
   "source": [
    "# Visualize the topics\n",
    "pyLDAvis.enable_notebook()\n",
    "vis = pyLDAvis.gensim.prepare(lda_model, corpus, id2word)\n",
    "vis"
   ]
  },
  {
   "cell_type": "code",
   "execution_count": null,
   "metadata": {},
   "outputs": [],
   "source": []
  },
  {
   "cell_type": "markdown",
   "metadata": {},
   "source": [
    "# Classifier"
   ]
  },
  {
   "cell_type": "code",
   "execution_count": 104,
   "metadata": {},
   "outputs": [],
   "source": [
    "coll = []\n",
    "for i in corpus:\n",
    "    coll.append( list(sum(i, ())) )\n"
   ]
  },
  {
   "cell_type": "code",
   "execution_count": 162,
   "metadata": {},
   "outputs": [
    {
     "data": {
      "text/html": [
       "<div>\n",
       "<style scoped>\n",
       "    .dataframe tbody tr th:only-of-type {\n",
       "        vertical-align: middle;\n",
       "    }\n",
       "\n",
       "    .dataframe tbody tr th {\n",
       "        vertical-align: top;\n",
       "    }\n",
       "\n",
       "    .dataframe thead th {\n",
       "        text-align: right;\n",
       "    }\n",
       "</style>\n",
       "<table border=\"1\" class=\"dataframe\">\n",
       "  <thead>\n",
       "    <tr style=\"text-align: right;\">\n",
       "      <th></th>\n",
       "      <th>0</th>\n",
       "      <th>1</th>\n",
       "      <th>2</th>\n",
       "      <th>3</th>\n",
       "      <th>4</th>\n",
       "      <th>5</th>\n",
       "      <th>6</th>\n",
       "      <th>7</th>\n",
       "      <th>8</th>\n",
       "      <th>9</th>\n",
       "      <th>...</th>\n",
       "      <th>4598</th>\n",
       "      <th>4599</th>\n",
       "      <th>4600</th>\n",
       "      <th>4601</th>\n",
       "      <th>4602</th>\n",
       "      <th>4603</th>\n",
       "      <th>4604</th>\n",
       "      <th>4605</th>\n",
       "      <th>4606</th>\n",
       "      <th>4607</th>\n",
       "    </tr>\n",
       "  </thead>\n",
       "  <tbody>\n",
       "    <tr>\n",
       "      <th>0</th>\n",
       "      <td>0</td>\n",
       "      <td>1</td>\n",
       "      <td>1.0</td>\n",
       "      <td>1.0</td>\n",
       "      <td>2.0</td>\n",
       "      <td>1.0</td>\n",
       "      <td>3.0</td>\n",
       "      <td>1.0</td>\n",
       "      <td>4.0</td>\n",
       "      <td>1.0</td>\n",
       "      <td>...</td>\n",
       "      <td>0.0</td>\n",
       "      <td>0.0</td>\n",
       "      <td>0.0</td>\n",
       "      <td>0.0</td>\n",
       "      <td>0.0</td>\n",
       "      <td>0.0</td>\n",
       "      <td>0.0</td>\n",
       "      <td>0.0</td>\n",
       "      <td>0.0</td>\n",
       "      <td>0.0</td>\n",
       "    </tr>\n",
       "    <tr>\n",
       "      <th>1</th>\n",
       "      <td>3</td>\n",
       "      <td>1</td>\n",
       "      <td>5.0</td>\n",
       "      <td>1.0</td>\n",
       "      <td>11.0</td>\n",
       "      <td>1.0</td>\n",
       "      <td>15.0</td>\n",
       "      <td>1.0</td>\n",
       "      <td>18.0</td>\n",
       "      <td>1.0</td>\n",
       "      <td>...</td>\n",
       "      <td>0.0</td>\n",
       "      <td>0.0</td>\n",
       "      <td>0.0</td>\n",
       "      <td>0.0</td>\n",
       "      <td>0.0</td>\n",
       "      <td>0.0</td>\n",
       "      <td>0.0</td>\n",
       "      <td>0.0</td>\n",
       "      <td>0.0</td>\n",
       "      <td>0.0</td>\n",
       "    </tr>\n",
       "    <tr>\n",
       "      <th>2</th>\n",
       "      <td>3</td>\n",
       "      <td>1</td>\n",
       "      <td>6.0</td>\n",
       "      <td>1.0</td>\n",
       "      <td>7.0</td>\n",
       "      <td>1.0</td>\n",
       "      <td>18.0</td>\n",
       "      <td>1.0</td>\n",
       "      <td>37.0</td>\n",
       "      <td>1.0</td>\n",
       "      <td>...</td>\n",
       "      <td>0.0</td>\n",
       "      <td>0.0</td>\n",
       "      <td>0.0</td>\n",
       "      <td>0.0</td>\n",
       "      <td>0.0</td>\n",
       "      <td>0.0</td>\n",
       "      <td>0.0</td>\n",
       "      <td>0.0</td>\n",
       "      <td>0.0</td>\n",
       "      <td>0.0</td>\n",
       "    </tr>\n",
       "    <tr>\n",
       "      <th>3</th>\n",
       "      <td>5</td>\n",
       "      <td>2</td>\n",
       "      <td>7.0</td>\n",
       "      <td>1.0</td>\n",
       "      <td>11.0</td>\n",
       "      <td>1.0</td>\n",
       "      <td>13.0</td>\n",
       "      <td>1.0</td>\n",
       "      <td>27.0</td>\n",
       "      <td>2.0</td>\n",
       "      <td>...</td>\n",
       "      <td>0.0</td>\n",
       "      <td>0.0</td>\n",
       "      <td>0.0</td>\n",
       "      <td>0.0</td>\n",
       "      <td>0.0</td>\n",
       "      <td>0.0</td>\n",
       "      <td>0.0</td>\n",
       "      <td>0.0</td>\n",
       "      <td>0.0</td>\n",
       "      <td>0.0</td>\n",
       "    </tr>\n",
       "    <tr>\n",
       "      <th>4</th>\n",
       "      <td>2</td>\n",
       "      <td>1</td>\n",
       "      <td>3.0</td>\n",
       "      <td>1.0</td>\n",
       "      <td>7.0</td>\n",
       "      <td>1.0</td>\n",
       "      <td>11.0</td>\n",
       "      <td>1.0</td>\n",
       "      <td>14.0</td>\n",
       "      <td>2.0</td>\n",
       "      <td>...</td>\n",
       "      <td>0.0</td>\n",
       "      <td>0.0</td>\n",
       "      <td>0.0</td>\n",
       "      <td>0.0</td>\n",
       "      <td>0.0</td>\n",
       "      <td>0.0</td>\n",
       "      <td>0.0</td>\n",
       "      <td>0.0</td>\n",
       "      <td>0.0</td>\n",
       "      <td>0.0</td>\n",
       "    </tr>\n",
       "    <tr>\n",
       "      <th>...</th>\n",
       "      <td>...</td>\n",
       "      <td>...</td>\n",
       "      <td>...</td>\n",
       "      <td>...</td>\n",
       "      <td>...</td>\n",
       "      <td>...</td>\n",
       "      <td>...</td>\n",
       "      <td>...</td>\n",
       "      <td>...</td>\n",
       "      <td>...</td>\n",
       "      <td>...</td>\n",
       "      <td>...</td>\n",
       "      <td>...</td>\n",
       "      <td>...</td>\n",
       "      <td>...</td>\n",
       "      <td>...</td>\n",
       "      <td>...</td>\n",
       "      <td>...</td>\n",
       "      <td>...</td>\n",
       "      <td>...</td>\n",
       "      <td>...</td>\n",
       "    </tr>\n",
       "    <tr>\n",
       "      <th>9589</th>\n",
       "      <td>18</td>\n",
       "      <td>1</td>\n",
       "      <td>19.0</td>\n",
       "      <td>2.0</td>\n",
       "      <td>26.0</td>\n",
       "      <td>1.0</td>\n",
       "      <td>51.0</td>\n",
       "      <td>6.0</td>\n",
       "      <td>56.0</td>\n",
       "      <td>2.0</td>\n",
       "      <td>...</td>\n",
       "      <td>0.0</td>\n",
       "      <td>0.0</td>\n",
       "      <td>0.0</td>\n",
       "      <td>0.0</td>\n",
       "      <td>0.0</td>\n",
       "      <td>0.0</td>\n",
       "      <td>0.0</td>\n",
       "      <td>0.0</td>\n",
       "      <td>0.0</td>\n",
       "      <td>0.0</td>\n",
       "    </tr>\n",
       "    <tr>\n",
       "      <th>9590</th>\n",
       "      <td>0</td>\n",
       "      <td>4</td>\n",
       "      <td>7.0</td>\n",
       "      <td>4.0</td>\n",
       "      <td>31.0</td>\n",
       "      <td>1.0</td>\n",
       "      <td>51.0</td>\n",
       "      <td>1.0</td>\n",
       "      <td>56.0</td>\n",
       "      <td>1.0</td>\n",
       "      <td>...</td>\n",
       "      <td>0.0</td>\n",
       "      <td>0.0</td>\n",
       "      <td>0.0</td>\n",
       "      <td>0.0</td>\n",
       "      <td>0.0</td>\n",
       "      <td>0.0</td>\n",
       "      <td>0.0</td>\n",
       "      <td>0.0</td>\n",
       "      <td>0.0</td>\n",
       "      <td>0.0</td>\n",
       "    </tr>\n",
       "    <tr>\n",
       "      <th>9591</th>\n",
       "      <td>27</td>\n",
       "      <td>1</td>\n",
       "      <td>30.0</td>\n",
       "      <td>2.0</td>\n",
       "      <td>61.0</td>\n",
       "      <td>4.0</td>\n",
       "      <td>90.0</td>\n",
       "      <td>1.0</td>\n",
       "      <td>94.0</td>\n",
       "      <td>1.0</td>\n",
       "      <td>...</td>\n",
       "      <td>0.0</td>\n",
       "      <td>0.0</td>\n",
       "      <td>0.0</td>\n",
       "      <td>0.0</td>\n",
       "      <td>0.0</td>\n",
       "      <td>0.0</td>\n",
       "      <td>0.0</td>\n",
       "      <td>0.0</td>\n",
       "      <td>0.0</td>\n",
       "      <td>0.0</td>\n",
       "    </tr>\n",
       "    <tr>\n",
       "      <th>9592</th>\n",
       "      <td>7</td>\n",
       "      <td>13</td>\n",
       "      <td>11.0</td>\n",
       "      <td>1.0</td>\n",
       "      <td>29.0</td>\n",
       "      <td>1.0</td>\n",
       "      <td>51.0</td>\n",
       "      <td>2.0</td>\n",
       "      <td>58.0</td>\n",
       "      <td>1.0</td>\n",
       "      <td>...</td>\n",
       "      <td>0.0</td>\n",
       "      <td>0.0</td>\n",
       "      <td>0.0</td>\n",
       "      <td>0.0</td>\n",
       "      <td>0.0</td>\n",
       "      <td>0.0</td>\n",
       "      <td>0.0</td>\n",
       "      <td>0.0</td>\n",
       "      <td>0.0</td>\n",
       "      <td>0.0</td>\n",
       "    </tr>\n",
       "    <tr>\n",
       "      <th>9593</th>\n",
       "      <td>7</td>\n",
       "      <td>9</td>\n",
       "      <td>16.0</td>\n",
       "      <td>1.0</td>\n",
       "      <td>51.0</td>\n",
       "      <td>4.0</td>\n",
       "      <td>59.0</td>\n",
       "      <td>2.0</td>\n",
       "      <td>66.0</td>\n",
       "      <td>1.0</td>\n",
       "      <td>...</td>\n",
       "      <td>0.0</td>\n",
       "      <td>0.0</td>\n",
       "      <td>0.0</td>\n",
       "      <td>0.0</td>\n",
       "      <td>0.0</td>\n",
       "      <td>0.0</td>\n",
       "      <td>0.0</td>\n",
       "      <td>0.0</td>\n",
       "      <td>0.0</td>\n",
       "      <td>0.0</td>\n",
       "    </tr>\n",
       "  </tbody>\n",
       "</table>\n",
       "<p>9594 rows × 4608 columns</p>\n",
       "</div>"
      ],
      "text/plain": [
       "      0     1     2     3     4     5     6     7     8     9     ...  4598  \\\n",
       "0        0     1   1.0   1.0   2.0   1.0   3.0   1.0   4.0   1.0  ...   0.0   \n",
       "1        3     1   5.0   1.0  11.0   1.0  15.0   1.0  18.0   1.0  ...   0.0   \n",
       "2        3     1   6.0   1.0   7.0   1.0  18.0   1.0  37.0   1.0  ...   0.0   \n",
       "3        5     2   7.0   1.0  11.0   1.0  13.0   1.0  27.0   2.0  ...   0.0   \n",
       "4        2     1   3.0   1.0   7.0   1.0  11.0   1.0  14.0   2.0  ...   0.0   \n",
       "...    ...   ...   ...   ...   ...   ...   ...   ...   ...   ...  ...   ...   \n",
       "9589    18     1  19.0   2.0  26.0   1.0  51.0   6.0  56.0   2.0  ...   0.0   \n",
       "9590     0     4   7.0   4.0  31.0   1.0  51.0   1.0  56.0   1.0  ...   0.0   \n",
       "9591    27     1  30.0   2.0  61.0   4.0  90.0   1.0  94.0   1.0  ...   0.0   \n",
       "9592     7    13  11.0   1.0  29.0   1.0  51.0   2.0  58.0   1.0  ...   0.0   \n",
       "9593     7     9  16.0   1.0  51.0   4.0  59.0   2.0  66.0   1.0  ...   0.0   \n",
       "\n",
       "      4599  4600  4601  4602  4603  4604  4605  4606  4607  \n",
       "0      0.0   0.0   0.0   0.0   0.0   0.0   0.0   0.0   0.0  \n",
       "1      0.0   0.0   0.0   0.0   0.0   0.0   0.0   0.0   0.0  \n",
       "2      0.0   0.0   0.0   0.0   0.0   0.0   0.0   0.0   0.0  \n",
       "3      0.0   0.0   0.0   0.0   0.0   0.0   0.0   0.0   0.0  \n",
       "4      0.0   0.0   0.0   0.0   0.0   0.0   0.0   0.0   0.0  \n",
       "...    ...   ...   ...   ...   ...   ...   ...   ...   ...  \n",
       "9589   0.0   0.0   0.0   0.0   0.0   0.0   0.0   0.0   0.0  \n",
       "9590   0.0   0.0   0.0   0.0   0.0   0.0   0.0   0.0   0.0  \n",
       "9591   0.0   0.0   0.0   0.0   0.0   0.0   0.0   0.0   0.0  \n",
       "9592   0.0   0.0   0.0   0.0   0.0   0.0   0.0   0.0   0.0  \n",
       "9593   0.0   0.0   0.0   0.0   0.0   0.0   0.0   0.0   0.0  \n",
       "\n",
       "[9594 rows x 4608 columns]"
      ]
     },
     "execution_count": 162,
     "metadata": {},
     "output_type": "execute_result"
    }
   ],
   "source": [
    "collapsed = pd.DataFrame(coll)\n",
    "collapsed.fillna(0)"
   ]
  },
  {
   "cell_type": "code",
   "execution_count": 245,
   "metadata": {},
   "outputs": [],
   "source": [
    "import numpy as np\n",
    "import pandas as pd \n",
    "from sklearn import metrics\n",
    "from sklearn.ensemble import RandomForestClassifier\n",
    "import nltk\n",
    "from sklearn.feature_extraction.text import TfidfVectorizer\n",
    "from sklearn.metrics import accuracy_score, f1_score\n",
    "from sklearn import metrics\n",
    "\n",
    "from sklearn.model_selection import train_test_split\n",
    "from sklearn.tree import DecisionTreeClassifier\n",
    "from sklearn.linear_model import LogisticRegression\n",
    "from sklearn.metrics import f1_score\n",
    "from sklearn.metrics import confusion_matrix\n",
    "\n",
    "from yellowbrick.classifier import ClassPredictionError\n",
    "from sklearn.metrics import classification_report\n",
    "\n",
    "from sklearn.metrics import recall_score\n",
    "from sklearn.metrics import precision_score\n",
    "\n",
    "import matplotlib.pyplot as plt\n",
    "from matplotlib.ticker import NullFormatter, FixedLocator\n",
    "import matplotlib\n",
    "from sklearn.naive_bayes import GaussianNB\n"
   ]
  },
  {
   "cell_type": "code",
   "execution_count": 248,
   "metadata": {},
   "outputs": [],
   "source": [
    "def classify(data, label):\n",
    "            \n",
    "    \n",
    "    X_train, X_test, y_train, y_test = train_test_split(data, label, stratify = label, test_size = 0.2, random_state = 1234)\n",
    "    \n",
    "    clf = RandomForestClassifier(random_state=1234,n_estimators=150,n_jobs=-1)\n",
    "    #clf = LogisticRegression(solver = 'lbfgs', multi_class='auto')\n",
    "#     clf = GaussianNB()\n",
    "\n",
    "    \n",
    "#     v = TfidfVectorizer()\n",
    "    \n",
    "    train_corpus = X_train\n",
    "#     train_corpus = [[word.lower() for word in text.split()] for text in data]\n",
    "#     test_corpus = [\" \".join(x) for x in train_corpus]\n",
    "\n",
    "\n",
    "    test_corpus = X_test\n",
    "#     test_corpus = [\" \".join(x) for x in test_corpus]\n",
    "\n",
    "#     ax = axes.set_ylim([0,300])\n",
    "#     train_vector = v.fit_transform(train_corpus)\n",
    "#     test_vector = v.transform(test_corpus)\n",
    "    \n",
    "    fit = clf.fit(train_corpus,y_train)\n",
    "    pred = clf.predict(test_corpus)\n",
    "    \n",
    "    # Instantiate the classification model and visualizer\n",
    "    visualizer = ClassPredictionError(clf, classes= ['human', 'ctrl', 'gpt', 'gpt2', 'grover', 'xlm', 'xlnet', 'pplm', 'fair'])\n",
    "\n",
    "    # Fit the training data to the visualizer\n",
    "    visualizer.fit(train_corpus, y_train)\n",
    "\n",
    "    # Evaluate the model on the test data\n",
    "    visualizer.score(test_corpus, y_test)\n",
    "\n",
    "    # Draw visualization\n",
    "    visualizer.show()\n",
    "    \n",
    "    \n",
    "    matrix = confusion_matrix(y_test, pred, labels = ['ctrl', 'gpt', 'gpt2', 'grover', 'xlm', 'xlnet', 'pplm', 'human', 'fair'])\n",
    "    mat = matrix.diagonal()/matrix.sum(axis=1)\n",
    "    print(classification_report(y_test, pred, labels = ['ctrl', 'gpt', 'gpt2', 'grover','xlm', 'xlnet', 'pplm', 'human', 'fair'], digits=4))\n",
    "    print('confusion matrix: ', mat)\n",
    "    \n",
    "    Accuracy = accuracy_score(y_test,pred)\n",
    "    F1 = f1_score(y_test, pred, average='macro')\n",
    "    print(\"Accuracy:\", Accuracy)\n",
    "    \n",
    "    rec = recall_score(y_test, pred, average='macro')\n",
    "    print('Recall: ', rec)\n",
    "    prec = precision_score(y_test, pred, average='macro')\n",
    "    print('Precision: ', prec)\n",
    "    \n",
    "    print('F1:', F1)\n",
    "    \n",
    "    return clf"
   ]
  },
  {
   "cell_type": "code",
   "execution_count": 249,
   "metadata": {},
   "outputs": [
    {
     "name": "stderr",
     "output_type": "stream",
     "text": [
      "C:\\Users\\Adaku\\Anaconda3\\lib\\site-packages\\sklearn\\base.py:197: FutureWarning: From version 0.24, get_params will raise an AttributeError if a parameter cannot be retrieved as an instance attribute. Previously it would return None.\n",
      "  FutureWarning)\n"
     ]
    },
    {
     "data": {
      "image/png": "[encoded data removed]",
      "text/plain": [
       "<Figure size 576x396 with 1 Axes>"
      ]
     },
     "metadata": {},
     "output_type": "display_data"
    },
    {
     "name": "stdout",
     "output_type": "stream",
     "text": [
      "              precision    recall  f1-score   support\n",
      "\n",
      "        ctrl     0.8911    0.8451    0.8675       213\n",
      "         gpt     0.8017    0.9108    0.8527       213\n",
      "        gpt2     0.5776    0.7477    0.6517       214\n",
      "      grover     0.6359    0.5822    0.6078       213\n",
      "         xlm     0.9041    0.9296    0.9167       213\n",
      "       xlnet     0.7839    0.7324    0.7573       213\n",
      "        pplm     0.5613    0.4065    0.4715       214\n",
      "       human     0.8305    0.6901    0.7538       213\n",
      "        fair     0.5731    0.6808    0.6223       213\n",
      "\n",
      "    accuracy                         0.7249      1919\n",
      "   macro avg     0.7288    0.7250    0.7224      1919\n",
      "weighted avg     0.7286    0.7249    0.7222      1919\n",
      "\n",
      "confusion matrix:  [0.84507042 0.91079812 0.74766355 0.58215962 0.92957746 0.73239437\n",
      " 0.40654206 0.69014085 0.68075117]\n",
      "Accuracy: 0.7248566961959354\n",
      "Recall:  0.7250108473617753\n",
      "Precision:  0.7288008088580441\n",
      "F1: 0.7223831240378793\n"
     ]
    },
    {
     "data": {
      "text/plain": [
       "RandomForestClassifier(bootstrap=True, ccp_alpha=0.0, class_weight=None,\n",
       "                       criterion='gini', max_depth=None, max_features='auto',\n",
       "                       max_leaf_nodes=None, max_samples=None,\n",
       "                       min_impurity_decrease=0.0, min_impurity_split=None,\n",
       "                       min_samples_leaf=1, min_samples_split=2,\n",
       "                       min_weight_fraction_leaf=0.0, n_estimators=150,\n",
       "                       n_jobs=-1, oob_score=False, random_state=1234, verbose=0,\n",
       "                       warm_start=False)"
      ]
     },
     "execution_count": 249,
     "metadata": {},
     "output_type": "execute_result"
    }
   ],
   "source": [
    "classify(data = collapsed.fillna(0), label=data['class'])"
   ]
  },
  {
   "cell_type": "code",
   "execution_count": 247,
   "metadata": {},
   "outputs": [
    {
     "name": "stderr",
     "output_type": "stream",
     "text": [
      "C:\\Users\\Adaku\\Anaconda3\\lib\\site-packages\\sklearn\\base.py:197: FutureWarning: From version 0.24, get_params will raise an AttributeError if a parameter cannot be retrieved as an instance attribute. Previously it would return None.\n",
      "  FutureWarning)\n"
     ]
    },
    {
     "data": {
      "image/png": "[encoded data removed]",
      "text/plain": [
       "<Figure size 576x396 with 1 Axes>"
      ]
     },
     "metadata": {},
     "output_type": "display_data"
    },
    {
     "name": "stdout",
     "output_type": "stream",
     "text": [
      "              precision    recall  f1-score   support\n",
      "\n",
      "        ctrl     0.4663    0.3568    0.4043       213\n",
      "         gpt     0.4843    0.9390    0.6390       213\n",
      "        gpt2     0.3250    0.0607    0.1024       214\n",
      "      grover     0.2500    0.0141    0.0267       213\n",
      "         xlm     0.7891    0.5446    0.6444       213\n",
      "       xlnet     0.4526    0.4930    0.4719       213\n",
      "        pplm     0.3371    0.2804    0.3061       214\n",
      "       human     0.9608    0.2300    0.3712       213\n",
      "        fair     0.2870    0.9202    0.4375       213\n",
      "\n",
      "    accuracy                         0.4263      1919\n",
      "   macro avg     0.4836    0.4265    0.3782      1919\n",
      "weighted avg     0.4834    0.4263    0.3780      1919\n",
      "\n",
      "confusion matrix:  [0.35680751 0.93896714 0.06074766 0.01408451 0.54460094 0.49295775\n",
      " 0.28037383 0.23004695 0.92018779]\n",
      "Accuracy: 0.42626367899947887\n",
      "Recall:  0.42653045305408077\n",
      "Precision:  0.48356147130917093\n",
      "F1: 0.37816121703538536\n"
     ]
    },
    {
     "data": {
      "text/plain": [
       "GaussianNB(priors=None, var_smoothing=1e-09)"
      ]
     },
     "execution_count": 247,
     "metadata": {},
     "output_type": "execute_result"
    }
   ],
   "source": [
    "classify(data = collapsed.fillna(0), label=data['class'])"
   ]
  },
  {
   "cell_type": "code",
   "execution_count": null,
   "metadata": {},
   "outputs": [],
   "source": []
  },
  {
   "cell_type": "markdown",
   "metadata": {},
   "source": [
    "# Keywords"
   ]
  },
  {
   "cell_type": "code",
   "execution_count": 170,
   "metadata": {},
   "outputs": [],
   "source": [
    "from rake_nltk import Rake\n",
    "import operator\n",
    "from sklearn.naive_bayes import GaussianNB\n",
    "\n"
   ]
  },
  {
   "cell_type": "code",
   "execution_count": 178,
   "metadata": {},
   "outputs": [],
   "source": [
    "r = Rake() # Uses stopwords for english from NLTK, and all puntuation characters.\n",
    "\n",
    "keywords = []\n",
    "for i in data['text']:\n",
    "    r.extract_keywords_from_text(i)\n",
    "    keywords.append(r.get_ranked_phrases())\n",
    "    "
   ]
  },
  {
   "cell_type": "code",
   "execution_count": 184,
   "metadata": {},
   "outputs": [
    {
     "data": {
      "text/plain": [
       "[['2009 sunday 22 le 20 november 26 h e cest un el 19 december 12 mar 2004 au 24 2001',\n",
       "  'top city official warns american express newspaper le monde today article reporting wednesday may 16 march 16',\n",
       "  '2 la primera ber c en lundi g uire sd paris anl nterme',\n",
       "  'government says public reaction seems like saying government response appears slow',\n",
       "  '2006 national security council release du 23 january 22',\n",
       "  'scientists report finding signs pointing toward emergence next week',\n",
       "  '2005 los angeles et al qaeda 17 september 23',\n",
       "  'bloomberg reports swine flu crisis shows two days ago',\n",
       "  'reported yesterday morning us govt ts de la',\n",
       "  'years ago among pigs carrying highly contagious virus',\n",
       "  'help stop spreading quickly enough time frame',\n",
       "  'either one way -- another case confirms',\n",
       "  'still investigating whether anyone else may',\n",
       "  'unusual strain called sars could spread',\n",
       "  'sides seem intent upon taking advantage',\n",
       "  'health said tests showed evidence suggesting',\n",
       "  'action might delay even worse problems',\n",
       "  'recently found near shanghai zoo',\n",
       "  'mar pretty fast enough',\n",
       "  '2002 united states february 18',\n",
       "  'beijing would probably try hard',\n",
       "  'significant outbreak within days',\n",
       "  'france 18 april 11',\n",
       "  'much attention focused elsewhere',\n",
       "  'causing disease known locally',\n",
       "  'front page dept column',\n",
       "  'word spreads across china',\n",
       "  'told reporters today',\n",
       "  'three weeks ago',\n",
       "  '2008 feb 17',\n",
       "  'health officials say',\n",
       "  'officials say virus',\n",
       "  'page b6 .]',\n",
       "  'page a8 .]',\n",
       "  'addition today',\n",
       "  'possible pandemic threat',\n",
       "  'news media coverage',\n",
       "  'louis times london',\n",
       "  'least 21 people',\n",
       "  'either way',\n",
       "  'conclusive proof supports',\n",
       "  'better late rather',\n",
       "  'aillez bre ment',\n",
       "  '2003 june 25',\n",
       "  'new york post',\n",
       "  'outside asia know',\n",
       "  'dr world briefing',\n",
       "  'spreading fast',\n",
       "  'new action',\n",
       "  'makes beijing',\n",
       "  'coronavirus outbreak',\n",
       "  'china wants',\n",
       "  'wu jianmin',\n",
       "  'virus',\n",
       "  'victory lap',\n",
       "  'version read',\n",
       "  'traveled abroad',\n",
       "  'total ban',\n",
       "  'something happen',\n",
       "  'properly treated',\n",
       "  'others think',\n",
       "  'many suspect',\n",
       "  'likely turn',\n",
       "  'last month',\n",
       "  'includes guangzhou',\n",
       "  'hong kong',\n",
       "  'guangdong province',\n",
       "  'first detected',\n",
       "  'experts believe',\n",
       "  'director general',\n",
       "  'country remains',\n",
       "  'chinese citizens',\n",
       "  'authorities struggle',\n",
       "  'allen st',\n",
       "  'added later',\n",
       "  '000 since',\n",
       "  'even',\n",
       "  'elaine l',\n",
       "  'china',\n",
       "  'dr',\n",
       "  'asia',\n",
       "  'l',\n",
       "  'working',\n",
       "  'want',\n",
       "  'treatment',\n",
       "  'travel',\n",
       "  'tl',\n",
       "  'territory',\n",
       "  'telephone',\n",
       "  'take',\n",
       "  'rushing',\n",
       "  'reuters',\n",
       "  'prepared',\n",
       "  'predictable',\n",
       "  'photos',\n",
       "  'photo',\n",
       "  'nyt',\n",
       "  'notice',\n",
       "  'never',\n",
       "  'ministry',\n",
       "  'matter',\n",
       "  'killed',\n",
       "  'issue',\n",
       "  'infected',\n",
       "  'humans',\n",
       "  'handling',\n",
       "  'expected',\n",
       "  'excerpts',\n",
       "  'doctors',\n",
       "  'decision',\n",
       "  'careas',\n",
       "  'believed',\n",
       "  'ap',\n",
       "  'ahead',\n",
       "  ':.',\n",
       "  '2007',\n",
       "  '1',\n",
       "  ')/']]"
      ]
     },
     "execution_count": 184,
     "metadata": {},
     "output_type": "execute_result"
    }
   ],
   "source": [
    "keywords[1:2]"
   ]
  },
  {
   "cell_type": "code",
   "execution_count": 243,
   "metadata": {},
   "outputs": [],
   "source": [
    "def classify(data, label):\n",
    "    \n",
    "\n",
    "    X_train, X_test, y_train, y_test = train_test_split(data, label, stratify = label, test_size = 0.2, random_state = 1234)\n",
    "    \n",
    "#     clf = RandomForestClassifier(random_state=1234,n_estimators=150,n_jobs=-1)\n",
    "    clf = LogisticRegression(solver = 'lbfgs', multi_class='auto')\n",
    "    \n",
    "    v = TfidfVectorizer()\n",
    "    \n",
    "    train_corpus = X_train\n",
    "#     train_corpus = [[word.lower() for word in text.split()] for text in train_corpus]\n",
    "    train_corpus = [\" \".join(x) for x in train_corpus]\n",
    "\n",
    "\n",
    "    test_corpus = X_test\n",
    "    test_corpus = [\" \".join(x) for x in test_corpus]\n",
    "\n",
    "#     ax = axes.set_ylim([0,300])\n",
    "    train_corpus = v.fit_transform(train_corpus)\n",
    "    test_corpus = v.transform(test_corpus)\n",
    "    \n",
    "    fit = clf.fit(train_corpus,y_train)\n",
    "    pred = clf.predict(test_corpus)\n",
    "    \n",
    "    # Instantiate the classification model and visualizer\n",
    "    visualizer = ClassPredictionError(clf, classes= ['human', 'ctrl', 'gpt', 'gpt2', 'grover', 'xlm', 'xlnet', 'pplm', 'fair'])\n",
    "\n",
    "    # Fit the training data to the visualizer\n",
    "    visualizer.fit(train_corpus, y_train)\n",
    "\n",
    "    # Evaluate the model on the test data\n",
    "    visualizer.score(test_corpus, y_test)\n",
    "\n",
    "    # Draw visualization\n",
    "    visualizer.show()\n",
    "    \n",
    "    \n",
    "    matrix = confusion_matrix(y_test, pred, labels = ['ctrl', 'gpt', 'gpt2', 'grover', 'xlm', 'xlnet', 'pplm', 'human', 'fair'])\n",
    "    mat = matrix.diagonal()/matrix.sum(axis=1)\n",
    "    print(classification_report(y_test, pred, labels = ['ctrl', 'gpt', 'gpt2', 'grover','xlm', 'xlnet', 'pplm', 'human', 'fair'], digits=4))\n",
    "    print('confusion matrix: ', mat)\n",
    "    \n",
    "    Accuracy = accuracy_score(y_test,pred)\n",
    "    F1 = f1_score(y_test, pred, average='macro')\n",
    "    print(\"Accuracy:\", Accuracy)\n",
    "    \n",
    "    rec = recall_score(y_test, pred, average='macro')\n",
    "    print('Recall: ', rec)\n",
    "    prec = precision_score(y_test, pred, average='macro')\n",
    "    print('Precision: ', prec)\n",
    "    \n",
    "    print('F1:', F1)\n",
    "    \n",
    "    return clf, v"
   ]
  },
  {
   "cell_type": "code",
   "execution_count": 200,
   "metadata": {},
   "outputs": [],
   "source": [
    "liwc = pd.read_csv('C:\\\\Users\\\\Adaku\\\\OneDrive - UMBC\\\\Authorship Attribution\\\\Clean_Generated\\\\Stylistic\\\\LIWC2015 Results.csv')\n",
    "uid = pd.read_csv('C:\\\\Users\\\\Adaku\\\\OneDrive - UMBC\\\\Authorship Attribution\\\\Clean_Generated\\\\Stylistic\\\\UID.csv')"
   ]
  },
  {
   "cell_type": "code",
   "execution_count": 201,
   "metadata": {},
   "outputs": [],
   "source": [
    "liwc = liwc.drop(columns = ['A', 'B', 'C'])\n",
    "uid = uid.drop(columns = 'Text', axis=0)"
   ]
  },
  {
   "cell_type": "code",
   "execution_count": 202,
   "metadata": {},
   "outputs": [],
   "source": [
    "combine = pd.concat([uid, liwc], axis=1, sort=True)\n",
    "combine = combine.drop(columns =  ['Unnamed: 0'])"
   ]
  },
  {
   "cell_type": "code",
   "execution_count": 203,
   "metadata": {},
   "outputs": [],
   "source": [
    "label = []\n",
    "\n",
    "for i in combine['Filename']:\n",
    "    if i == 'new_ctrl.csv':\n",
    "        label.append('ctrl')\n",
    "    elif i == 'new_gpt.csv':\n",
    "        label.append('gpt')\n",
    "    elif i == 'new_gpt2.csv':\n",
    "        label.append('gpt2')\n",
    "    elif i == 'new_grover.csv':\n",
    "        label.append('grover')\n",
    "    elif i == 'new_xlm.csv':\n",
    "        label.append('xlm')\n",
    "    elif i == 'new_xlnet.csv':\n",
    "        label.append('xlnet')\n",
    "    elif i == 'new_pplm.csv':\n",
    "        label.append('pplm')\n",
    "    elif i == 'new_human.csv':\n",
    "        label.append('human')\n",
    "    elif i == 'new_fair.csv':\n",
    "        label.append('fair')"
   ]
  },
  {
   "cell_type": "code",
   "execution_count": 204,
   "metadata": {},
   "outputs": [],
   "source": [
    "Filename = combine['Filename']\n",
    "combine = combine.drop(columns =  ['Filename'])"
   ]
  },
  {
   "cell_type": "code",
   "execution_count": 221,
   "metadata": {},
   "outputs": [],
   "source": [
    "new_keywords = []\n",
    "\n",
    "for i in keywords:\n",
    "    new_keywords.append(\" \".join(i))"
   ]
  },
  {
   "cell_type": "code",
   "execution_count": 224,
   "metadata": {},
   "outputs": [],
   "source": [
    "combine['keywords'] = new_keywords"
   ]
  },
  {
   "cell_type": "code",
   "execution_count": 225,
   "metadata": {},
   "outputs": [
    {
     "data": {
      "text/html": [
       "<div>\n",
       "<style scoped>\n",
       "    .dataframe tbody tr th:only-of-type {\n",
       "        vertical-align: middle;\n",
       "    }\n",
       "\n",
       "    .dataframe tbody tr th {\n",
       "        vertical-align: top;\n",
       "    }\n",
       "\n",
       "    .dataframe thead th {\n",
       "        text-align: right;\n",
       "    }\n",
       "</style>\n",
       "<table border=\"1\" class=\"dataframe\">\n",
       "  <thead>\n",
       "    <tr style=\"text-align: right;\">\n",
       "      <th></th>\n",
       "      <th>UID</th>\n",
       "      <th>Flesch Reading Ease</th>\n",
       "      <th>Flesch-Kincaid</th>\n",
       "      <th>Fog Scale</th>\n",
       "      <th>SMOG Index</th>\n",
       "      <th>Automated Readability Index</th>\n",
       "      <th>Coleman-Liau Index</th>\n",
       "      <th>Linsear Write Formula</th>\n",
       "      <th>Dale-Chall Readability Score</th>\n",
       "      <th>WC</th>\n",
       "      <th>...</th>\n",
       "      <th>Colon</th>\n",
       "      <th>SemiC</th>\n",
       "      <th>QMark</th>\n",
       "      <th>Exclam</th>\n",
       "      <th>Dash</th>\n",
       "      <th>Quote</th>\n",
       "      <th>Apostro</th>\n",
       "      <th>Parenth</th>\n",
       "      <th>OtherP</th>\n",
       "      <th>keywords</th>\n",
       "    </tr>\n",
       "  </thead>\n",
       "  <tbody>\n",
       "    <tr>\n",
       "      <th>0</th>\n",
       "      <td>9.0</td>\n",
       "      <td>45.172917</td>\n",
       "      <td>11.845833</td>\n",
       "      <td>12.394583</td>\n",
       "      <td>0.0</td>\n",
       "      <td>14.341667</td>\n",
       "      <td>14.3775</td>\n",
       "      <td>12.375</td>\n",
       "      <td>8.346667</td>\n",
       "      <td>475</td>\n",
       "      <td>...</td>\n",
       "      <td>0.21</td>\n",
       "      <td>0.21</td>\n",
       "      <td>0.42</td>\n",
       "      <td>0.21</td>\n",
       "      <td>0.21</td>\n",
       "      <td>1.05</td>\n",
       "      <td>0.84</td>\n",
       "      <td>0.42</td>\n",
       "      <td>0.21</td>\n",
       "      <td>friend called ms word office pc 8 +; aol mail ...</td>\n",
       "    </tr>\n",
       "    <tr>\n",
       "      <th>1</th>\n",
       "      <td>9.0</td>\n",
       "      <td>45.521200</td>\n",
       "      <td>11.700000</td>\n",
       "      <td>12.016000</td>\n",
       "      <td>0.0</td>\n",
       "      <td>13.972000</td>\n",
       "      <td>13.1584</td>\n",
       "      <td>12.180</td>\n",
       "      <td>8.463200</td>\n",
       "      <td>483</td>\n",
       "      <td>...</td>\n",
       "      <td>0.41</td>\n",
       "      <td>0.21</td>\n",
       "      <td>0.21</td>\n",
       "      <td>0.21</td>\n",
       "      <td>0.21</td>\n",
       "      <td>0.41</td>\n",
       "      <td>0.41</td>\n",
       "      <td>0.41</td>\n",
       "      <td>0.21</td>\n",
       "      <td>2009 sunday 22 le 20 november 26 h e cest un e...</td>\n",
       "    </tr>\n",
       "    <tr>\n",
       "      <th>2</th>\n",
       "      <td>9.0</td>\n",
       "      <td>63.118400</td>\n",
       "      <td>9.236000</td>\n",
       "      <td>10.264400</td>\n",
       "      <td>0.0</td>\n",
       "      <td>11.060000</td>\n",
       "      <td>10.1776</td>\n",
       "      <td>11.440</td>\n",
       "      <td>6.477600</td>\n",
       "      <td>483</td>\n",
       "      <td>...</td>\n",
       "      <td>0.00</td>\n",
       "      <td>0.21</td>\n",
       "      <td>0.21</td>\n",
       "      <td>0.21</td>\n",
       "      <td>0.21</td>\n",
       "      <td>0.62</td>\n",
       "      <td>0.41</td>\n",
       "      <td>0.21</td>\n",
       "      <td>0.21</td>\n",
       "      <td>australia mexico vietnam philippines canada br...</td>\n",
       "    </tr>\n",
       "    <tr>\n",
       "      <th>3</th>\n",
       "      <td>9.0</td>\n",
       "      <td>46.265200</td>\n",
       "      <td>11.748000</td>\n",
       "      <td>12.496000</td>\n",
       "      <td>0.0</td>\n",
       "      <td>14.224000</td>\n",
       "      <td>14.2600</td>\n",
       "      <td>12.840</td>\n",
       "      <td>7.620400</td>\n",
       "      <td>498</td>\n",
       "      <td>...</td>\n",
       "      <td>0.20</td>\n",
       "      <td>0.20</td>\n",
       "      <td>0.80</td>\n",
       "      <td>0.20</td>\n",
       "      <td>0.20</td>\n",
       "      <td>0.00</td>\n",
       "      <td>0.20</td>\n",
       "      <td>0.00</td>\n",
       "      <td>0.20</td>\n",
       "      <td>2017 10 november 25 september 11 years later l...</td>\n",
       "    </tr>\n",
       "    <tr>\n",
       "      <th>4</th>\n",
       "      <td>9.0</td>\n",
       "      <td>76.644500</td>\n",
       "      <td>7.425000</td>\n",
       "      <td>9.033500</td>\n",
       "      <td>0.0</td>\n",
       "      <td>7.300000</td>\n",
       "      <td>5.5955</td>\n",
       "      <td>10.550</td>\n",
       "      <td>4.569500</td>\n",
       "      <td>392</td>\n",
       "      <td>...</td>\n",
       "      <td>0.26</td>\n",
       "      <td>0.26</td>\n",
       "      <td>1.02</td>\n",
       "      <td>2.55</td>\n",
       "      <td>0.77</td>\n",
       "      <td>0.77</td>\n",
       "      <td>1.02</td>\n",
       "      <td>0.51</td>\n",
       "      <td>0.26</td>\n",
       "      <td>2 billion dollars per capita rate rose sharply...</td>\n",
       "    </tr>\n",
       "  </tbody>\n",
       "</table>\n",
       "<p>5 rows × 103 columns</p>\n",
       "</div>"
      ],
      "text/plain": [
       "   UID  Flesch Reading Ease  Flesch-Kincaid  Fog Scale  SMOG Index  \\\n",
       "0  9.0            45.172917       11.845833  12.394583         0.0   \n",
       "1  9.0            45.521200       11.700000  12.016000         0.0   \n",
       "2  9.0            63.118400        9.236000  10.264400         0.0   \n",
       "3  9.0            46.265200       11.748000  12.496000         0.0   \n",
       "4  9.0            76.644500        7.425000   9.033500         0.0   \n",
       "\n",
       "   Automated Readability Index  Coleman-Liau Index  Linsear Write Formula  \\\n",
       "0                    14.341667             14.3775                 12.375   \n",
       "1                    13.972000             13.1584                 12.180   \n",
       "2                    11.060000             10.1776                 11.440   \n",
       "3                    14.224000             14.2600                 12.840   \n",
       "4                     7.300000              5.5955                 10.550   \n",
       "\n",
       "   Dale-Chall Readability Score   WC  ...  Colon  SemiC  QMark  Exclam  Dash  \\\n",
       "0                      8.346667  475  ...   0.21   0.21   0.42    0.21  0.21   \n",
       "1                      8.463200  483  ...   0.41   0.21   0.21    0.21  0.21   \n",
       "2                      6.477600  483  ...   0.00   0.21   0.21    0.21  0.21   \n",
       "3                      7.620400  498  ...   0.20   0.20   0.80    0.20  0.20   \n",
       "4                      4.569500  392  ...   0.26   0.26   1.02    2.55  0.77   \n",
       "\n",
       "   Quote  Apostro  Parenth  OtherP  \\\n",
       "0   1.05     0.84     0.42    0.21   \n",
       "1   0.41     0.41     0.41    0.21   \n",
       "2   0.62     0.41     0.21    0.21   \n",
       "3   0.00     0.20     0.00    0.20   \n",
       "4   0.77     1.02     0.51    0.26   \n",
       "\n",
       "                                            keywords  \n",
       "0  friend called ms word office pc 8 +; aol mail ...  \n",
       "1  2009 sunday 22 le 20 november 26 h e cest un e...  \n",
       "2  australia mexico vietnam philippines canada br...  \n",
       "3  2017 10 november 25 september 11 years later l...  \n",
       "4  2 billion dollars per capita rate rose sharply...  \n",
       "\n",
       "[5 rows x 103 columns]"
      ]
     },
     "execution_count": 225,
     "metadata": {},
     "output_type": "execute_result"
    }
   ],
   "source": [
    "combine.head()"
   ]
  },
  {
   "cell_type": "code",
   "execution_count": 238,
   "metadata": {},
   "outputs": [
    {
     "data": {
      "text/plain": [
       "(9594, 103)"
      ]
     },
     "execution_count": 238,
     "metadata": {},
     "output_type": "execute_result"
    }
   ],
   "source": [
    "combine.shape"
   ]
  },
  {
   "cell_type": "code",
   "execution_count": 244,
   "metadata": {},
   "outputs": [
    {
     "name": "stderr",
     "output_type": "stream",
     "text": [
      "C:\\Users\\Adaku\\Anaconda3\\lib\\site-packages\\sklearn\\linear_model\\_logistic.py:940: ConvergenceWarning: lbfgs failed to converge (status=1):\n",
      "STOP: TOTAL NO. of ITERATIONS REACHED LIMIT.\n",
      "\n",
      "Increase the number of iterations (max_iter) or scale the data as shown in:\n",
      "    https://scikit-learn.org/stable/modules/preprocessing.html\n",
      "Please also refer to the documentation for alternative solver options:\n",
      "    https://scikit-learn.org/stable/modules/linear_model.html#logistic-regression\n",
      "  extra_warning_msg=_LOGISTIC_SOLVER_CONVERGENCE_MSG)\n",
      "C:\\Users\\Adaku\\Anaconda3\\lib\\site-packages\\sklearn\\base.py:197: FutureWarning: From version 0.24, get_params will raise an AttributeError if a parameter cannot be retrieved as an instance attribute. Previously it would return None.\n",
      "  FutureWarning)\n"
     ]
    },
    {
     "data": {
      "image/png": "[encoded data removed]",
      "text/plain": [
       "<Figure size 576x396 with 1 Axes>"
      ]
     },
     "metadata": {},
     "output_type": "display_data"
    },
    {
     "name": "stdout",
     "output_type": "stream",
     "text": [
      "              precision    recall  f1-score   support\n",
      "\n",
      "        ctrl     0.9905    0.9812    0.9858       213\n",
      "         gpt     0.9816    1.0000    0.9907       213\n",
      "        gpt2     0.5738    0.6355    0.6031       214\n",
      "      grover     0.6035    0.6432    0.6227       213\n",
      "         xlm     1.0000    0.9859    0.9929       213\n",
      "       xlnet     0.9951    0.9624    0.9785       213\n",
      "        pplm     0.8222    0.6916    0.7513       214\n",
      "       human     0.7196    0.7230    0.7213       213\n",
      "        fair     0.6083    0.6197    0.6140       213\n",
      "\n",
      "    accuracy                         0.8046      1919\n",
      "   macro avg     0.8105    0.8047    0.8067      1919\n",
      "weighted avg     0.8104    0.8046    0.8066      1919\n",
      "\n",
      "confusion matrix:  [0.98122066 1.         0.63551402 0.64319249 0.98591549 0.96244131\n",
      " 0.69158879 0.72300469 0.61971831]\n",
      "Accuracy: 0.8045857217300677\n",
      "Recall:  0.8047328623871997\n",
      "Precision:  0.8105267768003246\n",
      "F1: 0.8067044781932784\n"
     ]
    },
    {
     "data": {
      "text/plain": [
       "(LogisticRegression(C=1.0, class_weight=None, dual=False, fit_intercept=True,\n",
       "                    intercept_scaling=1, l1_ratio=None, max_iter=100,\n",
       "                    multi_class='auto', n_jobs=None, penalty='l2',\n",
       "                    random_state=None, solver='lbfgs', tol=0.0001, verbose=0,\n",
       "                    warm_start=False),\n",
       " TfidfVectorizer(analyzer='word', binary=False, decode_error='strict',\n",
       "                 dtype=<class 'numpy.float64'>, encoding='utf-8',\n",
       "                 input='content', lowercase=True, max_df=1.0, max_features=None,\n",
       "                 min_df=1, ngram_range=(1, 1), norm='l2', preprocessor=None,\n",
       "                 smooth_idf=True, stop_words=None, strip_accents=None,\n",
       "                 sublinear_tf=False, token_pattern='(?u)\\\\b\\\\w\\\\w+\\\\b',\n",
       "                 tokenizer=None, use_idf=True, vocabulary=None))"
      ]
     },
     "execution_count": 244,
     "metadata": {},
     "output_type": "execute_result"
    }
   ],
   "source": [
    "classify(data = keywords, label = data['class'])"
   ]
  },
  {
   "cell_type": "code",
   "execution_count": null,
   "metadata": {},
   "outputs": [],
   "source": []
  },
  {
   "cell_type": "code",
   "execution_count": 120,
   "metadata": {},
   "outputs": [
    {
     "ename": "ModuleNotFoundError",
     "evalue": "No module named 'grammar_check'",
     "output_type": "error",
     "traceback": [
      "\u001b[1;31m---------------------------------------------------------------------------\u001b[0m",
      "\u001b[1;31mModuleNotFoundError\u001b[0m                       Traceback (most recent call last)",
      "\u001b[1;32m<ipython-input-120-3cb8dd0f7c59>\u001b[0m in \u001b[0;36m<module>\u001b[1;34m\u001b[0m\n\u001b[1;32m----> 1\u001b[1;33m \u001b[1;32mimport\u001b[0m \u001b[0mgrammar_check\u001b[0m\u001b[1;33m\u001b[0m\u001b[1;33m\u001b[0m\u001b[0m\n\u001b[0m\u001b[0;32m      2\u001b[0m \u001b[0mtool\u001b[0m \u001b[1;33m=\u001b[0m \u001b[0mgrammar_check\u001b[0m\u001b[1;33m.\u001b[0m\u001b[0mLanguageTool\u001b[0m\u001b[1;33m(\u001b[0m\u001b[1;34m'en-GB'\u001b[0m\u001b[1;33m)\u001b[0m\u001b[1;33m\u001b[0m\u001b[1;33m\u001b[0m\u001b[0m\n\u001b[0;32m      3\u001b[0m \u001b[0mtext\u001b[0m \u001b[1;33m=\u001b[0m \u001b[1;34m'This are bad.'\u001b[0m\u001b[1;33m\u001b[0m\u001b[1;33m\u001b[0m\u001b[0m\n\u001b[0;32m      4\u001b[0m \u001b[0mmatches\u001b[0m \u001b[1;33m=\u001b[0m \u001b[0mtool\u001b[0m\u001b[1;33m.\u001b[0m\u001b[0mcheck\u001b[0m\u001b[1;33m(\u001b[0m\u001b[0mtext\u001b[0m\u001b[1;33m)\u001b[0m\u001b[1;33m\u001b[0m\u001b[1;33m\u001b[0m\u001b[0m\n",
      "\u001b[1;31mModuleNotFoundError\u001b[0m: No module named 'grammar_check'"
     ]
    }
   ],
   "source": [
    "import grammar_check\n",
    "tool = grammar_check.LanguageTool('en-GB')\n",
    "text = 'This are bad.'\n",
    "matches = tool.check(text)"
   ]
  },
  {
   "cell_type": "code",
   "execution_count": 126,
   "metadata": {},
   "outputs": [
    {
     "data": {
      "text/plain": [
       "2"
      ]
     },
     "execution_count": 126,
     "metadata": {},
     "output_type": "execute_result"
    }
   ],
   "source": [
    "import language_check\n",
    "tool = language_check.LanguageTool('en-US')\n",
    "text = u'A sentence with a error in the Hitchhiker’s Guide tot he Galaxy'\n",
    "matches = tool.check(text)\n",
    "len(matches)"
   ]
  },
  {
   "cell_type": "code",
   "execution_count": null,
   "metadata": {},
   "outputs": [],
   "source": []
  },
  {
   "cell_type": "code",
   "execution_count": 134,
   "metadata": {},
   "outputs": [
    {
     "data": {
      "text/plain": [
       "[Match({'fromy': 0, 'fromx': 16, 'toy': 0, 'tox': 17, 'ruleId': 'EN_A_VS_AN', 'msg': \"Use 'an' instead of 'a' if the following word starts with a vowel sound, e.g. 'an article', 'an hour'\", 'replacements': ['an'], 'context': 'A sentence with a error in the Hitchhiker’s Guide tot he ...', 'contextoffset': 16, 'offset': 16, 'errorlength': 1, 'category': 'Miscellaneous', 'locqualityissuetype': 'misspelling'}),\n",
       " Match({'fromy': 0, 'fromx': 50, 'toy': 0, 'tox': 56, 'ruleId': 'TOT_HE', 'subId': '1', 'msg': \"Did you mean 'to the'?\", 'replacements': ['to the'], 'context': '... with a error in the Hitchhiker’s Guide tot he Galaxy', 'contextoffset': 43, 'offset': 50, 'errorlength': 6, 'category': 'Possible Typo', 'locqualityissuetype': 'misspelling'})]"
      ]
     },
     "execution_count": 134,
     "metadata": {},
     "output_type": "execute_result"
    }
   ],
   "source": [
    "matches"
   ]
  },
  {
   "cell_type": "code",
   "execution_count": 136,
   "metadata": {},
   "outputs": [
    {
     "data": {
      "text/plain": [
       "'A sentence with an error in the Hitchhiker’s Guide to the Galaxy'"
      ]
     },
     "execution_count": 136,
     "metadata": {},
     "output_type": "execute_result"
    }
   ],
   "source": [
    "language_check.correct(text, matches)"
   ]
  },
  {
   "cell_type": "code",
   "execution_count": null,
   "metadata": {},
   "outputs": [],
   "source": []
  },
  {
   "cell_type": "code",
   "execution_count": 139,
   "metadata": {},
   "outputs": [],
   "source": [
    "def get_gen(name):\n",
    "    token_word = []\n",
    "    gen = data[data['class'] == name]['text']\n",
    "    \n",
    "    for i in gen:\n",
    "        token_word.append(sent_tokenize(i))\n",
    "    \n",
    "    return token_word"
   ]
  },
  {
   "cell_type": "code",
   "execution_count": 140,
   "metadata": {},
   "outputs": [],
   "source": [
    "gpt = get_gen('gpt')"
   ]
  },
  {
   "cell_type": "code",
   "execution_count": 164,
   "metadata": {},
   "outputs": [
    {
     "data": {
      "text/plain": [
       "7178112"
      ]
     },
     "execution_count": 164,
     "metadata": {},
     "output_type": "execute_result"
    }
   ],
   "source": [
    "len(gpt[1][1])*len(gpt_error)"
   ]
  },
  {
   "cell_type": "code",
   "execution_count": 146,
   "metadata": {},
   "outputs": [],
   "source": [
    "def error_count(text):\n",
    "    error = []\n",
    "    for i in text:\n",
    "        for j in i:\n",
    "            matches = tool.check(j)\n",
    "            error.append(len(matches))\n",
    "    return error"
   ]
  },
  {
   "cell_type": "code",
   "execution_count": 147,
   "metadata": {},
   "outputs": [],
   "source": [
    "gpt_error = error_count(gpt)"
   ]
  },
  {
   "cell_type": "code",
   "execution_count": 167,
   "metadata": {},
   "outputs": [
    {
     "data": {
      "text/plain": [
       "1.3879972895379733"
      ]
     },
     "execution_count": 167,
     "metadata": {},
     "output_type": "execute_result"
    }
   ],
   "source": [
    "sum(gpt_error)/(len(gpt[1][1])*len(gpt_error)) * 100"
   ]
  },
  {
   "cell_type": "code",
   "execution_count": 151,
   "metadata": {},
   "outputs": [
    {
     "data": {
      "text/plain": [
       "5"
      ]
     },
     "execution_count": 151,
     "metadata": {},
     "output_type": "execute_result"
    }
   ],
   "source": [
    "gpt_error[2]"
   ]
  },
  {
   "cell_type": "code",
   "execution_count": 153,
   "metadata": {},
   "outputs": [],
   "source": [
    "ctrl = get_gen('ctrl')\n",
    "ctrl_error = error_count(ctrl)"
   ]
  },
  {
   "cell_type": "code",
   "execution_count": 170,
   "metadata": {},
   "outputs": [
    {
     "data": {
      "text/plain": [
       "2.117109525961343"
      ]
     },
     "execution_count": 170,
     "metadata": {},
     "output_type": "execute_result"
    }
   ],
   "source": [
    "sum(ctrl_error)/(len(ctrl[1][1])*len(ctrl_error)) * 100"
   ]
  },
  {
   "cell_type": "code",
   "execution_count": 155,
   "metadata": {},
   "outputs": [
    {
     "data": {
      "text/plain": [
       "11.473374175306315"
      ]
     },
     "execution_count": 155,
     "metadata": {},
     "output_type": "execute_result"
    }
   ],
   "source": [
    "xlm = get_gen('xlm')\n",
    "xlm_error = error_count(xlm)\n",
    "sum(xlm_error)/len(xlm_error)"
   ]
  },
  {
   "cell_type": "code",
   "execution_count": 180,
   "metadata": {},
   "outputs": [
    {
     "data": {
      "text/plain": [
       "'accidents dammit -helpless although already as soon sad dead eh great better alas somebody times twice?+- accident illness either painfully whatever born lives old unhappy anybody deaths awhile alike later elderly eternal with ordinarily middle-aged babies alive happily nobody murdered by accidentally young suicide older oldc orphan birth ill orphans killed wellperagaingone \"sudden killing indeed forgotten unmorestillbirths sick fatal homeless newborn revenge nevernew finally fucking bloody weird murder happy wars unlikely who normal crying murders violent violence mourning mad dangerous end sleeping bankrupt madness rich hell game tragedy refuck stupid insane going fights angry alone slaughter wrong fear unfair guilty short nervous calm backwards dad none unexpected down emotions losing kill fair depression defect glad kills mood killings sleep vengeance sabotage lucky useless brave frightened cheating hate apart stealing remorse bond sane war meat nasty winning scared funeral guilt reward loss break contest doping punishment sacrifice any norm deep fun coincidence fast expression go dream failure feat cold flashback becoming cat gofeeling weight syndrome trauma mental suspicious rare someone excited wish'"
      ]
     },
     "execution_count": 180,
     "metadata": {},
     "output_type": "execute_result"
    }
   ],
   "source": [
    "xlm[1][5]"
   ]
  },
  {
   "cell_type": "code",
   "execution_count": 182,
   "metadata": {},
   "outputs": [
    {
     "data": {
      "text/plain": [
       "14.709454070905531"
      ]
     },
     "execution_count": 182,
     "metadata": {},
     "output_type": "execute_result"
    }
   ],
   "source": [
    "sum(xlm_error)/(len(xlm[1][1])*len(xlm_error)) * 100"
   ]
  },
  {
   "cell_type": "code",
   "execution_count": 156,
   "metadata": {},
   "outputs": [
    {
     "data": {
      "text/plain": [
       "6.679716629381059"
      ]
     },
     "execution_count": 156,
     "metadata": {},
     "output_type": "execute_result"
    }
   ],
   "source": [
    "xlnet = get_gen('xlnet')\n",
    "xlnet_error = error_count(xlnet)\n",
    "sum(xlnet_error)/len(xlnet_error)"
   ]
  },
  {
   "cell_type": "code",
   "execution_count": 172,
   "metadata": {},
   "outputs": [
    {
     "data": {
      "text/plain": [
       "0.6173490415324454"
      ]
     },
     "execution_count": 172,
     "metadata": {},
     "output_type": "execute_result"
    }
   ],
   "source": [
    "sum(xlnet_error)/(len(xlnet[1][1]) * len(xlnet_error)) * 100"
   ]
  },
  {
   "cell_type": "code",
   "execution_count": 157,
   "metadata": {},
   "outputs": [
    {
     "data": {
      "text/plain": [
       "2.8698208915024463"
      ]
     },
     "execution_count": 157,
     "metadata": {},
     "output_type": "execute_result"
    }
   ],
   "source": [
    "gpt2 = get_gen('gpt2')\n",
    "gpt2_error = error_count(gpt2)\n",
    "sum(gpt2_error)/len(gpt2_error)"
   ]
  },
  {
   "cell_type": "code",
   "execution_count": 173,
   "metadata": {},
   "outputs": [
    {
     "data": {
      "text/plain": [
       "1.6032518946941041"
      ]
     },
     "execution_count": 173,
     "metadata": {},
     "output_type": "execute_result"
    }
   ],
   "source": [
    "sum(gpt2_error)/(len(gpt2[1][1]) * len(gpt2_error)) * 100"
   ]
  },
  {
   "cell_type": "code",
   "execution_count": 159,
   "metadata": {},
   "outputs": [
    {
     "data": {
      "text/plain": [
       "8.336270555383184"
      ]
     },
     "execution_count": 159,
     "metadata": {},
     "output_type": "execute_result"
    }
   ],
   "source": [
    "pplm = get_gen('pplm')\n",
    "pplm_error = error_count(pplm)\n",
    "sum(pplm_error)/len(pplm_error)"
   ]
  },
  {
   "cell_type": "code",
   "execution_count": 174,
   "metadata": {},
   "outputs": [
    {
     "data": {
      "text/plain": [
       "2.654863234198466"
      ]
     },
     "execution_count": 174,
     "metadata": {},
     "output_type": "execute_result"
    }
   ],
   "source": [
    "sum(pplm_error)/(len(pplm[1][1]) * len(pplm_error)) * 100"
   ]
  },
  {
   "cell_type": "code",
   "execution_count": 160,
   "metadata": {},
   "outputs": [
    {
     "data": {
      "text/plain": [
       "3.256856696107848"
      ]
     },
     "execution_count": 160,
     "metadata": {},
     "output_type": "execute_result"
    }
   ],
   "source": [
    "grover = get_gen('grover')\n",
    "grover_error = error_count(grover)\n",
    "sum(grover_error)/len(grover_error)"
   ]
  },
  {
   "cell_type": "code",
   "execution_count": 175,
   "metadata": {},
   "outputs": [
    {
     "data": {
      "text/plain": [
       "1.2872951368015209"
      ]
     },
     "execution_count": 175,
     "metadata": {},
     "output_type": "execute_result"
    }
   ],
   "source": [
    "sum(grover_error)/(len(grover[1][1]) * len(grover_error)) * 100"
   ]
  },
  {
   "cell_type": "code",
   "execution_count": 161,
   "metadata": {},
   "outputs": [
    {
     "data": {
      "text/plain": [
       "0.8318343722172752"
      ]
     },
     "execution_count": 161,
     "metadata": {},
     "output_type": "execute_result"
    }
   ],
   "source": [
    "fair = get_gen('fair')\n",
    "fair_error = error_count(fair)\n",
    "sum(fair_error)/len(fair_error)"
   ]
  },
  {
   "cell_type": "code",
   "execution_count": 176,
   "metadata": {},
   "outputs": [
    {
     "data": {
      "text/plain": [
       "0.3287882894139428"
      ]
     },
     "execution_count": 176,
     "metadata": {},
     "output_type": "execute_result"
    }
   ],
   "source": [
    "sum(fair_error)/(len(grover[1][1]) * len(fair_error)) * 100"
   ]
  },
  {
   "cell_type": "code",
   "execution_count": 162,
   "metadata": {},
   "outputs": [
    {
     "data": {
      "text/plain": [
       "3.0528921255857955"
      ]
     },
     "execution_count": 162,
     "metadata": {},
     "output_type": "execute_result"
    }
   ],
   "source": [
    "human = get_gen('human')\n",
    "human_error = error_count(human)\n",
    "sum(human_error)/len(human_error)"
   ]
  },
  {
   "cell_type": "code",
   "execution_count": 177,
   "metadata": {},
   "outputs": [
    {
     "data": {
      "text/plain": [
       "1.1652260021319831"
      ]
     },
     "execution_count": 177,
     "metadata": {},
     "output_type": "execute_result"
    }
   ],
   "source": [
    "sum(human_error)/(len(human[1][1]) * len(human_error)) * 100"
   ]
  },
  {
   "cell_type": "code",
   "execution_count": null,
   "metadata": {},
   "outputs": [],
   "source": []
  }
 ],
 "metadata": {
  "kernelspec": {
   "display_name": "Python 3",
   "language": "python",
   "name": "python3"
  },
  "language_info": {
   "codemirror_mode": {
    "name": "ipython",
    "version": 3
   },
   "file_extension": ".py",
   "mimetype": "text/x-python",
   "name": "python",
   "nbconvert_exporter": "python",
   "pygments_lexer": "ipython3",
   "version": "3.7.1"
  }
 },
 "nbformat": 4,
 "nbformat_minor": 4
}
