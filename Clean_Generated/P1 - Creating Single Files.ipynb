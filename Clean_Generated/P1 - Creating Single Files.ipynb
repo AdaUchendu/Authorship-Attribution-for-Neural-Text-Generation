{
 "cells": [
  {
   "cell_type": "code",
   "execution_count": 1,
   "metadata": {},
   "outputs": [],
   "source": [
    "import pandas as pd\n",
    "import numpy as np\n"
   ]
  },
  {
   "cell_type": "markdown",
   "metadata": {},
   "source": [
    "# Load Dataset"
   ]
  },
  {
   "cell_type": "code",
   "execution_count": 2,
   "metadata": {},
   "outputs": [],
   "source": [
    "ctrl = pd.read_csv('C:\\\\Users\\\\Adaku\\OneDrive - UMBC\\\\Authorship Attribution\\\\Clean_Generated\\\\Single\\\\new_ctrl.csv')\n",
    "gpt = pd.read_csv('C:\\\\Users\\\\Adaku\\OneDrive - UMBC\\\\Authorship Attribution\\\\Clean_Generated\\\\Single\\\\new_gpt.csv')\n",
    "gpt2 = pd.read_csv('C:\\\\Users\\\\Adaku\\OneDrive - UMBC\\\\Authorship Attribution\\\\Clean_Generated\\\\Single\\\\new_gpt2.csv')\n",
    "\n",
    "grover = pd.read_csv('C:\\\\Users\\\\Adaku\\OneDrive - UMBC\\\\Authorship Attribution\\\\Clean_Generated\\\\Single\\\\new_grover.csv')\n",
    "xlm = pd.read_csv('C:\\\\Users\\\\Adaku\\OneDrive - UMBC\\\\Authorship Attribution\\\\Clean_Generated\\\\Single\\\\new_xlm.csv')\n",
    "xlnet = pd.read_csv('C:\\\\Users\\\\Adaku\\OneDrive - UMBC\\\\Authorship Attribution\\\\Clean_Generated\\\\Single\\\\new_xlnet.csv')\n",
    "\n",
    "pplm = pd.read_csv('C:\\\\Users\\\\Adaku\\OneDrive - UMBC\\\\Authorship Attribution\\\\Clean_Generated\\\\Single\\\\new_pplm.csv')\n",
    "human = pd.read_csv('C:\\\\Users\\\\Adaku\\OneDrive - UMBC\\\\Authorship Attribution\\\\Clean_Generated\\\\Single\\\\new_human.csv')\n",
    "fair = pd.read_csv('C:\\\\Users\\\\Adaku\\OneDrive - UMBC\\\\Authorship Attribution\\\\Clean_Generated\\\\Single\\\\new_fair.csv')"
   ]
  },
  {
   "cell_type": "code",
   "execution_count": 3,
   "metadata": {},
   "outputs": [
    {
     "data": {
      "text/plain": [
       "Index(['Unnamed: 0', 'Generation', 'label'], dtype='object')"
      ]
     },
     "execution_count": 3,
     "metadata": {},
     "output_type": "execute_result"
    }
   ],
   "source": [
    "ctrl.columns"
   ]
  },
  {
   "cell_type": "code",
   "execution_count": null,
   "metadata": {},
   "outputs": [],
   "source": []
  },
  {
   "cell_type": "markdown",
   "metadata": {},
   "source": [
    "# Data Preparation "
   ]
  },
  {
   "cell_type": "code",
   "execution_count": 4,
   "metadata": {},
   "outputs": [],
   "source": [
    "random_binary_t2 = pd.concat([human.sample(1066), ctrl.sample(1066), gpt.sample(1066), gpt2.sample(1066), grover.sample(1066), \n",
    "                              xlm.sample(1066), xlnet.sample(1066), pplm.sample(1066), fair.sample(1066), ctrl.sample(1066), \n",
    "                              gpt.sample(1066), gpt2.sample(1066), grover.sample(1066), xlm.sample(1066), xlnet.sample(1066), \n",
    "                              pplm.sample(1066), fair.sample(1066), human.sample(1066), ctrl.sample(1066), human.sample(1066), \n",
    "                              gpt2.sample(1066), gpt.sample(1066), grover.sample(1066), xlm.sample(1066), xlnet.sample(1066), \n",
    "                              pplm.sample(1066), fair.sample(1066), human.sample(1066), ctrl.sample(1066), gpt.sample(1066), \n",
    "                              gpt2.sample(1066), grover.sample(1066), xlm.sample(1066), xlnet.sample(1066), pplm.sample(1066), \n",
    "                              fair.sample(1066), human.sample(1066), ctrl.sample(1066), gpt.sample(1066), gpt2.sample(1066), \n",
    "                              grover.sample(1066), xlm.sample(1066), xlnet.sample(1066), pplm.sample(1066), fair.sample(1066), \n",
    "                              human.sample(1066), ctrl.sample(1066), gpt.sample(1066), gpt2.sample(1066), grover.sample(1066), \n",
    "                              xlm.sample(1066), xlnet.sample(1066), pplm.sample(1066), fair.sample(1066), human.sample(1066), \n",
    "                              ctrl.sample(1066), gpt.sample(1066), gpt2, grover.sample(1066), xlm.sample(1066), xlnet.sample(1066), \n",
    "                              pplm.sample(1066), fair.sample(1066), human.sample(1066), ctrl.sample(1066), \n",
    "                          gpt.sample(1066), gpt2.sample(1066), grover.sample(1066), xlm.sample(1066), xlnet.sample(1066), pplm.sample(1066), \n",
    "                              fair.sample(1066), human.sample(1066), ctrl.sample(1066), gpt.sample(1066), gpt2.sample(1066), \n",
    "                              grover.sample(1066), xlm.sample(1066), xlnet.sample(1066), pplm.sample(1066), fair.sample(1066)])"
   ]
  },
  {
   "cell_type": "code",
   "execution_count": 5,
   "metadata": {},
   "outputs": [],
   "source": [
    "random_binary_t1 = pd.concat([human,human, human, human, human, human, human, human, human, ctrl, ctrl, ctrl, ctrl, ctrl, ctrl,\n",
    "                             ctrl, ctrl, ctrl, gpt, gpt, gpt, gpt, gpt, gpt, gpt, gpt, gpt, gpt2, gpt2, gpt2, gpt2, gpt2, gpt2,\n",
    "                             gpt2, gpt2, gpt2, grover, grover, grover, grover, grover, grover, grover, grover, grover, xlm, xlm, \n",
    "                             xlm, xlm, xlm, xlm, xlm, xlm, xlm, xlnet, xlnet, xlnet, xlnet, xlnet, xlnet, xlnet, xlnet, xlnet, \n",
    "                             pplm, pplm, pplm, pplm, pplm, pplm, pplm, pplm, pplm, fair, fair, fair, fair, fair, fair, fair, fair, fair ])"
   ]
  },
  {
   "cell_type": "code",
   "execution_count": 7,
   "metadata": {},
   "outputs": [
    {
     "data": {
      "text/plain": [
       "True"
      ]
     },
     "execution_count": 7,
     "metadata": {},
     "output_type": "execute_result"
    }
   ],
   "source": [
    "len(random_binary_t1) == len(random_binary_t2)"
   ]
  },
  {
   "cell_type": "code",
   "execution_count": 8,
   "metadata": {},
   "outputs": [
    {
     "data": {
      "text/plain": [
       "86346"
      ]
     },
     "execution_count": 8,
     "metadata": {},
     "output_type": "execute_result"
    }
   ],
   "source": [
    "len(random_binary_t1)"
   ]
  },
  {
   "cell_type": "code",
   "execution_count": 9,
   "metadata": {},
   "outputs": [
    {
     "data": {
      "text/html": [
       "<div>\n",
       "<style scoped>\n",
       "    .dataframe tbody tr th:only-of-type {\n",
       "        vertical-align: middle;\n",
       "    }\n",
       "\n",
       "    .dataframe tbody tr th {\n",
       "        vertical-align: top;\n",
       "    }\n",
       "\n",
       "    .dataframe thead th {\n",
       "        text-align: right;\n",
       "    }\n",
       "</style>\n",
       "<table border=\"1\" class=\"dataframe\">\n",
       "  <thead>\n",
       "    <tr style=\"text-align: right;\">\n",
       "      <th></th>\n",
       "      <th>Unnamed: 0</th>\n",
       "      <th>Generation</th>\n",
       "      <th>label</th>\n",
       "    </tr>\n",
       "  </thead>\n",
       "  <tbody>\n",
       "    <tr>\n",
       "      <th>1000</th>\n",
       "      <td>1000</td>\n",
       "      <td>Perimenopause: 'I went from triathlon training...</td>\n",
       "      <td>human</td>\n",
       "    </tr>\n",
       "    <tr>\n",
       "      <th>843</th>\n",
       "      <td>843</td>\n",
       "      <td>Salt-and-Pepper Roast Chicken Recipe calling f...</td>\n",
       "      <td>human</td>\n",
       "    </tr>\n",
       "    <tr>\n",
       "      <th>489</th>\n",
       "      <td>489</td>\n",
       "      <td>Source: Trump is concerned about coming into c...</td>\n",
       "      <td>human</td>\n",
       "    </tr>\n",
       "    <tr>\n",
       "      <th>514</th>\n",
       "      <td>514</td>\n",
       "      <td>20 best things to do in Kenya cnn folks who ha...</td>\n",
       "      <td>human</td>\n",
       "    </tr>\n",
       "    <tr>\n",
       "      <th>966</th>\n",
       "      <td>966</td>\n",
       "      <td>Market Data have your say</td>\n",
       "      <td>human</td>\n",
       "    </tr>\n",
       "  </tbody>\n",
       "</table>\n",
       "</div>"
      ],
      "text/plain": [
       "      Unnamed: 0                                         Generation  label\n",
       "1000        1000  Perimenopause: 'I went from triathlon training...  human\n",
       "843          843  Salt-and-Pepper Roast Chicken Recipe calling f...  human\n",
       "489          489  Source: Trump is concerned about coming into c...  human\n",
       "514          514  20 best things to do in Kenya cnn folks who ha...  human\n",
       "966          966                          Market Data have your say  human"
      ]
     },
     "execution_count": 9,
     "metadata": {},
     "output_type": "execute_result"
    }
   ],
   "source": [
    "random_binary_t2.head()"
   ]
  },
  {
   "cell_type": "code",
   "execution_count": 10,
   "metadata": {},
   "outputs": [],
   "source": [
    "new_label = [np.ones(len(human)), \n",
    "             np.zeros(8 * 1066), \n",
    "             np.ones(len(ctrl)), \n",
    "             np.zeros(11 * 1066), \n",
    "             np.ones(len(gpt)), \n",
    "             np.zeros(8 * 1066),\n",
    "             np.ones(len(gpt2)),\n",
    "             np.zeros(9 * 1066),\n",
    "             np.ones(len(grover)),\n",
    "             np.zeros(9 * 1066),\n",
    "             np.ones(len(xlm)),\n",
    "             np.zeros(9 * 1066),\n",
    "             np.ones(len(xlnet)),\n",
    "             np.zeros(9 * 1066),\n",
    "             np.ones(len(pplm)),\n",
    "             np.zeros(9 * 1066),\n",
    "             np.ones(len(fair))\n",
    "            ]"
   ]
  },
  {
   "cell_type": "code",
   "execution_count": 11,
   "metadata": {},
   "outputs": [],
   "source": [
    "flat_list = [item for sublist in new_label for item in sublist]\n",
    "\n"
   ]
  },
  {
   "cell_type": "code",
   "execution_count": 12,
   "metadata": {},
   "outputs": [
    {
     "data": {
      "text/plain": [
       "86346"
      ]
     },
     "execution_count": 12,
     "metadata": {},
     "output_type": "execute_result"
    }
   ],
   "source": [
    "len(flat_list)"
   ]
  },
  {
   "cell_type": "code",
   "execution_count": 13,
   "metadata": {},
   "outputs": [
    {
     "data": {
      "text/plain": [
       "86346"
      ]
     },
     "execution_count": 13,
     "metadata": {},
     "output_type": "execute_result"
    }
   ],
   "source": [
    "len(random_binary_t1)"
   ]
  },
  {
   "cell_type": "code",
   "execution_count": 14,
   "metadata": {},
   "outputs": [
    {
     "data": {
      "text/plain": [
       "86346"
      ]
     },
     "execution_count": 14,
     "metadata": {},
     "output_type": "execute_result"
    }
   ],
   "source": [
    "len(random_binary_t2)"
   ]
  },
  {
   "cell_type": "code",
   "execution_count": 16,
   "metadata": {},
   "outputs": [],
   "source": [
    "binary_random = pd.DataFrame({'T1': list(random_binary_t1['Generation']), 'T2': list(random_binary_t2['Generation']), 'class': flat_list})"
   ]
  },
  {
   "cell_type": "code",
   "execution_count": 17,
   "metadata": {},
   "outputs": [],
   "source": [
    "binary_random.to_csv('binary_random.csv')"
   ]
  },
  {
   "cell_type": "code",
   "execution_count": null,
   "metadata": {},
   "outputs": [],
   "source": []
  },
  {
   "cell_type": "markdown",
   "metadata": {},
   "source": [
    "# Create Balanced Dataset"
   ]
  },
  {
   "cell_type": "code",
   "execution_count": 18,
   "metadata": {},
   "outputs": [],
   "source": [
    "balance_T1 = pd.concat([human.sample(1066), ctrl.sample(133), pplm.sample(133), gpt.sample(134), gpt2.sample(133), grover.sample(134), \n",
    "                     xlm.sample(133), xlnet.sample(133), fair.sample(133), \n",
    "                       ctrl.sample(133), pplm.sample(133), gpt.sample(134), gpt2.sample(133), grover.sample(134), \n",
    "                     xlm.sample(133), xlnet.sample(133), fair.sample(133), human.sample(1066)])\n",
    "balance_T2 = pd.concat([human, human, ctrl.sample(133), pplm.sample(133), gpt.sample(134), gpt2.sample(133), grover.sample(134), \n",
    "                     xlm.sample(133), xlnet.sample(133), fair.sample(133), ctrl.sample(133), pplm.sample(133), gpt.sample(134), gpt2.sample(133), grover.sample(134), \n",
    "                     xlm.sample(133), xlnet.sample(133), fair.sample(133)])"
   ]
  },
  {
   "cell_type": "code",
   "execution_count": 19,
   "metadata": {},
   "outputs": [
    {
     "data": {
      "text/html": [
       "<div>\n",
       "<style scoped>\n",
       "    .dataframe tbody tr th:only-of-type {\n",
       "        vertical-align: middle;\n",
       "    }\n",
       "\n",
       "    .dataframe tbody tr th {\n",
       "        vertical-align: top;\n",
       "    }\n",
       "\n",
       "    .dataframe thead th {\n",
       "        text-align: right;\n",
       "    }\n",
       "</style>\n",
       "<table border=\"1\" class=\"dataframe\">\n",
       "  <thead>\n",
       "    <tr style=\"text-align: right;\">\n",
       "      <th></th>\n",
       "      <th>Unnamed: 0</th>\n",
       "      <th>Generation</th>\n",
       "      <th>label</th>\n",
       "    </tr>\n",
       "  </thead>\n",
       "  <tbody>\n",
       "    <tr>\n",
       "      <th>0</th>\n",
       "      <td>0</td>\n",
       "      <td>Latest Headlines on CNN Business the great shu...</td>\n",
       "      <td>human</td>\n",
       "    </tr>\n",
       "    <tr>\n",
       "      <th>1</th>\n",
       "      <td>1</td>\n",
       "      <td>China wants to take a victory lap over its han...</td>\n",
       "      <td>human</td>\n",
       "    </tr>\n",
       "    <tr>\n",
       "      <th>2</th>\n",
       "      <td>2</td>\n",
       "      <td>Coronavirus disinformation creates challenges ...</td>\n",
       "      <td>human</td>\n",
       "    </tr>\n",
       "    <tr>\n",
       "      <th>3</th>\n",
       "      <td>3</td>\n",
       "      <td>China coronavirus: Eating wild animals made il...</td>\n",
       "      <td>human</td>\n",
       "    </tr>\n",
       "    <tr>\n",
       "      <th>4</th>\n",
       "      <td>4</td>\n",
       "      <td>China's economy could shrink for the first tim...</td>\n",
       "      <td>human</td>\n",
       "    </tr>\n",
       "  </tbody>\n",
       "</table>\n",
       "</div>"
      ],
      "text/plain": [
       "   Unnamed: 0                                         Generation  label\n",
       "0           0  Latest Headlines on CNN Business the great shu...  human\n",
       "1           1  China wants to take a victory lap over its han...  human\n",
       "2           2  Coronavirus disinformation creates challenges ...  human\n",
       "3           3  China coronavirus: Eating wild animals made il...  human\n",
       "4           4  China's economy could shrink for the first tim...  human"
      ]
     },
     "execution_count": 19,
     "metadata": {},
     "output_type": "execute_result"
    }
   ],
   "source": [
    "balance_T2.head()"
   ]
  },
  {
   "cell_type": "code",
   "execution_count": 20,
   "metadata": {},
   "outputs": [],
   "source": [
    "balance_label = [np.ones(1066),\n",
    "                 np.zeros(1066), \n",
    "                 np.ones(1066), \n",
    "                np.zeros(1066)]"
   ]
  },
  {
   "cell_type": "code",
   "execution_count": 21,
   "metadata": {},
   "outputs": [],
   "source": [
    "balance_label = [item for sublist in balance_label for item in sublist]\n"
   ]
  },
  {
   "cell_type": "code",
   "execution_count": 22,
   "metadata": {},
   "outputs": [],
   "source": [
    "balanced_p1 = pd.DataFrame({'T1': list(balance_T1['Generation']), 'T2': list(balance_T2['Generation']), 'class': balance_label})"
   ]
  },
  {
   "cell_type": "code",
   "execution_count": 23,
   "metadata": {},
   "outputs": [],
   "source": [
    "balanced_p1.to_csv('balanced_p1.csv')"
   ]
  },
  {
   "cell_type": "markdown",
   "metadata": {},
   "source": [
    "# Random Binary Classification "
   ]
  },
  {
   "cell_type": "code",
   "execution_count": 63,
   "metadata": {},
   "outputs": [],
   "source": [
    "\n",
    "import numpy as np\n",
    "import pandas as pd \n",
    "from sklearn import metrics\n",
    "from sklearn.ensemble import RandomForestClassifier\n",
    "import nltk\n",
    "from sklearn.feature_extraction.text import TfidfVectorizer\n",
    "from sklearn.metrics import accuracy_score, f1_score\n",
    "from sklearn import metrics"
   ]
  },
  {
   "cell_type": "code",
   "execution_count": 64,
   "metadata": {},
   "outputs": [],
   "source": [
    "from sklearn.model_selection import train_test_split\n",
    "from sklearn.tree import DecisionTreeClassifier\n",
    "from sklearn.linear_model import LogisticRegression\n",
    "from sklearn.metrics import f1_score\n",
    "from sklearn.metrics import confusion_matrix\n"
   ]
  },
  {
   "cell_type": "code",
   "execution_count": 65,
   "metadata": {},
   "outputs": [],
   "source": [
    "from yellowbrick.classifier import ClassPredictionError\n",
    "from sklearn.metrics import recall_score\n",
    "from sklearn.metrics import precision_score\n"
   ]
  },
  {
   "cell_type": "code",
   "execution_count": 66,
   "metadata": {},
   "outputs": [],
   "source": [
    "def classify(data, label):\n",
    "            \n",
    "    data = data['T1'] + data['T2']\n",
    "        \n",
    "    X_train, X_test, y_train, y_test = train_test_split(data, label, stratify = label, test_size = 0.2, random_state = 1234)\n",
    "    \n",
    "    clf = RandomForestClassifier(random_state=1234,n_estimators=150,n_jobs=-1)    \n",
    "    v = TfidfVectorizer()\n",
    "    \n",
    "    train_corpus = X_train\n",
    "    test_corpus = X_test\n",
    "    \n",
    "    train_vector = v.fit_transform(train_corpus)\n",
    "    test_vector = v.transform(test_corpus)\n",
    "    \n",
    "    \n",
    "    fit = clf.fit(train_vector,y_train)\n",
    "    pred = clf.predict(test_vector)\n",
    "    \n",
    "    \n",
    "    Accuracy = accuracy_score(y_test,pred)\n",
    "    F1 = f1_score(y_test, pred, average='macro')\n",
    "    print(\"Accuracy:\", Accuracy)\n",
    "    print('F1:', F1)\n",
    "    \n",
    "    rec = recall_score(y_test, pred, average='macro')\n",
    "    print('Recall: ', rec)\n",
    "    prec = precision_score(y_test, pred, average='macro')\n",
    "    print('Precision: ', prec)\n",
    "    \n",
    "    \n",
    "    return y_test, pred"
   ]
  },
  {
   "cell_type": "code",
   "execution_count": 67,
   "metadata": {},
   "outputs": [
    {
     "name": "stdout",
     "output_type": "stream",
     "text": [
      "Accuracy: 0.5971896955503513\n",
      "F1: 0.5970106667837232\n",
      "Recall:  0.597242332499671\n",
      "Precision:  0.5974347137958322\n"
     ]
    },
    {
     "data": {
      "text/plain": [
       "(1263    0.0\n",
       " 983     1.0\n",
       " 870     1.0\n",
       " 1548    0.0\n",
       " 666     1.0\n",
       "        ... \n",
       " 93      1.0\n",
       " 794     1.0\n",
       " 2046    0.0\n",
       " 1443    0.0\n",
       " 425     1.0\n",
       " Name: class, Length: 427, dtype: float64,\n",
       " array([1., 1., 1., 1., 0., 0., 0., 1., 0., 1., 1., 0., 0., 0., 0., 1., 0.,\n",
       "        0., 1., 0., 0., 0., 0., 1., 1., 1., 0., 0., 1., 0., 0., 1., 0., 1.,\n",
       "        1., 0., 0., 1., 0., 1., 0., 0., 0., 1., 0., 0., 1., 1., 0., 0., 0.,\n",
       "        1., 1., 1., 0., 1., 1., 0., 0., 1., 0., 1., 1., 1., 1., 1., 0., 1.,\n",
       "        1., 1., 0., 0., 1., 0., 1., 0., 1., 0., 0., 0., 1., 1., 0., 0., 1.,\n",
       "        0., 1., 0., 0., 0., 1., 0., 0., 0., 1., 0., 0., 1., 0., 1., 1., 1.,\n",
       "        0., 1., 1., 1., 1., 1., 0., 0., 1., 1., 0., 1., 0., 1., 1., 1., 1.,\n",
       "        1., 1., 1., 0., 0., 1., 1., 1., 0., 0., 1., 0., 0., 1., 1., 0., 1.,\n",
       "        1., 0., 0., 0., 0., 1., 0., 1., 0., 1., 0., 1., 1., 1., 1., 0., 0.,\n",
       "        1., 0., 0., 0., 0., 0., 0., 0., 1., 1., 0., 0., 1., 0., 1., 0., 0.,\n",
       "        1., 0., 1., 1., 0., 0., 0., 0., 1., 1., 0., 1., 0., 0., 0., 0., 1.,\n",
       "        1., 0., 0., 1., 1., 1., 1., 0., 0., 1., 0., 1., 0., 0., 1., 1., 0.,\n",
       "        0., 1., 0., 0., 0., 0., 0., 1., 0., 1., 1., 1., 0., 1., 0., 0., 1.,\n",
       "        0., 0., 0., 0., 0., 0., 0., 1., 1., 1., 0., 0., 0., 1., 0., 1., 1.,\n",
       "        0., 0., 0., 0., 0., 1., 1., 1., 1., 0., 1., 0., 1., 0., 1., 0., 0.,\n",
       "        0., 1., 1., 1., 0., 0., 1., 1., 1., 0., 1., 0., 1., 1., 1., 1., 0.,\n",
       "        1., 1., 0., 0., 0., 0., 1., 0., 1., 0., 0., 0., 1., 1., 1., 1., 0.,\n",
       "        0., 0., 1., 1., 1., 0., 1., 1., 0., 0., 1., 1., 0., 0., 1., 1., 0.,\n",
       "        0., 0., 0., 1., 1., 0., 0., 0., 0., 0., 0., 0., 1., 1., 0., 0., 1.,\n",
       "        1., 1., 0., 0., 0., 1., 1., 0., 0., 0., 1., 1., 1., 0., 1., 1., 1.,\n",
       "        1., 1., 1., 0., 0., 0., 1., 0., 1., 0., 1., 1., 1., 1., 1., 1., 0.,\n",
       "        1., 0., 0., 1., 1., 1., 1., 0., 1., 1., 0., 0., 1., 1., 0., 1., 1.,\n",
       "        1., 0., 0., 1., 1., 0., 0., 0., 1., 0., 0., 1., 0., 0., 1., 0., 0.,\n",
       "        0., 0., 0., 1., 1., 0., 0., 0., 1., 1., 0., 0., 0., 0., 0., 1., 0.,\n",
       "        1., 1., 0., 1., 1., 0., 0., 0., 0., 1., 0., 0., 1., 0., 1., 0., 1.,\n",
       "        0., 1.]))"
      ]
     },
     "execution_count": 67,
     "metadata": {},
     "output_type": "execute_result"
    }
   ],
   "source": [
    "classify(balanced_p1[['T1', 'T2']], balanced_p1['class'])"
   ]
  },
  {
   "cell_type": "code",
   "execution_count": 68,
   "metadata": {},
   "outputs": [
    {
     "name": "stdout",
     "output_type": "stream",
     "text": [
      "Accuracy: 0.9236247828604517\n",
      "F1: 0.7322109164333426\n",
      "Recall:  0.6734300128427827\n",
      "Precision:  0.9123486682808717\n"
     ]
    },
    {
     "data": {
      "text/plain": [
       "(137    0.0\n",
       " 280    0.0\n",
       " 890    0.0\n",
       " 141    1.0\n",
       " 552    0.0\n",
       "       ... \n",
       " 898    0.0\n",
       " 602    0.0\n",
       " 530    0.0\n",
       " 186    1.0\n",
       " 855    0.0\n",
       " Name: class, Length: 17270, dtype: float64,\n",
       " array([0., 0., 0., ..., 0., 0., 0.]))"
      ]
     },
     "execution_count": 68,
     "metadata": {},
     "output_type": "execute_result"
    }
   ],
   "source": [
    "classify(binary_random[['T1', 'T2']], binary_random['class'])"
   ]
  },
  {
   "cell_type": "code",
   "execution_count": null,
   "metadata": {},
   "outputs": [],
   "source": []
  }
 ],
 "metadata": {
  "kernelspec": {
   "display_name": "Python 3",
   "language": "python",
   "name": "python3"
  },
  "language_info": {
   "codemirror_mode": {
    "name": "ipython",
    "version": 3
   },
   "file_extension": ".py",
   "mimetype": "text/x-python",
   "name": "python",
   "nbconvert_exporter": "python",
   "pygments_lexer": "ipython3",
   "version": "3.7.1"
  }
 },
 "nbformat": 4,
 "nbformat_minor": 4
}
